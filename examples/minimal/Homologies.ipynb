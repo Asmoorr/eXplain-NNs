{
 "cells": [
  {
   "cell_type": "code",
   "execution_count": 1,
   "metadata": {},
   "outputs": [],
   "source": [
    "import os\n",
    "os.chdir('..')"
   ]
  },
  {
   "cell_type": "code",
   "execution_count": 2,
   "metadata": {},
   "outputs": [],
   "source": [
    "from torchvision.datasets import MNIST\n",
    "import torch\n",
    "import torch.nn as nn\n",
    "import torchvision.transforms as TF\n",
    "from eXNN.InnerNeuralTopology import api"
   ]
  },
  {
   "cell_type": "code",
   "execution_count": 3,
   "metadata": {
    "scrolled": true
   },
   "outputs": [
    {
     "name": "stderr",
     "output_type": "stream",
     "text": [
      "C:\\ProgramData\\Anaconda3\\lib\\site-packages\\torchvision\\datasets\\mnist.py:498: UserWarning: The given NumPy array is not writeable, and PyTorch does not support non-writeable tensors. This means you can write to the underlying (supposedly non-writeable) NumPy array using the tensor. You may want to copy the array to protect its data or make it writeable before converting it to a tensor. This type of warning will be suppressed for the rest of this program. (Triggered internally at  ..\\torch\\csrc\\utils\\tensor_numpy.cpp:180.)\n",
      "  return torch.from_numpy(parsed.astype(m[2], copy=False)).view(*s)\n"
     ]
    }
   ],
   "source": [
    "train_ds = MNIST(root='./.cache', train=True, download=True, transform=TF.ToTensor()) \n",
    "test_ds = MNIST(root='./.cache', train=False, download=False, transform=TF.ToTensor())"
   ]
  },
  {
   "cell_type": "code",
   "execution_count": 4,
   "metadata": {},
   "outputs": [],
   "source": [
    "train_dl = torch.utils.data.DataLoader(train_ds, batch_size=36, shuffle=True)\n",
    "test_dl = torch.utils.data.DataLoader(test_ds, batch_size=36, shuffle=False)"
   ]
  },
  {
   "cell_type": "code",
   "execution_count": 5,
   "metadata": {},
   "outputs": [],
   "source": [
    "import torch.nn as nn\n",
    "class SimpleNN(nn.Module):\n",
    "    def __init__(self, input_dim, output_dim, hidden_dim, leaky_coef=0.1):\n",
    "        super(SimpleNN, self).__init__()\n",
    "        \n",
    "        self.layer1 = nn.Sequential(\n",
    "            nn.Linear(input_dim, hidden_dim),\n",
    "            nn.LeakyReLU(leaky_coef)\n",
    "        )\n",
    "        self.layer2 = nn.Sequential(\n",
    "            nn.Linear(hidden_dim, hidden_dim),\n",
    "            nn.LeakyReLU(leaky_coef)\n",
    "        )\n",
    "        self.layer3 = nn.Sequential(\n",
    "            nn.Linear(hidden_dim, output_dim)#,\n",
    "            #nn.Sigmoid()\n",
    "        )\n",
    "    \n",
    "    def forward(self, x):\n",
    "        x = nn.Flatten()(x)\n",
    "        x = self.layer1(x)\n",
    "        x = self.layer2(x)\n",
    "        x = self.layer3(x)\n",
    "        return x"
   ]
  },
  {
   "cell_type": "code",
   "execution_count": 6,
   "metadata": {},
   "outputs": [],
   "source": [
    "num_classes = 10\n",
    "model = SimpleNN(28*28, num_classes, 64)\n",
    "optimizer = torch.optim.Adam(model.parameters(), lr=1e-3)"
   ]
  },
  {
   "cell_type": "code",
   "execution_count": 7,
   "metadata": {},
   "outputs": [],
   "source": [
    "data = torch.stack([test_ds[i][0] for i in range(100)])\n",
    "res_unnorm_before = api.NetworkHomologies(model, data, layers = ['layer2'], hom_type = \"standard\", coefs_type = \"2\")"
   ]
  },
  {
   "cell_type": "code",
   "execution_count": 8,
   "metadata": {
    "scrolled": true
   },
   "outputs": [
    {
     "name": "stdout",
     "output_type": "stream",
     "text": [
      "Epoch 0 loss: 0.1818467527627945\n",
      "Epoch 1 loss: 0.0348515659570694\n",
      "Epoch 2 loss: 0.055760979652404785\n",
      "Epoch 3 loss: 0.19302596151828766\n",
      "Epoch 4 loss: 0.06088097393512726\n",
      "Epoch 5 loss: 0.011163261719048023\n",
      "Epoch 6 loss: 0.016706837341189384\n",
      "Epoch 7 loss: 0.12026318907737732\n",
      "Epoch 8 loss: 0.0041767000220716\n",
      "Epoch 9 loss: 0.00704461382701993\n",
      "Epoch 10 loss: 0.0001738993014441803\n",
      "Epoch 11 loss: 0.003325033700093627\n",
      "Epoch 12 loss: 0.00017342368664685637\n",
      "Epoch 13 loss: 0.011458609253168106\n",
      "Epoch 14 loss: 0.061536386609077454\n",
      "Epoch 15 loss: 0.0010659132385626435\n",
      "Epoch 16 loss: 6.29111600574106e-05\n",
      "Epoch 17 loss: 0.0023900249507278204\n",
      "Epoch 18 loss: 0.044998157769441605\n",
      "Epoch 19 loss: 0.0016281820135191083\n"
     ]
    }
   ],
   "source": [
    "n_epochs = 20\n",
    "loss_fn = nn.CrossEntropyLoss()\n",
    "for epoch in list(range(n_epochs)):\n",
    "    for imgs, lbls in train_dl:\n",
    "        optimizer.zero_grad()\n",
    "        out = model(imgs)\n",
    "        loss = loss_fn(out, lbls)\n",
    "        loss.backward()\n",
    "        optimizer.step()\n",
    "    print(\"Epoch {} loss: {}\".format(epoch, loss.item()))"
   ]
  },
  {
   "cell_type": "code",
   "execution_count": 9,
   "metadata": {},
   "outputs": [],
   "source": [
    "data = torch.stack([test_ds[i][0] for i in range(100)])\n",
    "res_unnorm_after = api.NetworkHomologies(model, data, layers = ['layer2'], hom_type = \"standard\", coefs_type = \"2\")"
   ]
  },
  {
   "cell_type": "code",
   "execution_count": 10,
   "metadata": {
    "scrolled": false
   },
   "outputs": [
    {
     "name": "stdout",
     "output_type": "stream",
     "text": [
      "Epoch 0 loss: 0.38132670521736145\n",
      "Epoch 1 loss: 0.23823799192905426\n",
      "Epoch 2 loss: 0.14199964702129364\n",
      "Epoch 3 loss: 0.2566467523574829\n",
      "Epoch 4 loss: 0.34684517979621887\n",
      "Epoch 5 loss: 0.09718009829521179\n",
      "Epoch 6 loss: 0.21725988388061523\n",
      "Epoch 7 loss: 0.15713442862033844\n",
      "Epoch 8 loss: 0.1687999963760376\n",
      "Epoch 9 loss: 0.2254984825849533\n",
      "Epoch 10 loss: 0.27371761202812195\n",
      "Epoch 11 loss: 0.11111251264810562\n",
      "Epoch 12 loss: 0.2517441213130951\n",
      "Epoch 13 loss: 0.20030929148197174\n",
      "Epoch 14 loss: 0.11384321004152298\n",
      "Epoch 15 loss: 0.14429588615894318\n",
      "Epoch 16 loss: 0.43001464009284973\n",
      "Epoch 17 loss: 0.10627931356430054\n",
      "Epoch 18 loss: 0.14384765923023224\n",
      "Epoch 19 loss: 0.12838228046894073\n"
     ]
    }
   ],
   "source": [
    "num_classes = 20\n",
    "model = SimpleNN(28*28, num_classes, 64)\n",
    "optimizer = torch.optim.Adam(model.parameters(), lr=1e-3, weight_decay = 0.01)\n",
    "\n",
    "n_epochs = 20\n",
    "loss_fn = nn.CrossEntropyLoss()\n",
    "for epoch in list(range(n_epochs)):\n",
    "    for imgs, lbls in train_dl:\n",
    "        optimizer.zero_grad()\n",
    "        out = model(imgs)\n",
    "        loss = loss_fn(out, lbls)\n",
    "        loss.backward()\n",
    "        optimizer.step()\n",
    "    print(\"Epoch {} loss: {}\".format(epoch, loss.item()))"
   ]
  },
  {
   "cell_type": "code",
   "execution_count": 11,
   "metadata": {},
   "outputs": [],
   "source": [
    "data = torch.stack([test_ds[i][0] for i in range(100)])\n",
    "res_norm_after = api.NetworkHomologies(model, data, layers = ['layer2'], hom_type = \"standard\", coefs_type = \"2\")"
   ]
  },
  {
   "cell_type": "code",
   "execution_count": 12,
   "metadata": {
    "scrolled": true
   },
   "outputs": [
    {
     "name": "stdout",
     "output_type": "stream",
     "text": [
      "Epoch 0 loss: 2.9907264709472656\n",
      "Epoch 1 loss: 2.9906322956085205\n",
      "Epoch 2 loss: 2.990679979324341\n",
      "Epoch 3 loss: 2.9907820224761963\n",
      "Epoch 4 loss: 2.9908132553100586\n",
      "Epoch 5 loss: 2.991191864013672\n",
      "Epoch 6 loss: 2.9906914234161377\n",
      "Epoch 7 loss: 2.9917633533477783\n",
      "Epoch 8 loss: 2.990560531616211\n",
      "Epoch 9 loss: 2.9909372329711914\n",
      "Epoch 10 loss: 2.9908273220062256\n",
      "Epoch 11 loss: 2.9900853633880615\n",
      "Epoch 12 loss: 2.9901514053344727\n",
      "Epoch 13 loss: 2.9906680583953857\n",
      "Epoch 14 loss: 2.9907190799713135\n",
      "Epoch 15 loss: 2.9911515712738037\n",
      "Epoch 16 loss: 2.9904730319976807\n",
      "Epoch 17 loss: 2.9907705783843994\n",
      "Epoch 18 loss: 2.990163803100586\n",
      "Epoch 19 loss: 2.9909746646881104\n"
     ]
    }
   ],
   "source": [
    "num_classes = 20\n",
    "model = SimpleNN(28*28, num_classes, 64)\n",
    "optimizer = torch.optim.Adam(model.parameters(), lr=1e-3, weight_decay = 10)\n",
    "\n",
    "n_epochs = 20\n",
    "loss_fn = nn.CrossEntropyLoss()\n",
    "for epoch in list(range(n_epochs)):\n",
    "    for imgs, lbls in train_dl:\n",
    "        optimizer.zero_grad()\n",
    "        out = model(imgs)\n",
    "        loss = loss_fn(out, lbls)\n",
    "        loss.backward()\n",
    "        optimizer.step()\n",
    "    print(\"Epoch {} loss: {}\".format(epoch, loss.item()))"
   ]
  },
  {
   "cell_type": "code",
   "execution_count": 13,
   "metadata": {},
   "outputs": [],
   "source": [
    "data = torch.stack([test_ds[i][0] for i in range(100)])\n",
    "res_norm_destructive = api.NetworkHomologies(model, data, layers = ['layer2'], hom_type = \"standard\", coefs_type = \"2\")"
   ]
  },
  {
   "cell_type": "code",
   "execution_count": 14,
   "metadata": {},
   "outputs": [
    {
     "data": {
      "image/png": "[encoded data removed]",
      "text/plain": [
       "<Figure size 1080x360 with 1 Axes>"
      ]
     },
     "execution_count": 14,
     "metadata": {},
     "output_type": "execute_result"
    }
   ],
   "source": [
    "res_unnorm_before[\"layer2\"]"
   ]
  },
  {
   "cell_type": "code",
   "execution_count": 15,
   "metadata": {},
   "outputs": [
    {
     "data": {
      "image/png": "[encoded data removed]",
      "text/plain": [
       "<Figure size 1080x360 with 1 Axes>"
      ]
     },
     "execution_count": 15,
     "metadata": {},
     "output_type": "execute_result"
    }
   ],
   "source": [
    "res_unnorm_after[\"layer2\"]"
   ]
  },
  {
   "cell_type": "code",
   "execution_count": 16,
   "metadata": {},
   "outputs": [
    {
     "data": {
      "image/png": "[encoded data removed]",
      "text/plain": [
       "<Figure size 1080x360 with 1 Axes>"
      ]
     },
     "execution_count": 16,
     "metadata": {},
     "output_type": "execute_result"
    }
   ],
   "source": [
    "res_norm_after[\"layer2\"]"
   ]
  },
  {
   "cell_type": "code",
   "execution_count": 17,
   "metadata": {},
   "outputs": [
    {
     "data": {
      "image/png": "[encoded data removed]",
      "text/plain": [
       "<Figure size 1080x360 with 1 Axes>"
      ]
     },
     "execution_count": 17,
     "metadata": {},
     "output_type": "execute_result"
    }
   ],
   "source": [
    "res_norm_destructive[\"layer2\"]"
   ]
  },
  {
   "cell_type": "code",
   "execution_count": null,
   "metadata": {},
   "outputs": [],
   "source": []
  }
 ],
 "metadata": {
  "kernelspec": {
   "display_name": "Python 3",
   "language": "python",
   "name": "python3"
  },
  "language_info": {
   "codemirror_mode": {
    "name": "ipython",
    "version": 3
   },
   "file_extension": ".py",
   "mimetype": "text/x-python",
   "name": "python",
   "nbconvert_exporter": "python",
   "pygments_lexer": "ipython3",
   "version": "3.7.6"
  }
 },
 "nbformat": 4,
 "nbformat_minor": 4
}
