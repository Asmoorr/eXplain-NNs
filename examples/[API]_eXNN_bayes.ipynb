{
  "nbformat": 4,
  "nbformat_minor": 0,
  "metadata": {
    "colab": {
      "provenance": [],
      "gpuType": "T4"
    },
    "kernelspec": {
      "name": "python3",
      "display_name": "Python 3"
    },
    "language_info": {
      "name": "python"
    },
    "accelerator": "GPU"
  },
  "cells": [
    {
      "cell_type": "code",
      "execution_count": null,
      "metadata": {
        "id": "_5OsOsHxJ9FY"
      },
      "outputs": [],
      "source": [
        "!pip install git+https://github.com/aimclub/eXplain-NNs &> /dev/null\n",
        "\n",
        "# !wget https://raw.githubusercontent.com/aimclub/eXplain-NNs/main/requirements.txt\n",
        "# !pip install -r requirements.txt\n",
        "! pip install torchmetrics &> /dev/null\n",
        "! pip install pip install giotto-ph==0.2.2 &> /dev/null\n",
        "! pip install pip install giotto-tda==0.6.0 &> /dev/null\n",
        "! pip install umap-learn==0.5.3 &> /dev/null\n"
      ]
    },
    {
      "cell_type": "code",
      "source": [
        "from torchvision.datasets import MNIST\n",
        "import torch\n",
        "import torch.nn as nn\n",
        "import torchvision.transforms as TF\n",
        "from tqdm.auto import tqdm"
      ],
      "metadata": {
        "id": "Qb4zpt1MNc38"
      },
      "execution_count": null,
      "outputs": []
    },
    {
      "cell_type": "code",
      "source": [
        "from eXNN.bayes import DropoutBayesianWrapper"
      ],
      "metadata": {
        "id": "vTSvYx04OYe3"
      },
      "execution_count": null,
      "outputs": []
    },
    {
      "cell_type": "code",
      "source": [
        "train_ds = MNIST(root='./.cache', train=True, download=True, transform=TF.ToTensor())\n",
        "test_ds = MNIST(root='./.cache', train=False, download=False, transform=TF.ToTensor())"
      ],
      "metadata": {
        "colab": {
          "base_uri": "https://localhost:8080/"
        },
        "id": "YJXtfX9CMu15",
        "outputId": "e73d24c4-43e9-4c40-d5e4-c809753d8736"
      },
      "execution_count": null,
      "outputs": [
        {
          "output_type": "stream",
          "name": "stdout",
          "text": [
            "Downloading http://yann.lecun.com/exdb/mnist/train-images-idx3-ubyte.gz\n",
            "Downloading http://yann.lecun.com/exdb/mnist/train-images-idx3-ubyte.gz to ./.cache/MNIST/raw/train-images-idx3-ubyte.gz\n"
          ]
        },
        {
          "output_type": "stream",
          "name": "stderr",
          "text": [
            "100%|██████████| 9912422/9912422 [00:00<00:00, 29503289.65it/s]\n"
          ]
        },
        {
          "output_type": "stream",
          "name": "stdout",
          "text": [
            "Extracting ./.cache/MNIST/raw/train-images-idx3-ubyte.gz to ./.cache/MNIST/raw\n",
            "\n",
            "Downloading http://yann.lecun.com/exdb/mnist/train-labels-idx1-ubyte.gz\n",
            "Downloading http://yann.lecun.com/exdb/mnist/train-labels-idx1-ubyte.gz to ./.cache/MNIST/raw/train-labels-idx1-ubyte.gz\n"
          ]
        },
        {
          "output_type": "stream",
          "name": "stderr",
          "text": [
            "100%|██████████| 28881/28881 [00:00<00:00, 117379548.28it/s]"
          ]
        },
        {
          "output_type": "stream",
          "name": "stdout",
          "text": [
            "Extracting ./.cache/MNIST/raw/train-labels-idx1-ubyte.gz to ./.cache/MNIST/raw\n",
            "\n",
            "Downloading http://yann.lecun.com/exdb/mnist/t10k-images-idx3-ubyte.gz\n",
            "Downloading http://yann.lecun.com/exdb/mnist/t10k-images-idx3-ubyte.gz to ./.cache/MNIST/raw/t10k-images-idx3-ubyte.gz\n"
          ]
        },
        {
          "output_type": "stream",
          "name": "stderr",
          "text": [
            "\n",
            "100%|██████████| 1648877/1648877 [00:00<00:00, 24279745.95it/s]\n"
          ]
        },
        {
          "output_type": "stream",
          "name": "stdout",
          "text": [
            "Extracting ./.cache/MNIST/raw/t10k-images-idx3-ubyte.gz to ./.cache/MNIST/raw\n",
            "\n",
            "Downloading http://yann.lecun.com/exdb/mnist/t10k-labels-idx1-ubyte.gz\n",
            "Downloading http://yann.lecun.com/exdb/mnist/t10k-labels-idx1-ubyte.gz to ./.cache/MNIST/raw/t10k-labels-idx1-ubyte.gz\n"
          ]
        },
        {
          "output_type": "stream",
          "name": "stderr",
          "text": [
            "100%|██████████| 4542/4542 [00:00<00:00, 14883225.60it/s]"
          ]
        },
        {
          "output_type": "stream",
          "name": "stdout",
          "text": [
            "Extracting ./.cache/MNIST/raw/t10k-labels-idx1-ubyte.gz to ./.cache/MNIST/raw\n",
            "\n"
          ]
        },
        {
          "output_type": "stream",
          "name": "stderr",
          "text": [
            "\n"
          ]
        }
      ]
    },
    {
      "cell_type": "code",
      "source": [
        "train_dl = torch.utils.data.DataLoader(train_ds, batch_size=36, shuffle=True)\n",
        "test_dl = torch.utils.data.DataLoader(test_ds, batch_size=36, shuffle=False)"
      ],
      "metadata": {
        "id": "K_sCrM0N6E6D"
      },
      "execution_count": null,
      "outputs": []
    },
    {
      "cell_type": "code",
      "source": [
        "num_classes = len(train_ds.classes)"
      ],
      "metadata": {
        "id": "klZrumCKIpxy"
      },
      "execution_count": null,
      "outputs": []
    },
    {
      "cell_type": "code",
      "source": [
        "model = nn.Sequential(nn.Flatten() ,nn.Linear(28*28, 128),\n",
        "                       nn.ReLU(), nn.Linear(128, 64),\n",
        "                       nn.ReLU(), nn.Linear(64, num_classes), nn.Softmax(dim=1))\n",
        "optimizer = torch.optim.SGD(model.parameters(), lr=0.003, momentum=0.9)\n",
        "criterion = nn.CrossEntropyLoss()\n",
        "images, labels = next(iter(train_dl))\n",
        "images = images.view(images.shape[0], -1)\n",
        "logps = model(images)\n",
        "loss = criterion(logps, labels)"
      ],
      "metadata": {
        "id": "GPi4w7NbIt8p"
      },
      "execution_count": null,
      "outputs": []
    },
    {
      "cell_type": "code",
      "source": [
        "# train\n",
        "n_epochs = 20\n",
        "for e in range(n_epochs):\n",
        "    running_loss = 0\n",
        "    for images, labels in train_dl:\n",
        "        optimizer.zero_grad()\n",
        "        output = model(images)\n",
        "        loss = criterion(output, labels)\n",
        "        loss.backward()\n",
        "        optimizer.step()\n",
        "        running_loss += loss.item()\n",
        "    else:\n",
        "        print(\"Epoch {} - Training loss: {}\".format(e, running_loss/len(train_dl)))"
      ],
      "metadata": {
        "colab": {
          "base_uri": "https://localhost:8080/"
        },
        "id": "FXJwvpYxIwQ4",
        "outputId": "938f82f2-cea2-490e-a3a8-bee2206bf77d"
      },
      "execution_count": null,
      "outputs": [
        {
          "output_type": "stream",
          "name": "stdout",
          "text": [
            "Epoch 0 - Training loss: 2.264180534960055\n",
            "Epoch 1 - Training loss: 1.8589953394370946\n",
            "Epoch 2 - Training loss: 1.6964962998763773\n",
            "Epoch 3 - Training loss: 1.606024907889592\n",
            "Epoch 4 - Training loss: 1.5694306460267853\n",
            "Epoch 5 - Training loss: 1.558262092450742\n",
            "Epoch 6 - Training loss: 1.550862583201591\n",
            "Epoch 7 - Training loss: 1.54485444280296\n",
            "Epoch 8 - Training loss: 1.539998533200846\n",
            "Epoch 9 - Training loss: 1.5355852614209977\n",
            "Epoch 10 - Training loss: 1.531968993416931\n",
            "Epoch 11 - Training loss: 1.5285690525869589\n",
            "Epoch 12 - Training loss: 1.5254286123594982\n",
            "Epoch 13 - Training loss: 1.5223983976035755\n",
            "Epoch 14 - Training loss: 1.5196804830823463\n",
            "Epoch 15 - Training loss: 1.5170987689287705\n",
            "Epoch 16 - Training loss: 1.5149314093175017\n",
            "Epoch 17 - Training loss: 1.512628909493179\n",
            "Epoch 18 - Training loss: 1.5106675631998538\n",
            "Epoch 19 - Training loss: 1.5088391979082516\n"
          ]
        }
      ]
    },
    {
      "cell_type": "code",
      "source": [
        "correct_count, all_count = 0, 0\n",
        "for images,labels in test_dl:\n",
        "  for i in range(len(labels)):\n",
        "    img = images[i].view(1, 784)\n",
        "    with torch.no_grad():\n",
        "        logps = model(img)\n",
        "\n",
        "    ps = torch.exp(logps)\n",
        "    probab = list(ps.numpy()[0])\n",
        "    pred_label = probab.index(max(probab))\n",
        "    true_label = labels.numpy()[i]\n",
        "    if(true_label == pred_label):\n",
        "      correct_count += 1\n",
        "    all_count += 1\n",
        "\n",
        "print(\"Number Of Images Tested =\", all_count)\n",
        "print(\"\\nModel Accuracy =\", (correct_count/all_count))"
      ],
      "metadata": {
        "colab": {
          "base_uri": "https://localhost:8080/"
        },
        "id": "jTZYl2BKIwTg",
        "outputId": "982b8870-118a-4740-f6ec-25d72d2bea01"
      },
      "execution_count": null,
      "outputs": [
        {
          "output_type": "stream",
          "name": "stdout",
          "text": [
            "Number Of Images Tested = 10000\n",
            "\n",
            "Model Accuracy = 0.9538\n"
          ]
        }
      ]
    },
    {
      "cell_type": "code",
      "source": [
        "DropoutBayesianWrapper"
      ],
      "metadata": {
        "id": "u2bzEv-1IwWJ"
      },
      "execution_count": null,
      "outputs": []
    },
    {
      "cell_type": "code",
      "source": [
        "# build Dropout based bayesianized model\n",
        "bayes_model = DropoutBayesianWrapper(model, 'basic', 0.1, None, None)"
      ],
      "metadata": {
        "id": "E3P_W9NsIwY3"
      },
      "execution_count": null,
      "outputs": []
    },
    {
      "cell_type": "code",
      "source": [
        "# predict\n",
        "n_iter = 5\n",
        "prediction = bayes_model.predict(images, n_iter)"
      ],
      "metadata": {
        "id": "QBNch8a2IwbP"
      },
      "execution_count": null,
      "outputs": []
    },
    {
      "cell_type": "code",
      "source": [
        "prediction.keys()"
      ],
      "metadata": {
        "colab": {
          "base_uri": "https://localhost:8080/"
        },
        "id": "HB9fmd4EIwdw",
        "outputId": "8b56d4cb-4379-403b-ddd4-589529361982"
      },
      "execution_count": null,
      "outputs": [
        {
          "output_type": "execute_result",
          "data": {
            "text/plain": [
              "dict_keys(['mean', 'std'])"
            ]
          },
          "metadata": {},
          "execution_count": 12
        }
      ]
    },
    {
      "cell_type": "code",
      "source": [
        "prediction['mean']"
      ],
      "metadata": {
        "colab": {
          "base_uri": "https://localhost:8080/"
        },
        "id": "6Ux2-CCCJv4w",
        "outputId": "9228f28f-c1f3-4450-ce68-24fd0f4fcf18"
      },
      "execution_count": null,
      "outputs": [
        {
          "output_type": "execute_result",
          "data": {
            "text/plain": [
              "tensor([[2.0785e-13, 2.0895e-15, 3.3889e-12, 1.8083e-13, 9.9996e-01, 2.7775e-09,\n",
              "         1.8968e-08, 2.3739e-07, 1.7986e-09, 4.4474e-05],\n",
              "        [5.3205e-10, 4.9924e-18, 1.5969e-10, 8.9747e-12, 4.1226e-02, 1.2289e-07,\n",
              "         1.1088e-13, 2.6331e-02, 3.3986e-05, 9.3241e-01],\n",
              "        [3.8153e-12, 2.2360e-14, 8.6113e-11, 3.7582e-13, 9.9999e-01, 5.1919e-09,\n",
              "         6.7374e-08, 3.3685e-07, 7.0977e-10, 5.4580e-06],\n",
              "        [1.7025e-07, 1.7149e-08, 2.2754e-01, 7.6450e-01, 1.7627e-09, 1.1286e-04,\n",
              "         6.3117e-11, 3.3387e-07, 7.8441e-03, 1.9481e-08],\n",
              "        [2.2944e-06, 1.2958e-10, 1.4721e-04, 1.2801e-10, 1.9821e-03, 9.0356e-05,\n",
              "         9.9778e-01, 7.2889e-08, 9.8936e-07, 2.0013e-07],\n",
              "        [4.5497e-14, 1.3074e-11, 1.1793e-10, 4.0089e-12, 9.9990e-01, 3.6573e-06,\n",
              "         5.2466e-08, 6.6548e-05, 6.6881e-08, 3.0657e-05],\n",
              "        [6.2195e-14, 9.9587e-01, 1.8758e-04, 5.0828e-04, 5.5840e-06, 9.0976e-08,\n",
              "         8.6983e-09, 3.4217e-03, 2.6080e-06, 1.5108e-06],\n",
              "        [5.6196e-08, 1.0981e-17, 5.1877e-08, 6.3170e-08, 9.1945e-06, 1.1418e-07,\n",
              "         3.7749e-14, 9.5969e-01, 1.1657e-06, 4.0301e-02],\n",
              "        [2.2839e-06, 9.4470e-23, 7.3328e-01, 2.6672e-01, 1.6251e-20, 4.4984e-09,\n",
              "         9.4918e-20, 4.1840e-08, 2.3382e-09, 7.8302e-18],\n",
              "        [3.1226e-04, 7.0567e-10, 1.2964e-02, 2.5227e-08, 9.7489e-06, 5.2096e-02,\n",
              "         9.3462e-01, 2.6498e-10, 7.1634e-09, 2.1134e-14],\n",
              "        [2.4481e-06, 4.7851e-08, 5.7308e-01, 7.8299e-03, 2.1069e-07, 7.3325e-04,\n",
              "         4.1835e-01, 2.0522e-06, 2.1743e-06, 4.0412e-08],\n",
              "        [9.9989e-01, 7.4462e-32, 3.1855e-08, 4.9162e-13, 3.5420e-20, 1.0691e-04,\n",
              "         7.4990e-19, 1.7899e-18, 1.8446e-11, 5.6927e-24],\n",
              "        [1.0835e-14, 9.3617e-01, 6.8101e-03, 3.3586e-02, 7.0690e-06, 7.4898e-06,\n",
              "         9.5483e-08, 2.1695e-02, 1.5700e-03, 1.4966e-04],\n",
              "        [1.0049e-11, 3.1080e-14, 9.9823e-01, 1.7540e-03, 6.3560e-15, 1.1435e-09,\n",
              "         1.6206e-14, 8.1638e-06, 1.2341e-05, 1.9002e-14],\n",
              "        [5.2125e-13, 6.1243e-10, 5.0798e-03, 7.5628e-01, 4.5898e-15, 1.3094e-02,\n",
              "         4.9336e-15, 5.3059e-09, 2.2555e-01, 2.3417e-10],\n",
              "        [5.3478e-15, 1.7886e-16, 3.0467e-13, 2.0839e-12, 9.9999e-01, 7.9663e-08,\n",
              "         1.2527e-11, 2.7465e-08, 3.2921e-08, 1.2520e-05],\n",
              "        [6.0052e-09, 5.2110e-19, 3.4678e-14, 4.4911e-07, 6.8953e-13, 1.0000e+00,\n",
              "         2.4927e-20, 6.6452e-17, 5.0177e-08, 3.7057e-16],\n",
              "        [7.8278e-11, 9.5362e-18, 5.1172e-07, 2.6489e-16, 2.4523e-09, 3.9774e-08,\n",
              "         1.0000e+00, 8.7337e-21, 1.2669e-12, 1.5846e-17],\n",
              "        [1.5573e-13, 9.9398e-17, 3.6474e-05, 1.4857e-03, 1.7229e-14, 8.9633e-12,\n",
              "         2.0514e-20, 9.9848e-01, 1.9076e-09, 3.2224e-09],\n",
              "        [7.1309e-11, 2.9815e-19, 8.6893e-07, 6.0397e-06, 3.5288e-18, 1.4081e-08,\n",
              "         3.6498e-23, 4.2736e-14, 9.9999e-01, 4.6580e-13],\n",
              "        [8.0206e-13, 5.4551e-21, 1.5867e-12, 2.1651e-14, 1.0733e-01, 5.5682e-12,\n",
              "         3.2100e-13, 8.6049e-04, 9.6019e-09, 8.9181e-01],\n",
              "        [9.6801e-01, 8.0629e-27, 1.4103e-07, 2.6386e-13, 8.3199e-16, 3.1231e-02,\n",
              "         5.2670e-13, 5.4246e-21, 7.5433e-04, 1.5111e-21],\n",
              "        [3.4511e-15, 9.9820e-01, 1.2845e-03, 9.6091e-06, 7.8928e-08, 1.6054e-05,\n",
              "         6.8706e-06, 9.7351e-07, 4.8112e-04, 8.3367e-09],\n",
              "        [5.9752e-16, 6.1774e-20, 9.9998e-01, 1.7809e-05, 1.7299e-24, 5.3154e-15,\n",
              "         5.2957e-19, 9.6821e-14, 1.9693e-11, 6.7156e-27],\n",
              "        [8.3855e-13, 5.1508e-16, 4.4570e-06, 9.9998e-01, 1.2570e-23, 1.7465e-05,\n",
              "         3.1224e-18, 5.4220e-13, 2.8475e-11, 2.6649e-19],\n",
              "        [1.0937e-16, 2.5904e-14, 4.6245e-12, 2.6974e-11, 9.9995e-01, 8.9695e-07,\n",
              "         3.4224e-12, 2.9809e-06, 8.7851e-06, 3.5604e-05],\n",
              "        [3.6325e-08, 3.8323e-10, 6.7935e-10, 2.3002e-09, 3.7577e-08, 9.9767e-01,\n",
              "         9.6571e-07, 2.1658e-12, 2.3338e-03, 2.5401e-14],\n",
              "        [1.3205e-08, 5.7391e-23, 2.1700e-05, 3.4441e-18, 1.3719e-10, 4.4076e-08,\n",
              "         9.9998e-01, 6.9845e-21, 8.4678e-17, 2.2402e-21]],\n",
              "       grad_fn=<SelectBackward0>)"
            ]
          },
          "metadata": {},
          "execution_count": 13
        }
      ]
    },
    {
      "cell_type": "code",
      "source": [
        "prediction['std']"
      ],
      "metadata": {
        "colab": {
          "base_uri": "https://localhost:8080/"
        },
        "id": "6iPsKufQJxEe",
        "outputId": "56946e73-83f3-4220-8c6d-c500e4de534e"
      },
      "execution_count": null,
      "outputs": [
        {
          "output_type": "execute_result",
          "data": {
            "text/plain": [
              "tensor([[2.8321e-13, 4.5394e-15, 4.1571e-12, 3.9780e-13, 6.7457e-05, 4.4869e-09,\n",
              "         3.7222e-08, 3.7944e-07, 1.8420e-09, 6.7084e-05],\n",
              "        [9.3369e-10, 6.8126e-18, 3.4164e-10, 6.5199e-12, 8.1769e-02, 1.3547e-07,\n",
              "         2.1573e-13, 5.8168e-02, 5.1049e-05, 8.6575e-02],\n",
              "        [7.0963e-12, 4.5108e-14, 1.5339e-10, 8.0990e-13, 8.8348e-06, 7.7907e-09,\n",
              "         1.1782e-07, 5.5556e-07, 1.1267e-09, 8.2416e-06],\n",
              "        [2.2098e-07, 3.6732e-08, 3.9250e-01, 3.9060e-01, 3.7658e-09, 2.3282e-04,\n",
              "         1.2911e-10, 5.4734e-07, 1.6971e-02, 2.5597e-08],\n",
              "        [4.1477e-06, 2.1063e-10, 2.9859e-04, 1.6368e-10, 3.9680e-03, 1.5986e-04,\n",
              "         3.9006e-03, 1.0487e-07, 1.3276e-06, 3.8904e-07],\n",
              "        [7.7002e-14, 2.7217e-11, 1.9129e-10, 8.9364e-12, 1.7908e-04, 6.9304e-06,\n",
              "         9.2264e-08, 1.3850e-04, 1.3718e-07, 4.3947e-05],\n",
              "        [1.3880e-13, 5.4619e-03, 2.8126e-04, 6.9102e-04, 1.0400e-05, 8.4543e-08,\n",
              "         9.4659e-09, 4.6524e-03, 4.9639e-06, 1.9879e-06],\n",
              "        [1.2561e-07, 2.4529e-17, 1.1585e-07, 1.4124e-07, 2.0559e-05, 1.5782e-07,\n",
              "         8.4393e-14, 9.0023e-02, 2.5798e-06, 8.9999e-02],\n",
              "        [3.2610e-06, 1.3609e-22, 3.6693e-01, 3.6692e-01, 3.6323e-20, 6.3748e-09,\n",
              "         2.0134e-19, 6.9425e-08, 3.9539e-09, 1.7381e-17],\n",
              "        [5.1289e-04, 1.3014e-09, 2.5639e-02, 2.2494e-08, 1.6929e-05, 7.4790e-02,\n",
              "         1.0051e-01, 4.6023e-10, 7.9047e-09, 2.7727e-14],\n",
              "        [2.7803e-06, 5.7980e-08, 2.3574e-01, 1.2914e-02, 4.5453e-07, 1.2298e-03,\n",
              "         2.2910e-01, 2.8916e-06, 1.8897e-06, 5.3371e-08],\n",
              "        [1.2475e-04, 1.3726e-31, 6.3288e-08, 1.0990e-12, 7.9201e-20, 1.2473e-04,\n",
              "         1.2954e-18, 3.2908e-18, 4.0892e-11, 1.2452e-23],\n",
              "        [2.4214e-14, 8.6370e-02, 1.4567e-02, 5.6275e-02, 1.5761e-05, 1.3552e-05,\n",
              "         9.4865e-08, 4.5237e-02, 2.6337e-03, 2.2661e-04],\n",
              "        [1.9745e-11, 3.0661e-14, 3.6618e-03, 3.6512e-03, 1.4189e-14, 1.8785e-09,\n",
              "         2.7416e-14, 9.0525e-06, 1.6768e-05, 4.2288e-14],\n",
              "        [8.8181e-13, 9.7658e-10, 1.1123e-02, 3.5280e-01, 6.4708e-15, 1.8492e-02,\n",
              "         6.7963e-15, 8.4983e-09, 3.3565e-01, 4.1743e-10],\n",
              "        [1.0678e-14, 3.9173e-16, 6.5088e-13, 4.6326e-12, 2.5349e-05, 1.4742e-07,\n",
              "         1.6438e-11, 4.2730e-08, 5.0205e-08, 2.5375e-05],\n",
              "        [1.2174e-08, 8.3081e-19, 3.5106e-14, 9.7279e-07, 1.5415e-12, 1.0009e-06,\n",
              "         5.0738e-20, 9.3912e-17, 6.8420e-08, 8.0037e-16],\n",
              "        [1.7475e-10, 2.0715e-17, 1.1319e-06, 3.6841e-16, 5.4806e-09, 8.0713e-08,\n",
              "         1.2262e-06, 1.8082e-20, 2.6023e-12, 3.5405e-17],\n",
              "        [3.4808e-13, 2.0647e-16, 6.8671e-05, 3.3058e-03, 3.8524e-14, 1.7878e-11,\n",
              "         4.5853e-20, 3.3737e-03, 4.1169e-09, 4.6212e-09],\n",
              "        [1.3290e-10, 5.3654e-19, 1.9372e-06, 5.4536e-06, 7.8707e-18, 2.3305e-08,\n",
              "         5.4623e-23, 9.3664e-14, 4.5417e-06, 1.0369e-12],\n",
              "        [1.1341e-12, 7.0443e-21, 3.4719e-12, 2.6600e-14, 2.0691e-01, 9.0982e-12,\n",
              "         6.9215e-13, 1.9204e-03, 1.9875e-08, 2.0640e-01],\n",
              "        [4.9084e-02, 1.2617e-26, 2.5929e-07, 5.0282e-13, 1.8553e-15, 4.9608e-02,\n",
              "         1.1074e-12, 1.1561e-20, 1.6589e-03, 3.3117e-21],\n",
              "        [7.7081e-15, 2.6594e-03, 2.7162e-03, 1.6292e-05, 1.7593e-07, 2.9207e-05,\n",
              "         9.4092e-06, 1.7037e-06, 9.4636e-04, 1.1729e-08],\n",
              "        [8.4160e-16, 6.8695e-20, 3.8285e-05, 3.8267e-05, 3.8652e-24, 1.1859e-14,\n",
              "         1.0054e-18, 2.1232e-13, 2.8791e-11, 1.4969e-26],\n",
              "        [1.7962e-12, 7.6513e-16, 9.3882e-06, 4.6107e-05, 2.6580e-23, 3.6714e-05,\n",
              "         4.3556e-18, 7.7828e-13, 5.7050e-11, 5.4694e-19],\n",
              "        [2.3943e-16, 5.0762e-14, 1.0227e-11, 5.9185e-11, 6.2644e-05, 1.9192e-06,\n",
              "         2.7715e-12, 6.0106e-06, 1.9370e-05, 6.1700e-05],\n",
              "        [7.0573e-08, 7.8683e-10, 1.1035e-09, 5.1152e-09, 8.1761e-08, 5.0676e-03,\n",
              "         1.6345e-06, 3.1015e-12, 5.0676e-03, 5.6507e-14],\n",
              "        [2.9408e-08, 9.0128e-23, 4.7270e-05, 4.3453e-18, 3.0345e-10, 8.5760e-08,\n",
              "         4.7427e-05, 1.3894e-20, 1.1637e-16, 4.9580e-21]],\n",
              "       grad_fn=<SelectBackward0>)"
            ]
          },
          "metadata": {},
          "execution_count": 14
        }
      ]
    }
  ]
}