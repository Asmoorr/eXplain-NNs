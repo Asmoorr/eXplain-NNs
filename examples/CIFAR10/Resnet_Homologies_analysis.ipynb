{
 "cells": [
  {
   "cell_type": "markdown",
   "metadata": {},
   "source": [
    "## Вспомогательные функции"
   ]
  },
  {
   "cell_type": "code",
   "execution_count": 1,
   "metadata": {},
   "outputs": [],
   "source": [
    "# путь к папке с моделями\n",
    "model_path = \"./\""
   ]
  },
  {
   "cell_type": "code",
   "execution_count": 2,
   "metadata": {},
   "outputs": [],
   "source": [
    "# класс и методы необходимые для SVD разложения\n",
    "from typing import Union\n",
    "\n",
    "import torch\n",
    "from torch import Tensor\n",
    "from torch.nn import Conv2d, Parameter, Module\n",
    "from torch.nn.common_types import _size_2_t\n",
    "import os\n",
    "\n",
    "class DecomposedConv2d(Conv2d):\n",
    "    \"\"\"Extends the Conv2d layer by implementing the singular value decomposition of\n",
    "    the weight matrix.\n",
    "    \"\"\"\n",
    "\n",
    "    def __init__(\n",
    "        self,\n",
    "        in_channels: int,\n",
    "        out_channels: int,\n",
    "        kernel_size: _size_2_t,\n",
    "        stride: _size_2_t = 1,\n",
    "        padding: Union[str, _size_2_t] = 0,\n",
    "        dilation: _size_2_t = 1,\n",
    "        groups: int = 1,\n",
    "        bias: bool = True,\n",
    "        padding_mode: str = \"zeros\",\n",
    "        decomposing: bool = True,\n",
    "        decomposing_mode: str = \"channel\",\n",
    "        device=None,\n",
    "        dtype=None,\n",
    "    ) -> None:\n",
    "\n",
    "        super().__init__(\n",
    "            in_channels,\n",
    "            out_channels,\n",
    "            kernel_size,\n",
    "            stride,\n",
    "            padding,\n",
    "            dilation,\n",
    "            groups,\n",
    "            bias,\n",
    "            padding_mode,\n",
    "            device,\n",
    "            dtype,\n",
    "        )\n",
    "\n",
    "        n, c, w, h = self.weight.size()\n",
    "        self.decomposing_modes_dict = {\n",
    "            \"channel\": (n, c * w * h),\n",
    "            \"spatial\": (n * w, c * h),\n",
    "        }\n",
    "\n",
    "        if decomposing:\n",
    "            self.decompose(decomposing_mode)\n",
    "        else:\n",
    "            self.U = None\n",
    "            self.S = None\n",
    "            self.Vh = None\n",
    "            self.decomposing = False\n",
    "\n",
    "    def decompose(self, decomposing_mode: str) -> None:\n",
    "        \"\"\"Decompose the weight matrix in singular value decomposition.\"\"\"\n",
    "\n",
    "        if decomposing_mode not in self.decomposing_modes_dict.keys():\n",
    "            raise ValueError(\n",
    "                \"decomposing_mode must be one of {}, but got decomposing_mode='{}'\".format(\n",
    "                    self.decomposing_modes_dict.keys(), decomposing_mode\n",
    "                )\n",
    "            )\n",
    "        W = self.weight.view(self.decomposing_modes_dict[decomposing_mode])\n",
    "        U, S, Vh = torch.linalg.svd(W, full_matrices=False)\n",
    "\n",
    "        self.U = Parameter(U)\n",
    "        self.S = Parameter(S)\n",
    "        self.Vh = Parameter(Vh)\n",
    "        self.register_parameter(\"weight\", None)\n",
    "        self.decomposing = True\n",
    "\n",
    "    def compose(self) -> None:\n",
    "        \"\"\"Compose the weight matrix from singular value decomposition.\"\"\"\n",
    "\n",
    "        W = self.U @ torch.diag(self.S) @ self.Vh\n",
    "        self.weight = Parameter(\n",
    "            W.view(\n",
    "                self.out_channels, self.in_channels // self.groups, *self.kernel_size\n",
    "            )\n",
    "        )\n",
    "\n",
    "        self.register_parameter(\"U\", None)\n",
    "        self.register_parameter(\"S\", None)\n",
    "        self.register_parameter(\"Vh\", None)\n",
    "        self.decomposing = False\n",
    "\n",
    "    def forward(self, input: Tensor) -> Tensor:\n",
    "\n",
    "        if self.decomposing:\n",
    "            W = self.U @ torch.diag(self.S) @ self.Vh\n",
    "            return self._conv_forward(\n",
    "                input,\n",
    "                W.view(\n",
    "                    self.out_channels,\n",
    "                    self.in_channels // self.groups,\n",
    "                    *self.kernel_size\n",
    "                ),\n",
    "                self.bias,\n",
    "            )\n",
    "        else:\n",
    "            return self._conv_forward(input, self.weight, self.bias)\n",
    "\n",
    "    def set_U_S_Vh(self, u: Tensor, s: Tensor, vh: Tensor) -> None:\n",
    "        \"\"\"Update U, S, Vh matrices.\"\"\"\n",
    "\n",
    "        assert self.decomposing, \"for setting U, S and Vh, the model must be decomposed\"\n",
    "        self.U = Parameter(u)\n",
    "        self.S = Parameter(s)\n",
    "        self.Vh = Parameter(vh)\n",
    "\n",
    "def energy_threshold_pruning(conv: DecomposedConv2d, energy_threshold: float) -> None:\n",
    "    \"\"\"Prune the weight matrices to the energy_threshold (in-place).\"\"\"\n",
    "    assert conv.decomposing, \"for pruning, the model must be decomposed\"\n",
    "    S, indices = conv.S.sort()\n",
    "    U = conv.U[:, indices]\n",
    "    Vh = conv.Vh[indices, :]\n",
    "    sum = (S ** 2).sum()\n",
    "    threshold = energy_threshold * sum\n",
    "    for i, s in enumerate(S):\n",
    "        sum -= s ** 2\n",
    "        if sum < threshold:\n",
    "            conv.set_U_S_Vh(U[:, i:].clone(), S[i:].clone(), Vh[i:, :].clone())\n",
    "            break\n",
    "\n",
    "\n",
    "def decompose_module(model: Module, decomposing_mode: str = \"channel\") -> None:\n",
    "    \"\"\"Replace Conv2d layers with DecomposedConv2d layers in module (in-place).\"\"\"\n",
    "    for name, module in model.named_children():\n",
    "        if len(list(module.children())) > 0:\n",
    "            decompose_module(module, decomposing_mode=decomposing_mode)\n",
    "\n",
    "        if isinstance(module, Conv2d):\n",
    "            new_module = DecomposedConv2d(\n",
    "                in_channels=module.in_channels,\n",
    "                out_channels=module.out_channels,\n",
    "                kernel_size=module.kernel_size,\n",
    "                stride=module.stride,\n",
    "                padding=module.padding,\n",
    "                dilation=module.dilation,\n",
    "                groups=module.groups,\n",
    "                bias=(module.bias is not None),\n",
    "                padding_mode=module.padding_mode,\n",
    "                decomposing=False,\n",
    "            )\n",
    "            new_module.load_state_dict(module.state_dict())\n",
    "            new_module.decompose(decomposing_mode=decomposing_mode)\n",
    "            setattr(model, name, new_module)\n",
    "\n",
    "def prune_model(model, energy_threshold) -> None:\n",
    "    \"\"\"Prune the model weights to the energy_threshold.\"\"\"\n",
    "    for module in model.modules():\n",
    "        if isinstance(module, DecomposedConv2d):\n",
    "            energy_threshold_pruning(conv=module, energy_threshold=energy_threshold)\n",
    "\n",
    "def number_of_params(model) -> int:\n",
    "    \"\"\"Return number of model parameters.\"\"\"\n",
    "    return sum(p.numel() for p in model.parameters())"
   ]
  },
  {
   "cell_type": "code",
   "execution_count": 3,
   "metadata": {},
   "outputs": [],
   "source": [
    "from eXNN.InnerNeuralTopology import homologies, api\n",
    "from torchvision.datasets import CIFAR10\n",
    "import torchvision.transforms as TF"
   ]
  },
  {
   "cell_type": "code",
   "execution_count": 4,
   "metadata": {},
   "outputs": [],
   "source": [
    "from torchmetrics.classification import MulticlassAccuracy\n",
    "metric = MulticlassAccuracy(num_classes=10)"
   ]
  },
  {
   "cell_type": "markdown",
   "metadata": {},
   "source": [
    "### Загрузка и предобработка датасетов"
   ]
  },
  {
   "cell_type": "code",
   "execution_count": 5,
   "metadata": {},
   "outputs": [
    {
     "name": "stdout",
     "output_type": "stream",
     "text": [
      "Files already downloaded and verified\n"
     ]
    }
   ],
   "source": [
    "import torchvision.transforms as TF\n",
    "\n",
    "tfm = TF.Compose([\n",
    "    TF.ToTensor(),\n",
    "    TF.Normalize(mean=[0.485, 0.456, 0.406], std=[0.229, 0.224, 0.225])\n",
    "])\n",
    "\n",
    "train_ds = CIFAR10(root='./.cache', train=True, download=True, \n",
    "                 transform=tfm) #TF.ToTensor()) \n",
    "test_ds = CIFAR10(root='./.cache', train=False, download=False, \n",
    "                transform=tfm)#TF.ToTensor())"
   ]
  },
  {
   "cell_type": "code",
   "execution_count": 6,
   "metadata": {},
   "outputs": [],
   "source": [
    "train_dl = torch.utils.data.DataLoader(train_ds, batch_size=500, shuffle=True)\n",
    "test_dl = torch.utils.data.DataLoader(test_ds, batch_size=500, shuffle=False)"
   ]
  },
  {
   "cell_type": "markdown",
   "metadata": {},
   "source": [
    "## Базовая модель (ResNet18_SVD)"
   ]
  },
  {
   "cell_type": "markdown",
   "metadata": {},
   "source": [
    "Ниже производится оценка модели ResNet18_SVD по двум пунктам:\n",
    "\n",
    "1) Разница топологий образов тренировочных и тестовых данных\n",
    "\n",
    "2) Робастность модели к шумам через оценку разницы топологии зашумлённых и не зашумлённых данных"
   ]
  },
  {
   "cell_type": "code",
   "execution_count": 15,
   "metadata": {
    "scrolled": true
   },
   "outputs": [
    {
     "name": "stdout",
     "output_type": "stream",
     "text": [
      "Number of parameters: 12668746\n"
     ]
    },
    {
     "data": {
      "text/plain": [
       "ResNet(\n",
       "  (conv1): DecomposedConv2d(3, 64, kernel_size=(7, 7), stride=(2, 2), padding=(3, 3), bias=False)\n",
       "  (bn1): BatchNorm2d(64, eps=1e-05, momentum=0.1, affine=True, track_running_stats=True)\n",
       "  (relu): ReLU(inplace=True)\n",
       "  (maxpool): MaxPool2d(kernel_size=3, stride=2, padding=1, dilation=1, ceil_mode=False)\n",
       "  (layer1): Sequential(\n",
       "    (0): BasicBlock(\n",
       "      (conv1): DecomposedConv2d(64, 64, kernel_size=(3, 3), stride=(1, 1), padding=(1, 1), bias=False)\n",
       "      (bn1): BatchNorm2d(64, eps=1e-05, momentum=0.1, affine=True, track_running_stats=True)\n",
       "      (relu): ReLU(inplace=True)\n",
       "      (conv2): DecomposedConv2d(64, 64, kernel_size=(3, 3), stride=(1, 1), padding=(1, 1), bias=False)\n",
       "      (bn2): BatchNorm2d(64, eps=1e-05, momentum=0.1, affine=True, track_running_stats=True)\n",
       "    )\n",
       "    (1): BasicBlock(\n",
       "      (conv1): DecomposedConv2d(64, 64, kernel_size=(3, 3), stride=(1, 1), padding=(1, 1), bias=False)\n",
       "      (bn1): BatchNorm2d(64, eps=1e-05, momentum=0.1, affine=True, track_running_stats=True)\n",
       "      (relu): ReLU(inplace=True)\n",
       "      (conv2): DecomposedConv2d(64, 64, kernel_size=(3, 3), stride=(1, 1), padding=(1, 1), bias=False)\n",
       "      (bn2): BatchNorm2d(64, eps=1e-05, momentum=0.1, affine=True, track_running_stats=True)\n",
       "    )\n",
       "  )\n",
       "  (layer2): Sequential(\n",
       "    (0): BasicBlock(\n",
       "      (conv1): DecomposedConv2d(64, 128, kernel_size=(3, 3), stride=(2, 2), padding=(1, 1), bias=False)\n",
       "      (bn1): BatchNorm2d(128, eps=1e-05, momentum=0.1, affine=True, track_running_stats=True)\n",
       "      (relu): ReLU(inplace=True)\n",
       "      (conv2): DecomposedConv2d(128, 128, kernel_size=(3, 3), stride=(1, 1), padding=(1, 1), bias=False)\n",
       "      (bn2): BatchNorm2d(128, eps=1e-05, momentum=0.1, affine=True, track_running_stats=True)\n",
       "      (downsample): Sequential(\n",
       "        (0): DecomposedConv2d(64, 128, kernel_size=(1, 1), stride=(2, 2), bias=False)\n",
       "        (1): BatchNorm2d(128, eps=1e-05, momentum=0.1, affine=True, track_running_stats=True)\n",
       "      )\n",
       "    )\n",
       "    (1): BasicBlock(\n",
       "      (conv1): DecomposedConv2d(128, 128, kernel_size=(3, 3), stride=(1, 1), padding=(1, 1), bias=False)\n",
       "      (bn1): BatchNorm2d(128, eps=1e-05, momentum=0.1, affine=True, track_running_stats=True)\n",
       "      (relu): ReLU(inplace=True)\n",
       "      (conv2): DecomposedConv2d(128, 128, kernel_size=(3, 3), stride=(1, 1), padding=(1, 1), bias=False)\n",
       "      (bn2): BatchNorm2d(128, eps=1e-05, momentum=0.1, affine=True, track_running_stats=True)\n",
       "    )\n",
       "  )\n",
       "  (layer3): Sequential(\n",
       "    (0): BasicBlock(\n",
       "      (conv1): DecomposedConv2d(128, 256, kernel_size=(3, 3), stride=(2, 2), padding=(1, 1), bias=False)\n",
       "      (bn1): BatchNorm2d(256, eps=1e-05, momentum=0.1, affine=True, track_running_stats=True)\n",
       "      (relu): ReLU(inplace=True)\n",
       "      (conv2): DecomposedConv2d(256, 256, kernel_size=(3, 3), stride=(1, 1), padding=(1, 1), bias=False)\n",
       "      (bn2): BatchNorm2d(256, eps=1e-05, momentum=0.1, affine=True, track_running_stats=True)\n",
       "      (downsample): Sequential(\n",
       "        (0): DecomposedConv2d(128, 256, kernel_size=(1, 1), stride=(2, 2), bias=False)\n",
       "        (1): BatchNorm2d(256, eps=1e-05, momentum=0.1, affine=True, track_running_stats=True)\n",
       "      )\n",
       "    )\n",
       "    (1): BasicBlock(\n",
       "      (conv1): DecomposedConv2d(256, 256, kernel_size=(3, 3), stride=(1, 1), padding=(1, 1), bias=False)\n",
       "      (bn1): BatchNorm2d(256, eps=1e-05, momentum=0.1, affine=True, track_running_stats=True)\n",
       "      (relu): ReLU(inplace=True)\n",
       "      (conv2): DecomposedConv2d(256, 256, kernel_size=(3, 3), stride=(1, 1), padding=(1, 1), bias=False)\n",
       "      (bn2): BatchNorm2d(256, eps=1e-05, momentum=0.1, affine=True, track_running_stats=True)\n",
       "    )\n",
       "  )\n",
       "  (layer4): Sequential(\n",
       "    (0): BasicBlock(\n",
       "      (conv1): DecomposedConv2d(256, 512, kernel_size=(3, 3), stride=(2, 2), padding=(1, 1), bias=False)\n",
       "      (bn1): BatchNorm2d(512, eps=1e-05, momentum=0.1, affine=True, track_running_stats=True)\n",
       "      (relu): ReLU(inplace=True)\n",
       "      (conv2): DecomposedConv2d(512, 512, kernel_size=(3, 3), stride=(1, 1), padding=(1, 1), bias=False)\n",
       "      (bn2): BatchNorm2d(512, eps=1e-05, momentum=0.1, affine=True, track_running_stats=True)\n",
       "      (downsample): Sequential(\n",
       "        (0): DecomposedConv2d(256, 512, kernel_size=(1, 1), stride=(2, 2), bias=False)\n",
       "        (1): BatchNorm2d(512, eps=1e-05, momentum=0.1, affine=True, track_running_stats=True)\n",
       "      )\n",
       "    )\n",
       "    (1): BasicBlock(\n",
       "      (conv1): DecomposedConv2d(512, 512, kernel_size=(3, 3), stride=(1, 1), padding=(1, 1), bias=False)\n",
       "      (bn1): BatchNorm2d(512, eps=1e-05, momentum=0.1, affine=True, track_running_stats=True)\n",
       "      (relu): ReLU(inplace=True)\n",
       "      (conv2): DecomposedConv2d(512, 512, kernel_size=(3, 3), stride=(1, 1), padding=(1, 1), bias=False)\n",
       "      (bn2): BatchNorm2d(512, eps=1e-05, momentum=0.1, affine=True, track_running_stats=True)\n",
       "    )\n",
       "  )\n",
       "  (avgpool): AdaptiveAvgPool2d(output_size=(1, 1))\n",
       "  (fc): Linear(in_features=512, out_features=10, bias=True)\n",
       ")"
      ]
     },
     "execution_count": 15,
     "metadata": {},
     "output_type": "execute_result"
    }
   ],
   "source": [
    "# загрузка обученной разложенной модели\n",
    "svd_model_name = 'ResNet18_SVD_channel_O-100.0_H-0.000100.sd.pt'\n",
    "svd_model = resnet18(num_classes=10)\n",
    "decompose_module(svd_model, \"channel\")\n",
    "svd_model.load_state_dict(torch.load(model_path + svd_model_name,  map_location=device))\n",
    "print(f\"Number of parameters: {number_of_params(svd_model)}\")\n",
    " \n",
    "svd_model.eval()"
   ]
  },
  {
   "cell_type": "code",
   "execution_count": 16,
   "metadata": {
    "scrolled": true
   },
   "outputs": [],
   "source": [
    "results_train = api.NetworkHomologies(svd_model, train_batch, layers = [\"layer2\", \"layer4\", \"fc\"],\n",
    "                                hom_type = \"sparse\", coefs_type = \"2\")\n",
    "results_test = api.NetworkHomologies(svd_model, test_batch, layers = [\"layer2\", \"layer4\", \"fc\"],\n",
    "                                hom_type = \"sparse\", coefs_type = \"2\")"
   ]
  },
  {
   "cell_type": "code",
   "execution_count": 17,
   "metadata": {
    "scrolled": true
   },
   "outputs": [
    {
     "data": {
      "image/png": "[encoded data removed]",
      "text/plain": [
       "<Figure size 1080x360 with 1 Axes>"
      ]
     },
     "metadata": {},
     "output_type": "display_data"
    },
    {
     "data": {
      "image/png": "[encoded data removed]",
      "text/plain": [
       "<Figure size 1080x360 with 1 Axes>"
      ]
     },
     "metadata": {},
     "output_type": "display_data"
    }
   ],
   "source": [
    "display(results_train[\"layer4\"], results_test[\"layer4\"])"
   ]
  },
  {
   "cell_type": "code",
   "execution_count": 18,
   "metadata": {
    "scrolled": false
   },
   "outputs": [
    {
     "data": {
      "image/png": "[encoded data removed]",
      "text/plain": [
       "<Figure size 1080x360 with 1 Axes>"
      ]
     },
     "metadata": {},
     "output_type": "display_data"
    },
    {
     "data": {
      "image/png": "[encoded data removed]",
      "text/plain": [
       "<Figure size 1080x360 with 1 Axes>"
      ]
     },
     "metadata": {},
     "output_type": "display_data"
    }
   ],
   "source": [
    "display(results_train[\"fc\"], results_test[\"fc\"])"
   ]
  },
  {
   "cell_type": "markdown",
   "metadata": {},
   "source": [
    "По графику видно, что топология образов тестовых данных и тренировочных данных существенно отличается - на более, чем 100% - что говорит о том, что модель, скорее всего, выявила существенно неинформативные признаки. С другой стороны, разделенность только растёт, что говорит об устойчивости классификации"
   ]
  },
  {
   "cell_type": "markdown",
   "metadata": {},
   "source": [
    "### Оценка робастности"
   ]
  },
  {
   "cell_type": "code",
   "execution_count": 19,
   "metadata": {},
   "outputs": [],
   "source": [
    "results_cleaned = api.NetworkHomologies(svd_model, train_batch, layers = [\"layer2\", \"layer4\", \"fc\"],\n",
    "                                hom_type = \"sparse\", coefs_type = \"2\")\n",
    "noise = torch.randn(train_batch.shape)*(train_batch.max() - train_batch.min())*0.1\n",
    "results_noised = api.NetworkHomologies(svd_model, train_batch + noise, \n",
    "                                       layers = [\"layer2\", \"layer4\", \"fc\"],\n",
    "                                       hom_type = \"sparse\", coefs_type = \"2\")"
   ]
  },
  {
   "cell_type": "code",
   "execution_count": 20,
   "metadata": {},
   "outputs": [
    {
     "data": {
      "image/png": "[encoded data removed]",
      "text/plain": [
       "<Figure size 1080x360 with 1 Axes>"
      ]
     },
     "metadata": {},
     "output_type": "display_data"
    },
    {
     "data": {
      "image/png": "[encoded data removed]",
      "text/plain": [
       "<Figure size 1080x360 with 1 Axes>"
      ]
     },
     "metadata": {},
     "output_type": "display_data"
    }
   ],
   "source": [
    "display(results_cleaned[\"fc\"], results_noised[\"fc\"])"
   ]
  },
  {
   "cell_type": "markdown",
   "metadata": {},
   "source": [
    "По графику видно, что изменение протяжённости баркода при добавлении шума составляет примерно 25%, что говорит о том, что модель уязвима к шумам"
   ]
  },
  {
   "cell_type": "markdown",
   "metadata": {},
   "source": [
    "## Прореженная модель (ResNet18_SVD_pruned)"
   ]
  },
  {
   "cell_type": "markdown",
   "metadata": {},
   "source": [
    "Ниже производится оценка модели ResNet18_SVD_pruned по двум пунктам:\n",
    "\n",
    "1) Разница топологий образов тренировочных и тестовых данных\n",
    "\n",
    "2) Робастность модели к шумам через оценку разницы топологии зашумлённых и не зашумлённых данных"
   ]
  },
  {
   "cell_type": "code",
   "execution_count": 21,
   "metadata": {
    "scrolled": true
   },
   "outputs": [
    {
     "name": "stdout",
     "output_type": "stream",
     "text": [
      "Number of parameters: 7206832\n"
     ]
    },
    {
     "data": {
      "text/plain": [
       "ResNet(\n",
       "  (conv1): DecomposedConv2d(3, 64, kernel_size=(7, 7), stride=(2, 2), padding=(3, 3), bias=False)\n",
       "  (bn1): BatchNorm2d(64, eps=1e-05, momentum=0.1, affine=True, track_running_stats=True)\n",
       "  (relu): ReLU(inplace=True)\n",
       "  (maxpool): MaxPool2d(kernel_size=3, stride=2, padding=1, dilation=1, ceil_mode=False)\n",
       "  (layer1): Sequential(\n",
       "    (0): BasicBlock(\n",
       "      (conv1): DecomposedConv2d(64, 64, kernel_size=(3, 3), stride=(1, 1), padding=(1, 1), bias=False)\n",
       "      (bn1): BatchNorm2d(64, eps=1e-05, momentum=0.1, affine=True, track_running_stats=True)\n",
       "      (relu): ReLU(inplace=True)\n",
       "      (conv2): DecomposedConv2d(64, 64, kernel_size=(3, 3), stride=(1, 1), padding=(1, 1), bias=False)\n",
       "      (bn2): BatchNorm2d(64, eps=1e-05, momentum=0.1, affine=True, track_running_stats=True)\n",
       "    )\n",
       "    (1): BasicBlock(\n",
       "      (conv1): DecomposedConv2d(64, 64, kernel_size=(3, 3), stride=(1, 1), padding=(1, 1), bias=False)\n",
       "      (bn1): BatchNorm2d(64, eps=1e-05, momentum=0.1, affine=True, track_running_stats=True)\n",
       "      (relu): ReLU(inplace=True)\n",
       "      (conv2): DecomposedConv2d(64, 64, kernel_size=(3, 3), stride=(1, 1), padding=(1, 1), bias=False)\n",
       "      (bn2): BatchNorm2d(64, eps=1e-05, momentum=0.1, affine=True, track_running_stats=True)\n",
       "    )\n",
       "  )\n",
       "  (layer2): Sequential(\n",
       "    (0): BasicBlock(\n",
       "      (conv1): DecomposedConv2d(64, 128, kernel_size=(3, 3), stride=(2, 2), padding=(1, 1), bias=False)\n",
       "      (bn1): BatchNorm2d(128, eps=1e-05, momentum=0.1, affine=True, track_running_stats=True)\n",
       "      (relu): ReLU(inplace=True)\n",
       "      (conv2): DecomposedConv2d(128, 128, kernel_size=(3, 3), stride=(1, 1), padding=(1, 1), bias=False)\n",
       "      (bn2): BatchNorm2d(128, eps=1e-05, momentum=0.1, affine=True, track_running_stats=True)\n",
       "      (downsample): Sequential(\n",
       "        (0): DecomposedConv2d(64, 128, kernel_size=(1, 1), stride=(2, 2), bias=False)\n",
       "        (1): BatchNorm2d(128, eps=1e-05, momentum=0.1, affine=True, track_running_stats=True)\n",
       "      )\n",
       "    )\n",
       "    (1): BasicBlock(\n",
       "      (conv1): DecomposedConv2d(128, 128, kernel_size=(3, 3), stride=(1, 1), padding=(1, 1), bias=False)\n",
       "      (bn1): BatchNorm2d(128, eps=1e-05, momentum=0.1, affine=True, track_running_stats=True)\n",
       "      (relu): ReLU(inplace=True)\n",
       "      (conv2): DecomposedConv2d(128, 128, kernel_size=(3, 3), stride=(1, 1), padding=(1, 1), bias=False)\n",
       "      (bn2): BatchNorm2d(128, eps=1e-05, momentum=0.1, affine=True, track_running_stats=True)\n",
       "    )\n",
       "  )\n",
       "  (layer3): Sequential(\n",
       "    (0): BasicBlock(\n",
       "      (conv1): DecomposedConv2d(128, 256, kernel_size=(3, 3), stride=(2, 2), padding=(1, 1), bias=False)\n",
       "      (bn1): BatchNorm2d(256, eps=1e-05, momentum=0.1, affine=True, track_running_stats=True)\n",
       "      (relu): ReLU(inplace=True)\n",
       "      (conv2): DecomposedConv2d(256, 256, kernel_size=(3, 3), stride=(1, 1), padding=(1, 1), bias=False)\n",
       "      (bn2): BatchNorm2d(256, eps=1e-05, momentum=0.1, affine=True, track_running_stats=True)\n",
       "      (downsample): Sequential(\n",
       "        (0): DecomposedConv2d(128, 256, kernel_size=(1, 1), stride=(2, 2), bias=False)\n",
       "        (1): BatchNorm2d(256, eps=1e-05, momentum=0.1, affine=True, track_running_stats=True)\n",
       "      )\n",
       "    )\n",
       "    (1): BasicBlock(\n",
       "      (conv1): DecomposedConv2d(256, 256, kernel_size=(3, 3), stride=(1, 1), padding=(1, 1), bias=False)\n",
       "      (bn1): BatchNorm2d(256, eps=1e-05, momentum=0.1, affine=True, track_running_stats=True)\n",
       "      (relu): ReLU(inplace=True)\n",
       "      (conv2): DecomposedConv2d(256, 256, kernel_size=(3, 3), stride=(1, 1), padding=(1, 1), bias=False)\n",
       "      (bn2): BatchNorm2d(256, eps=1e-05, momentum=0.1, affine=True, track_running_stats=True)\n",
       "    )\n",
       "  )\n",
       "  (layer4): Sequential(\n",
       "    (0): BasicBlock(\n",
       "      (conv1): DecomposedConv2d(256, 512, kernel_size=(3, 3), stride=(2, 2), padding=(1, 1), bias=False)\n",
       "      (bn1): BatchNorm2d(512, eps=1e-05, momentum=0.1, affine=True, track_running_stats=True)\n",
       "      (relu): ReLU(inplace=True)\n",
       "      (conv2): DecomposedConv2d(512, 512, kernel_size=(3, 3), stride=(1, 1), padding=(1, 1), bias=False)\n",
       "      (bn2): BatchNorm2d(512, eps=1e-05, momentum=0.1, affine=True, track_running_stats=True)\n",
       "      (downsample): Sequential(\n",
       "        (0): DecomposedConv2d(256, 512, kernel_size=(1, 1), stride=(2, 2), bias=False)\n",
       "        (1): BatchNorm2d(512, eps=1e-05, momentum=0.1, affine=True, track_running_stats=True)\n",
       "      )\n",
       "    )\n",
       "    (1): BasicBlock(\n",
       "      (conv1): DecomposedConv2d(512, 512, kernel_size=(3, 3), stride=(1, 1), padding=(1, 1), bias=False)\n",
       "      (bn1): BatchNorm2d(512, eps=1e-05, momentum=0.1, affine=True, track_running_stats=True)\n",
       "      (relu): ReLU(inplace=True)\n",
       "      (conv2): DecomposedConv2d(512, 512, kernel_size=(3, 3), stride=(1, 1), padding=(1, 1), bias=False)\n",
       "      (bn2): BatchNorm2d(512, eps=1e-05, momentum=0.1, affine=True, track_running_stats=True)\n",
       "    )\n",
       "  )\n",
       "  (avgpool): AdaptiveAvgPool2d(output_size=(1, 1))\n",
       "  (fc): Linear(in_features=512, out_features=10, bias=True)\n",
       ")"
      ]
     },
     "execution_count": 21,
     "metadata": {},
     "output_type": "execute_result"
    }
   ],
   "source": [
    "import copy\n",
    "\n",
    "#обрезка модели, значения energy_threshold из промежутка (0, 1)\n",
    "pruned_model = copy.deepcopy(svd_model)\n",
    "prune_model(model=pruned_model, energy_threshold=0.9)\n",
    "print(f\"Number of parameters: {number_of_params(pruned_model)}\")\n",
    "pruned_model.eval()"
   ]
  },
  {
   "cell_type": "code",
   "execution_count": 22,
   "metadata": {},
   "outputs": [],
   "source": [
    "results_train = api.NetworkHomologies(pruned_model, train_batch, layers = [\"layer2\", \"layer4\", \"fc\"],\n",
    "                                hom_type = \"sparse\", coefs_type = \"2\")\n",
    "results_test = api.NetworkHomologies(pruned_model, test_batch, layers = [\"layer2\", \"layer4\", \"fc\"],\n",
    "                                hom_type = \"sparse\", coefs_type = \"2\")"
   ]
  },
  {
   "cell_type": "code",
   "execution_count": 23,
   "metadata": {
    "scrolled": true
   },
   "outputs": [
    {
     "data": {
      "image/png": "[encoded data removed]",
      "text/plain": [
       "<Figure size 1080x360 with 1 Axes>"
      ]
     },
     "metadata": {},
     "output_type": "display_data"
    },
    {
     "data": {
      "image/png": "[encoded data removed]",
      "text/plain": [
       "<Figure size 1080x360 with 1 Axes>"
      ]
     },
     "metadata": {},
     "output_type": "display_data"
    }
   ],
   "source": [
    "display(results_train[\"layer4\"], results_test[\"layer4\"])"
   ]
  },
  {
   "cell_type": "code",
   "execution_count": 24,
   "metadata": {
    "scrolled": false
   },
   "outputs": [
    {
     "data": {
      "image/png": "[encoded data removed]",
      "text/plain": [
       "<Figure size 1080x360 with 1 Axes>"
      ]
     },
     "metadata": {},
     "output_type": "display_data"
    },
    {
     "data": {
      "image/png": "[encoded data removed]",
      "text/plain": [
       "<Figure size 1080x360 with 1 Axes>"
      ]
     },
     "metadata": {},
     "output_type": "display_data"
    }
   ],
   "source": [
    "display(results_train[\"fc\"], results_test[\"fc\"])"
   ]
  },
  {
   "cell_type": "markdown",
   "metadata": {},
   "source": [
    "Из графиков видно, что изменение разделённости между тренировочными и тестовыми данными составляет не более 15%, что говорит о том, что прореживание эффективно убрало из модели неинформативные признаки. С другой стороны, сохранилась закономерность, что разделённость только растёт, что говорит о том, что устойчивость классификации сохранилась"
   ]
  },
  {
   "cell_type": "markdown",
   "metadata": {},
   "source": [
    "### Оценка робастности"
   ]
  },
  {
   "cell_type": "code",
   "execution_count": 25,
   "metadata": {},
   "outputs": [],
   "source": [
    "results_cleaned = api.NetworkHomologies(pruned_model, train_batch, layers = [\"layer2\", \"layer4\", \"fc\"],\n",
    "                                hom_type = \"sparse\", coefs_type = \"2\")\n",
    "noise = torch.randn(train_batch.shape)*(train_batch.max() - train_batch.min())*0.1\n",
    "results_noised = api.NetworkHomologies(pruned_model, train_batch + noise, \n",
    "                                       layers = [\"layer2\", \"layer4\", \"fc\"],\n",
    "                                       hom_type = \"sparse\", coefs_type = \"2\")"
   ]
  },
  {
   "cell_type": "code",
   "execution_count": 26,
   "metadata": {
    "scrolled": false
   },
   "outputs": [
    {
     "data": {
      "image/png": "[encoded data removed]",
      "text/plain": [
       "<Figure size 1080x360 with 1 Axes>"
      ]
     },
     "metadata": {},
     "output_type": "display_data"
    },
    {
     "data": {
      "image/png": "[encoded data removed]",
      "text/plain": [
       "<Figure size 1080x360 with 1 Axes>"
      ]
     },
     "metadata": {},
     "output_type": "display_data"
    }
   ],
   "source": [
    "display(results_cleaned[\"fc\"], results_noised[\"fc\"])"
   ]
  },
  {
   "cell_type": "markdown",
   "metadata": {},
   "source": [
    "По графику видно, что изменение протяженности баркода близко к 0%, что говорит о высоком уровне робастности модели."
   ]
  },
  {
   "cell_type": "markdown",
   "metadata": {},
   "source": [
    "## Проверка"
   ]
  },
  {
   "cell_type": "markdown",
   "metadata": {},
   "source": [
    "Проведём проверку того, что изменение в протяжённости баркодов коррелирует с уровнем шума в данных.\n",
    "\n",
    "Замерять связь будем с помощью коэффициента корелляции Спирмена - коэффициента, измеряющего монотонную взаимосвязь между переменными. Также дополнительно сопроводим измерение графиком"
   ]
  },
  {
   "cell_type": "code",
   "execution_count": 120,
   "metadata": {},
   "outputs": [],
   "source": [
    "import numpy as np\n",
    "\n",
    "def noise_batch(batch, std = 0.1):\n",
    "    return batch + torch.randn(batch.shape)*std\n",
    "\n",
    "vals = np.arange(0, 10, 0.25)\n",
    "\n",
    "min_list = []\n",
    "max_list = []\n",
    "\n",
    "diff_list = []\n",
    "\n",
    "results_cleaned = api.NetworkHomologies(svd_model, train_batch, layers = [\"fc\"],\n",
    "                                           hom_type = \"sparse\", coefs_type = \"2\")\n",
    "res0 = np.array([i.get_xdata()[1] - i.get_xdata()[0] for i in results_cleaned[\"fc\"].get_axes()[0].lines])\n",
    "\n",
    "for i in vals:\n",
    "    results_noised = api.NetworkHomologies(svd_model, noise_batch(train_batch, i), layers = [\"fc\"],\n",
    "                                           hom_type = \"sparse\", coefs_type = \"2\")\n",
    "    \n",
    "    res = np.array([i.get_xdata()[1] - i.get_xdata()[0] for i in results_noised[\"fc\"].get_axes()[0].lines])\n",
    "    max_list.append(np.percentile(res, 90))\n",
    "    min_list.append(np.percentile(res, 10))\n",
    "    \n",
    "    diff_list.append(np.mean(np.abs(res - res0)))"
   ]
  },
  {
   "cell_type": "code",
   "execution_count": 123,
   "metadata": {},
   "outputs": [
    {
     "data": {
      "text/plain": [
       "Text(0, 0.5, 'barcode mean abs difference')"
      ]
     },
     "execution_count": 123,
     "metadata": {},
     "output_type": "execute_result"
    },
    {
     "data": {
      "image/png": "[encoded data removed]",
      "text/plain": [
       "<Figure size 432x288 with 1 Axes>"
      ]
     },
     "metadata": {
      "needs_background": "light"
     },
     "output_type": "display_data"
    }
   ],
   "source": [
    "import matplotlib.pyplot as plt\n",
    "from scipy.stats import spearmanr\n",
    "\n",
    "corr = spearmanr(vals, diff_list)[0]\n",
    "plt.plot(vals, diff_list)\n",
    "plt.title(\"Spearman correlation is {}\".format(round(corr, 2)))\n",
    "plt.xlabel(\"noise_std\")\n",
    "plt.ylabel(\"barcode mean abs difference\")"
   ]
  },
  {
   "cell_type": "markdown",
   "metadata": {},
   "source": [
    "По графику и величине коэффициента корелляции Спирмена видна сильная монотонная взаимосвязь между уровнем шума в данных и изменением в протяженности баркода"
   ]
  },
  {
   "cell_type": "markdown",
   "metadata": {},
   "source": [
    "## Влияние коэффициента гомологий на итоговый баркод"
   ]
  },
  {
   "cell_type": "code",
   "execution_count": 134,
   "metadata": {},
   "outputs": [
    {
     "data": {
      "image/png": "[encoded data removed]",
      "text/plain": [
       "<Figure size 1080x360 with 1 Axes>"
      ]
     },
     "execution_count": 134,
     "metadata": {},
     "output_type": "execute_result"
    }
   ],
   "source": [
    "results_cleaned1 = api.NetworkHomologies(svd_model, train_batch, layers = [\"fc\"],\n",
    "                                           hom_type = \"sparse\", coefs_type = \"7\")\n",
    "\n",
    "results_cleaned1[\"fc\"]"
   ]
  },
  {
   "cell_type": "code",
   "execution_count": 133,
   "metadata": {},
   "outputs": [
    {
     "data": {
      "image/png": "[encoded data removed]",
      "text/plain": [
       "<Figure size 1080x360 with 1 Axes>"
      ]
     },
     "execution_count": 133,
     "metadata": {},
     "output_type": "execute_result"
    }
   ],
   "source": [
    "results_cleaned[\"fc\"]"
   ]
  },
  {
   "cell_type": "markdown",
   "metadata": {},
   "source": [
    "По графикам видно, что различий между результатами с коэффициентами из поля характеристики 2 и коэффициентами из поля характеристики 7 не наблюдается"
   ]
  },
  {
   "cell_type": "code",
   "execution_count": null,
   "metadata": {},
   "outputs": [],
   "source": []
  }
 ],
 "metadata": {
  "kernelspec": {
   "display_name": "Python 3",
   "language": "python",
   "name": "python3"
  },
  "language_info": {
   "codemirror_mode": {
    "name": "ipython",
    "version": 3
   },
   "file_extension": ".py",
   "mimetype": "text/x-python",
   "name": "python",
   "nbconvert_exporter": "python",
   "pygments_lexer": "ipython3",
   "version": "3.7.6"
  },
  "vscode": {
   "interpreter": {
    "hash": "aee8b7b246df8f9039afb4144a1f6fd8d2ca17a180786b69acc140d282b71a49"
   }
  }
 },
 "nbformat": 4,
 "nbformat_minor": 1
}
