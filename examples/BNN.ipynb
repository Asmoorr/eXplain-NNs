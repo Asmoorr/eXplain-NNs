{
 "cells": [
  {
   "cell_type": "code",
   "execution_count": 1,
   "id": "ca482463",
   "metadata": {},
   "outputs": [],
   "source": [
    "import os\n",
    "os.chdir('..')"
   ]
  },
  {
   "cell_type": "code",
   "execution_count": 2,
   "id": "eb0b6bb2",
   "metadata": {},
   "outputs": [],
   "source": [
    "from torchvision.datasets import MNIST\n",
    "import torch\n",
    "import torch.nn as nn\n",
    "import torchvision.transforms as TF\n",
    "from tqdm.auto import tqdm\n",
    "from eXNN.NetBayesianization import api, wrap"
   ]
  },
  {
   "cell_type": "code",
   "execution_count": 3,
   "id": "e51ad2be",
   "metadata": {},
   "outputs": [],
   "source": [
    "train_ds = MNIST(root='./.cache', train=True, download=True, \n",
    "                 transform=TF.ToTensor()) \n",
    "test_ds = MNIST(root='./.cache', train=False, download=False, \n",
    "                transform=TF.ToTensor())"
   ]
  },
  {
   "cell_type": "code",
   "execution_count": 4,
   "id": "a17defee",
   "metadata": {},
   "outputs": [],
   "source": [
    "train_dl = torch.utils.data.DataLoader(train_ds, batch_size=36, shuffle=True)\n",
    "test_dl = torch.utils.data.DataLoader(test_ds, batch_size=36, shuffle=False)"
   ]
  },
  {
   "cell_type": "code",
   "execution_count": 5,
   "id": "be97a1a5",
   "metadata": {},
   "outputs": [],
   "source": [
    "num_classes = 10"
   ]
  },
  {
   "cell_type": "code",
   "execution_count": 6,
   "id": "ff145657",
   "metadata": {},
   "outputs": [],
   "source": [
    "model = nn.Sequential(nn.Flatten(), nn.Linear(28*28, 256), \n",
    "                       nn.ReLU(), nn.Linear(256, 64), \n",
    "                       nn.ReLU(), nn.Linear(64, num_classes))\n",
    "optimizer = torch.optim.Adam(model.parameters(), lr=1e-3)"
   ]
  },
  {
   "cell_type": "code",
   "execution_count": 7,
   "id": "eb9c45c4",
   "metadata": {},
   "outputs": [
    {
     "data": {
      "application/vnd.jupyter.widget-view+json": {
       "model_id": "88a78af0fd454e768d187a87a07d6c4d",
       "version_major": 2,
       "version_minor": 0
      },
      "text/plain": [
       "  0%|          | 0/20 [00:00<?, ?it/s]"
      ]
     },
     "metadata": {},
     "output_type": "display_data"
    }
   ],
   "source": [
    "# train\n",
    "n_epochs = 20\n",
    "loss_fn = nn.CrossEntropyLoss()\n",
    "for epoch in tqdm(list(range(n_epochs))):\n",
    "    for imgs, lbls in train_dl:\n",
    "        optimizer.zero_grad()\n",
    "        out = model(imgs)\n",
    "        loss = loss_fn(out, lbls)\n",
    "        loss.backward()\n",
    "        optimizer.step()"
   ]
  },
  {
   "cell_type": "code",
   "execution_count": 8,
   "id": "11f69aff",
   "metadata": {},
   "outputs": [],
   "source": [
    "# predict\n",
    "all_preds = []\n",
    "all_lbls = []\n",
    "for imgs, lbls in test_dl:\n",
    "    with torch.no_grad():\n",
    "        pred = model(imgs).argmax(dim=1)\n",
    "    all_preds.append(pred)\n",
    "    all_lbls.append(lbls)\n",
    "all_preds = torch.cat(all_preds, dim=0)\n",
    "all_lbls = torch.cat(all_lbls, dim=0)"
   ]
  },
  {
   "cell_type": "code",
   "execution_count": 9,
   "id": "4dd7a1d9",
   "metadata": {},
   "outputs": [
    {
     "name": "stdout",
     "output_type": "stream",
     "text": [
      "Accuracy is:  0.9819999933242798\n"
     ]
    }
   ],
   "source": [
    "# evaluate\n",
    "print('Accuracy is: ', (all_preds == all_lbls).float().mean().item())"
   ]
  },
  {
   "cell_type": "code",
   "execution_count": 11,
   "id": "1f0871c3",
   "metadata": {},
   "outputs": [],
   "source": [
    "# build bayesian model\n",
    "bayes_model = api.BasicBayesianWrapper(model, 'basic', 0.1, None, None)"
   ]
  },
  {
   "cell_type": "code",
   "execution_count": 16,
   "id": "4b70d4c9",
   "metadata": {},
   "outputs": [],
   "source": [
    "# predict\n",
    "n_iter = 3\n",
    "\n",
    "all_preds = []\n",
    "all_lbls = []\n",
    "for imgs, lbls in test_dl:\n",
    "    all_lbls.append(lbls)\n",
    "    all_preds.append(bayes_model.predict(imgs, n_iter))\n",
    "all_preds = torch.cat(all_preds, dim=0)\n",
    "all_lbls = torch.cat(all_lbls, dim=0)"
   ]
  },
  {
   "cell_type": "code",
   "execution_count": 18,
   "id": "a10b0633",
   "metadata": {},
   "outputs": [
    {
     "name": "stdout",
     "output_type": "stream",
     "text": [
      "Accuracy of mean predictions is:  0.9627000093460083\n"
     ]
    }
   ],
   "source": [
    "# evaluate\n",
    "print('Accuracy of mean predictions is: ', (all_preds == all_lbls).float().mean().item())"
   ]
  }
 ],
 "metadata": {
  "kernelspec": {
   "display_name": "eXNN",
   "language": "python",
   "name": "exnn"
  },
  "language_info": {
   "codemirror_mode": {
    "name": "ipython",
    "version": 3
   },
   "file_extension": ".py",
   "mimetype": "text/x-python",
   "name": "python",
   "nbconvert_exporter": "python",
   "pygments_lexer": "ipython3",
   "version": "3.8.13"
  }
 },
 "nbformat": 4,
 "nbformat_minor": 5
}
