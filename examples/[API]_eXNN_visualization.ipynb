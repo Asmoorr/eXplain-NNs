{
  "nbformat": 4,
  "nbformat_minor": 0,
  "metadata": {
    "colab": {
      "provenance": []
    },
    "kernelspec": {
      "name": "python3",
      "display_name": "Python 3"
    },
    "language_info": {
      "name": "python"
    }
  },
  "cells": [
    {
      "cell_type": "code",
      "execution_count": null,
      "metadata": {
        "id": "_5OsOsHxJ9FY"
      },
      "outputs": [],
      "source": [
        "!pip install git+https://github.com/aimclub/eXplain-NNs &> /dev/null\n",
        "\n",
        "# !wget https://raw.githubusercontent.com/aimclub/eXplain-NNs/main/requirements.txt\n",
        "# !pip install -r requirements.txt\n",
        "! pip install torchmetrics &> /dev/null\n",
        "! pip install pip install giotto-ph==0.2.2 &> /dev/null\n",
        "! pip install pip install giotto-tda==0.6.0 &> /dev/null\n",
        "! pip install umap-learn==0.5.3 &> /dev/null\n"
      ]
    },
    {
      "cell_type": "code",
      "source": [
        "from torchvision.datasets import MNIST\n",
        "import torch\n",
        "import torch.nn as nn\n",
        "import torchvision.transforms as TF"
      ],
      "metadata": {
        "id": "Qb4zpt1MNc38"
      },
      "execution_count": null,
      "outputs": []
    },
    {
      "cell_type": "code",
      "source": [
        "from eXNN.visualization import get_random_input, visualize_layer_manifolds"
      ],
      "metadata": {
        "colab": {
          "base_uri": "https://localhost:8080/"
        },
        "id": "vTSvYx04OYe3",
        "outputId": "17e82241-c013-4412-9046-977494192595"
      },
      "execution_count": null,
      "outputs": [
        {
          "output_type": "stream",
          "name": "stderr",
          "text": [
            "/usr/local/lib/python3.10/dist-packages/umap/distances.py:1063: NumbaDeprecationWarning: The 'nopython' keyword argument was not supplied to the 'numba.jit' decorator. The implicit default value for this argument is currently False, but it will be changed to True in Numba 0.59.0. See https://numba.readthedocs.io/en/stable/reference/deprecation.html#deprecation-of-object-mode-fall-back-behaviour-when-using-jit for details.\n",
            "  @numba.jit()\n",
            "/usr/local/lib/python3.10/dist-packages/umap/distances.py:1071: NumbaDeprecationWarning: The 'nopython' keyword argument was not supplied to the 'numba.jit' decorator. The implicit default value for this argument is currently False, but it will be changed to True in Numba 0.59.0. See https://numba.readthedocs.io/en/stable/reference/deprecation.html#deprecation-of-object-mode-fall-back-behaviour-when-using-jit for details.\n",
            "  @numba.jit()\n",
            "/usr/local/lib/python3.10/dist-packages/umap/distances.py:1086: NumbaDeprecationWarning: The 'nopython' keyword argument was not supplied to the 'numba.jit' decorator. The implicit default value for this argument is currently False, but it will be changed to True in Numba 0.59.0. See https://numba.readthedocs.io/en/stable/reference/deprecation.html#deprecation-of-object-mode-fall-back-behaviour-when-using-jit for details.\n",
            "  @numba.jit()\n",
            "/usr/local/lib/python3.10/dist-packages/umap/umap_.py:660: NumbaDeprecationWarning: The 'nopython' keyword argument was not supplied to the 'numba.jit' decorator. The implicit default value for this argument is currently False, but it will be changed to True in Numba 0.59.0. See https://numba.readthedocs.io/en/stable/reference/deprecation.html#deprecation-of-object-mode-fall-back-behaviour-when-using-jit for details.\n",
            "  @numba.jit()\n"
          ]
        }
      ]
    },
    {
      "cell_type": "code",
      "source": [
        "# load MNIST test to use as input data\n",
        "ds = MNIST(root='./.cache', train=False, download=True, transform=TF.ToTensor())"
      ],
      "metadata": {
        "colab": {
          "base_uri": "https://localhost:8080/"
        },
        "id": "YJXtfX9CMu15",
        "outputId": "be6d5ea9-6048-402a-b535-1bd9b756b67a"
      },
      "execution_count": null,
      "outputs": [
        {
          "output_type": "stream",
          "name": "stdout",
          "text": [
            "Downloading http://yann.lecun.com/exdb/mnist/train-images-idx3-ubyte.gz\n",
            "Downloading http://yann.lecun.com/exdb/mnist/train-images-idx3-ubyte.gz to ./.cache/MNIST/raw/train-images-idx3-ubyte.gz\n"
          ]
        },
        {
          "output_type": "stream",
          "name": "stderr",
          "text": [
            "100%|██████████| 9912422/9912422 [00:00<00:00, 114485700.88it/s]\n"
          ]
        },
        {
          "output_type": "stream",
          "name": "stdout",
          "text": [
            "Extracting ./.cache/MNIST/raw/train-images-idx3-ubyte.gz to ./.cache/MNIST/raw\n",
            "\n",
            "Downloading http://yann.lecun.com/exdb/mnist/train-labels-idx1-ubyte.gz\n",
            "Downloading http://yann.lecun.com/exdb/mnist/train-labels-idx1-ubyte.gz to ./.cache/MNIST/raw/train-labels-idx1-ubyte.gz\n"
          ]
        },
        {
          "output_type": "stream",
          "name": "stderr",
          "text": [
            "100%|██████████| 28881/28881 [00:00<00:00, 75286323.07it/s]"
          ]
        },
        {
          "output_type": "stream",
          "name": "stdout",
          "text": [
            "Extracting ./.cache/MNIST/raw/train-labels-idx1-ubyte.gz to ./.cache/MNIST/raw\n",
            "\n",
            "Downloading http://yann.lecun.com/exdb/mnist/t10k-images-idx3-ubyte.gz\n",
            "Downloading http://yann.lecun.com/exdb/mnist/t10k-images-idx3-ubyte.gz to ./.cache/MNIST/raw/t10k-images-idx3-ubyte.gz\n"
          ]
        },
        {
          "output_type": "stream",
          "name": "stderr",
          "text": [
            "\n",
            "100%|██████████| 1648877/1648877 [00:00<00:00, 25409723.14it/s]\n"
          ]
        },
        {
          "output_type": "stream",
          "name": "stdout",
          "text": [
            "Extracting ./.cache/MNIST/raw/t10k-images-idx3-ubyte.gz to ./.cache/MNIST/raw\n",
            "\n",
            "Downloading http://yann.lecun.com/exdb/mnist/t10k-labels-idx1-ubyte.gz\n",
            "Downloading http://yann.lecun.com/exdb/mnist/t10k-labels-idx1-ubyte.gz to ./.cache/MNIST/raw/t10k-labels-idx1-ubyte.gz\n"
          ]
        },
        {
          "output_type": "stream",
          "name": "stderr",
          "text": [
            "100%|██████████| 4542/4542 [00:00<00:00, 14918190.11it/s]\n"
          ]
        },
        {
          "output_type": "stream",
          "name": "stdout",
          "text": [
            "Extracting ./.cache/MNIST/raw/t10k-labels-idx1-ubyte.gz to ./.cache/MNIST/raw\n",
            "\n"
          ]
        }
      ]
    },
    {
      "cell_type": "code",
      "source": [
        "dl = torch.utils.data.DataLoader(ds, batch_size=36, shuffle=True)"
      ],
      "metadata": {
        "id": "K_sCrM0N6E6D"
      },
      "execution_count": null,
      "outputs": []
    },
    {
      "cell_type": "markdown",
      "source": [
        "## Fully-Connected NN"
      ],
      "metadata": {
        "id": "hkM-5iEX4dYk"
      }
    },
    {
      "cell_type": "markdown",
      "source": [
        "Let's visualize intermediate representations from 1st and 3rd layers of a shallow fully-connected NN: a fully-connected NN:\n",
        "* on some random data\n",
        "* on MNIST"
      ],
      "metadata": {
        "id": "qKE2E_pSOIib"
      }
    },
    {
      "cell_type": "code",
      "source": [
        "# create simple model\n",
        "model = nn.Sequential(nn.Linear(28*28, 256),\n",
        "                       nn.ReLU(), nn.Linear(256, 64),\n",
        "                       nn.ReLU(), nn.Linear(64, len(ds.classes)))\n",
        "\n",
        "\n",
        "\n",
        "# visualize embeddings\n",
        "layers = ['1', '3']\n",
        "mode = 'pca'"
      ],
      "metadata": {
        "id": "EtlhPPuRNmsh"
      },
      "execution_count": null,
      "outputs": []
    },
    {
      "cell_type": "markdown",
      "source": [
        "### MNIST"
      ],
      "metadata": {
        "id": "gmXd2f555_Hn"
      }
    },
    {
      "cell_type": "code",
      "source": [
        "data, labels = next(iter(dl))\n",
        "data = torch.flatten(data, start_dim=1)\n",
        "visualizations = visualize_layer_manifolds(model, mode, data, layers, labels=labels)"
      ],
      "metadata": {
        "id": "9zDkj-z76AmP"
      },
      "execution_count": null,
      "outputs": []
    },
    {
      "cell_type": "code",
      "source": [
        "visualizations['1']"
      ],
      "metadata": {
        "colab": {
          "base_uri": "https://localhost:8080/",
          "height": 406
        },
        "id": "81XzQd4Z6YdQ",
        "outputId": "eabc26e3-17b6-4402-bc20-7fae7c3741a4"
      },
      "execution_count": null,
      "outputs": [
        {
          "output_type": "execute_result",
          "data": {
            "text/plain": [
              "<Figure size 640x480 with 1 Axes>"
            ],
            "image/png": "[encoded data removed]"
          },
          "metadata": {},
          "execution_count": 16
        }
      ]
    },
    {
      "cell_type": "code",
      "source": [
        "visualizations['3']"
      ],
      "metadata": {
        "colab": {
          "base_uri": "https://localhost:8080/",
          "height": 406
        },
        "id": "spEr0tB56Z_0",
        "outputId": "e59c8315-0505-4c81-d1a0-f2a2df0eb47b"
      },
      "execution_count": null,
      "outputs": [
        {
          "output_type": "execute_result",
          "data": {
            "text/plain": [
              "<Figure size 640x480 with 1 Axes>"
            ],
            "image/png": "[encoded data removed]"
          },
          "metadata": {},
          "execution_count": 17
        }
      ]
    },
    {
      "cell_type": "markdown",
      "source": [
        "### synthetic data"
      ],
      "metadata": {
        "id": "3LzzpSil584u"
      }
    },
    {
      "cell_type": "code",
      "source": [
        "# create synthetic data\n",
        "data = get_random_input([36, 784])\n",
        "visualizations = visualize_layer_manifolds(model, mode, data, layers)"
      ],
      "metadata": {
        "id": "wShHPJWJK1e7"
      },
      "execution_count": null,
      "outputs": []
    },
    {
      "cell_type": "code",
      "source": [
        "visualizations['1']"
      ],
      "metadata": {
        "colab": {
          "base_uri": "https://localhost:8080/",
          "height": 406
        },
        "id": "bwhGy1-G6qvk",
        "outputId": "5483425f-01d5-485f-e6cd-d56954c33a22"
      },
      "execution_count": null,
      "outputs": [
        {
          "output_type": "execute_result",
          "data": {
            "text/plain": [
              "<Figure size 640x480 with 1 Axes>"
            ],
            "image/png": "[encoded data removed]"
          },
          "metadata": {},
          "execution_count": 21
        }
      ]
    },
    {
      "cell_type": "code",
      "source": [
        "visualizations['3']"
      ],
      "metadata": {
        "colab": {
          "base_uri": "https://localhost:8080/",
          "height": 406
        },
        "id": "tjW9_H6J6zMN",
        "outputId": "7b399e3b-d61b-4f1e-dd8d-fed33a56c0c7"
      },
      "execution_count": null,
      "outputs": [
        {
          "output_type": "execute_result",
          "data": {
            "text/plain": [
              "<Figure size 640x480 with 1 Axes>"
            ],
            "image/png": "[encoded data removed]"
          },
          "metadata": {},
          "execution_count": 22
        }
      ]
    },
    {
      "cell_type": "code",
      "source": [],
      "metadata": {
        "id": "vkKijqaA60Dc"
      },
      "execution_count": null,
      "outputs": []
    },
    {
      "cell_type": "markdown",
      "source": [
        "## Convolutional NN\n",
        "\n",
        "Let's do the same with a CNN. For a change,\n",
        "* let's use UMAP for dimensionality reduction instead of PCA\n",
        "* let's make visualizations for all layers of the NN"
      ],
      "metadata": {
        "id": "YcsZhuQT60pO"
      }
    },
    {
      "cell_type": "code",
      "source": [
        "model = nn.Sequential(nn.Conv2d(in_channels=1, out_channels=32, kernel_size=3),\n",
        "                      nn.ReLU(),\n",
        "                      nn.MaxPool2d(kernel_size=2, stride=2),\n",
        "                      nn.Conv2d(in_channels=32, out_channels=64, kernel_size=3),\n",
        "                      nn.ReLU(),\n",
        "                      nn.MaxPool2d(kernel_size=2, stride=2),\n",
        "                      nn.AdaptiveAvgPool2d(output_size=1),\n",
        "                      nn.Flatten(),\n",
        "                      nn.Linear(64, len(ds.classes)))"
      ],
      "metadata": {
        "id": "EG1giLMv7EUx"
      },
      "execution_count": null,
      "outputs": []
    },
    {
      "cell_type": "code",
      "source": [
        "mode = 'umap'"
      ],
      "metadata": {
        "id": "tUiClDbf7Eb8"
      },
      "execution_count": null,
      "outputs": []
    },
    {
      "cell_type": "code",
      "source": [],
      "metadata": {
        "id": "c-aO1U3C7Eeg"
      },
      "execution_count": null,
      "outputs": []
    },
    {
      "cell_type": "markdown",
      "source": [
        "### MNIST"
      ],
      "metadata": {
        "id": "5dHGh2s77Te_"
      }
    },
    {
      "cell_type": "code",
      "source": [
        "data, labels = next(iter(dl))\n",
        "visualizations = visualize_layer_manifolds(model, mode, data, labels=labels)"
      ],
      "metadata": {
        "id": "aFIXhBCQ7Tfd"
      },
      "execution_count": null,
      "outputs": []
    },
    {
      "cell_type": "code",
      "source": [
        "visualizations['6']"
      ],
      "metadata": {
        "colab": {
          "base_uri": "https://localhost:8080/",
          "height": 406
        },
        "outputId": "acc8c260-2898-41c4-f533-b5490e49fdbb",
        "id": "wQmL2cQE7Tfd"
      },
      "execution_count": null,
      "outputs": [
        {
          "output_type": "execute_result",
          "data": {
            "text/plain": [
              "<Figure size 640x480 with 1 Axes>"
            ],
            "image/png": "[encoded data removed]"
          },
          "metadata": {},
          "execution_count": 27
        }
      ]
    },
    {
      "cell_type": "markdown",
      "source": [
        "### synthetic data"
      ],
      "metadata": {
        "id": "r1w3enmP7Tff"
      }
    },
    {
      "cell_type": "code",
      "source": [
        "# create synthetic data\n",
        "data = get_random_input([36, 1, 28, 28])\n",
        "visualizations = visualize_layer_manifolds(model, mode, data)"
      ],
      "metadata": {
        "id": "YmVs2sE07Tff"
      },
      "execution_count": null,
      "outputs": []
    },
    {
      "cell_type": "code",
      "source": [
        "visualizations['5']"
      ],
      "metadata": {
        "colab": {
          "base_uri": "https://localhost:8080/",
          "height": 406
        },
        "outputId": "5f3ec334-cfa1-488b-b8a3-d271b97b1d70",
        "id": "uMth2eO17Tff"
      },
      "execution_count": null,
      "outputs": [
        {
          "output_type": "execute_result",
          "data": {
            "text/plain": [
              "<Figure size 640x480 with 1 Axes>"
            ],
            "image/png": "[encoded data removed]"
          },
          "metadata": {},
          "execution_count": 29
        }
      ]
    },
    {
      "cell_type": "code",
      "source": [],
      "metadata": {
        "id": "zfKjUAEK7Tfg"
      },
      "execution_count": null,
      "outputs": []
    }
  ]
}