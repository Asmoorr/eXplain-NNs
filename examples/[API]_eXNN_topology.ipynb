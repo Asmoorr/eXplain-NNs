{
  "nbformat": 4,
  "nbformat_minor": 0,
  "metadata": {
    "colab": {
      "provenance": [],
      "gpuType": "T4"
    },
    "kernelspec": {
      "name": "python3",
      "display_name": "Python 3"
    },
    "language_info": {
      "name": "python"
    },
    "accelerator": "GPU"
  },
  "cells": [
    {
      "cell_type": "code",
      "source": [
        "!pip install git+https://github.com/aimclub/eXplain-NNs &> /dev/null"
      ],
      "metadata": {
        "id": "eUbHBsbzyo9_"
      },
      "execution_count": null,
      "outputs": []
    },
    {
      "cell_type": "code",
      "source": [
        "! pip install torchmetrics &> /dev/null\n",
        "! pip install pip install giotto-ph==0.2.2 &> /dev/null\n",
        "! pip install pip install giotto-tda==0.6.0 &> /dev/null\n",
        "! pip install umap-learn==0.5.3 &> /dev/null"
      ],
      "metadata": {
        "id": "M0UbBIyvy6Ql"
      },
      "execution_count": null,
      "outputs": []
    },
    {
      "cell_type": "code",
      "execution_count": null,
      "metadata": {
        "id": "iRCOUotJyZSy"
      },
      "outputs": [],
      "source": [
        "import torch\n",
        "import torch.nn as nn\n",
        "import torchvision\n",
        "from torchvision.datasets import MNIST\n",
        "import torchvision.transforms as transforms\n",
        "import eXNN.topology"
      ]
    },
    {
      "cell_type": "code",
      "source": [
        "tfm = transforms.ToTensor()\n",
        "train_ds = MNIST(root='./.cache', train=True, download=True, transform=tfm)\n",
        "test_ds = MNIST(root='./.cache', train=False, download=False, transform=tfm)\n",
        "train_dl = torch.utils.data.DataLoader(train_ds, batch_size=36, shuffle=True)\n",
        "test_dl = torch.utils.data.DataLoader(test_ds, batch_size=36, shuffle=False)"
      ],
      "metadata": {
        "id": "0NQUgpOSyfQm"
      },
      "execution_count": null,
      "outputs": []
    },
    {
      "cell_type": "code",
      "source": [
        "class SimpleNN(nn.Module):\n",
        "    def __init__(self, input_dim, output_dim, hidden_dim, leaky_coef=0.1):\n",
        "        super(SimpleNN, self).__init__()\n",
        "\n",
        "        self.layer1 = nn.Sequential(\n",
        "            nn.Linear(input_dim, hidden_dim),\n",
        "            nn.LeakyReLU(leaky_coef)\n",
        "        )\n",
        "        self.layer2 = nn.Sequential(\n",
        "            nn.Linear(hidden_dim, hidden_dim),\n",
        "            nn.LeakyReLU(leaky_coef)\n",
        "        )\n",
        "        self.layer3 = nn.Sequential(\n",
        "            nn.Linear(hidden_dim, output_dim)#,\n",
        "            #nn.Sigmoid()\n",
        "        )\n",
        "\n",
        "    def forward(self, x):\n",
        "        x = nn.Flatten()(x)\n",
        "        x = self.layer1(x)\n",
        "        x = self.layer2(x)\n",
        "        x = self.layer3(x)\n",
        "        return x"
      ],
      "metadata": {
        "id": "6Fj_vcwpyhP9"
      },
      "execution_count": null,
      "outputs": []
    },
    {
      "cell_type": "code",
      "source": [
        "num_classes = 10\n",
        "device = torch.device('cuda')\n",
        "model = SimpleNN(28*28, num_classes, 64).to(device)\n",
        "optimizer = torch.optim.Adam(model.parameters(), lr=1e-3)\n",
        "\n",
        "n_epochs = 20\n",
        "loss_fn = nn.CrossEntropyLoss()\n",
        "for epoch in list(range(n_epochs)):\n",
        "    for imgs, lbls in train_dl:\n",
        "        optimizer.zero_grad()\n",
        "        out = model(imgs.to(device))\n",
        "        loss = loss_fn(out, lbls.to(device))\n",
        "        loss.backward()\n",
        "        optimizer.step()\n",
        "    print(\"Epoch {} loss: {}\".format(epoch, loss.item()))"
      ],
      "metadata": {
        "colab": {
          "base_uri": "https://localhost:8080/"
        },
        "id": "6sYT5YOQy_v4",
        "outputId": "1cbb6651-91b9-48b7-bddd-f3fb0fd1c09f"
      },
      "execution_count": null,
      "outputs": [
        {
          "output_type": "stream",
          "name": "stdout",
          "text": [
            "Epoch 0 loss: 0.32030269503593445\n",
            "Epoch 1 loss: 0.1036871150135994\n",
            "Epoch 2 loss: 0.054214075207710266\n",
            "Epoch 3 loss: 0.006467299070209265\n",
            "Epoch 4 loss: 0.09548153728246689\n",
            "Epoch 5 loss: 0.030587375164031982\n",
            "Epoch 6 loss: 0.023598909378051758\n",
            "Epoch 7 loss: 0.013796708546578884\n",
            "Epoch 8 loss: 0.0027271907310932875\n",
            "Epoch 9 loss: 0.005141113419085741\n",
            "Epoch 10 loss: 0.004088823217898607\n",
            "Epoch 11 loss: 0.005049467086791992\n",
            "Epoch 12 loss: 0.07695259153842926\n",
            "Epoch 13 loss: 0.00024215415760409087\n",
            "Epoch 14 loss: 0.00046103785280138254\n",
            "Epoch 15 loss: 0.006331140641123056\n",
            "Epoch 16 loss: 0.004958560690283775\n",
            "Epoch 17 loss: 0.0009534498676657677\n",
            "Epoch 18 loss: 9.971039980882779e-05\n",
            "Epoch 19 loss: 0.00018494240066502243\n"
          ]
        }
      ]
    },
    {
      "cell_type": "code",
      "source": [
        "model = model.to(torch.device('cpu'))\n",
        "data = torch.stack([test_ds[i][0] for i in range(100)])\n",
        "barcodes = eXNN.topology.get_nn_barcodes(model, data, layers = ['layer2'],\n",
        "                                                 hom_type = \"standard\", coefs_type = \"2\")\n",
        "barcode = barcodes['layer2']"
      ],
      "metadata": {
        "id": "1p4Zsl5xy_yk"
      },
      "execution_count": null,
      "outputs": []
    },
    {
      "cell_type": "code",
      "source": [
        "eXNN.topology.plot_barcode(barcode)"
      ],
      "metadata": {
        "colab": {
          "base_uri": "https://localhost:8080/",
          "height": 342
        },
        "id": "uKlC-RvPy_1R",
        "outputId": "81ef2945-2dde-4fdb-b944-c01c55e6e986"
      },
      "execution_count": null,
      "outputs": [
        {
          "output_type": "execute_result",
          "data": {
            "text/plain": [
              "<Figure size 1500x500 with 1 Axes>"
            ],
            "image/png": "[encoded data removed]"
          },
          "metadata": {},
          "execution_count": 8
        }
      ]
    },
    {
      "cell_type": "code",
      "source": [
        "eXNN.topology.evaluate_barcode(barcode)"
      ],
      "metadata": {
        "colab": {
          "base_uri": "https://localhost:8080/"
        },
        "id": "ze6ckbd5zLjc",
        "outputId": "b743e9e3-498d-44c6-86aa-6ad0a0310f5a"
      },
      "execution_count": null,
      "outputs": [
        {
          "output_type": "stream",
          "name": "stderr",
          "text": [
            "/usr/local/lib/python3.10/dist-packages/eXNN/topology/metrics.py:128: RuntimeWarning:\n",
            "\n",
            "divide by zero encountered in double_scalars\n",
            "\n"
          ]
        },
        {
          "output_type": "execute_result",
          "data": {
            "text/plain": [
              "{'max_length': 23.76395606994629,\n",
              " 'mean_length': 13.847213778832947,\n",
              " 'median_length': 14.244654655456543,\n",
              " 'stdev_length': 4.05714772352715,\n",
              " 'sum_length': 1370.8741641044617,\n",
              " 'ratio_2_1': 4.069119138411215,\n",
              " 'ratio_3_1': 3.8915751133693077,\n",
              " 'h': 4.550077511213507,\n",
              " 'normh': 0.6299251107499417,\n",
              " 'snr': inf,\n",
              " 'mean_birth': 0.0,\n",
              " 'stdev_birth': 0.0,\n",
              " 'mean_death': 13.847213778832947,\n",
              " 'stdev_death': 4.05714772352715}"
            ]
          },
          "metadata": {},
          "execution_count": 9
        }
      ]
    },
    {
      "cell_type": "code",
      "source": [],
      "metadata": {
        "id": "WDHhYh27zNSd"
      },
      "execution_count": null,
      "outputs": []
    }
  ]
}