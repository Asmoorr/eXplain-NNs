{
 "cells": [
  {
   "cell_type": "markdown",
   "metadata": {},
   "source": [
    "Существенной проблемой при применении моделей машинного обучения в промышленности является опасность сдвига распределения между данными, на которых строилась модель, и реальными данными. Поэтому типичным требованием к моделям в промышленности является способность детектировать данные, с которыми модель не сможет справиться. Покажем, как можно использовать библиотеку eXpain-NNs для решения данной задачи.\n",
    "\n",
    "Рассмотрим на примере задачи распознавания дефектов при изготовлении импеллеров для погружных насосов.\n",
    "На картинке приведены изображения нормального импеллера (слева) и импеллера с дефектом (справа):\n",
    "![impellers](impellers.png)\n",
    "\n",
    "Обучение модели можно посмотреть в [репозитории](https://github.com/Med-AI-Lab/eXNN-task-casting-defects). Посмотрим, как с помощью построения нейробайесовского аналога построенной модели и оценки неопределенности предсказаний мы сможем отличить чистые данные (на которых модель может сделать предсказание) от испорченных (не пригодных для предсказания). Испорченные данные построим с помощью состязательной FGSM-атаки."
   ]
  },
  {
   "cell_type": "markdown",
   "metadata": {
    "heading_collapsed": true
   },
   "source": [
    "## Определения функций"
   ]
  },
  {
   "cell_type": "markdown",
   "metadata": {
    "heading_collapsed": true,
    "hidden": true
   },
   "source": [
    "### Загрузка зависимостей"
   ]
  },
  {
   "cell_type": "code",
   "execution_count": 3,
   "metadata": {
    "hidden": true
   },
   "outputs": [],
   "source": [
    "import os\n",
    "os.chdir('../..')"
   ]
  },
  {
   "cell_type": "code",
   "execution_count": 4,
   "metadata": {
    "hidden": true
   },
   "outputs": [],
   "source": [
    "from pathlib import Path\n",
    "import matplotlib.pyplot as plt\n",
    "import numpy as np\n",
    "import torch\n",
    "import torch.nn as nn\n",
    "from torch.utils.data import DataLoader\n",
    "from examples.casting.data import create_datasets\n",
    "from eXNN.NetBayesianization import BasicBayesianWrapper"
   ]
  },
  {
   "cell_type": "markdown",
   "metadata": {
    "heading_collapsed": true,
    "hidden": true
   },
   "source": [
    "### Состязательная атака"
   ]
  },
  {
   "cell_type": "code",
   "execution_count": 5,
   "metadata": {
    "hidden": true
   },
   "outputs": [],
   "source": [
    "def fgsm_attack(model, loss, images, labels, eps, device):\n",
    "    \n",
    "    images = images\n",
    "    labels = labels\n",
    "    images.requires_grad = True\n",
    "    \n",
    "    outputs = model.forward(images)\n",
    "    \n",
    "    model.zero_grad()\n",
    "    cost = loss(outputs, labels).to(device)\n",
    "    cost.backward()\n",
    "    \n",
    "    attack_images = images + eps*images.grad.sign()\n",
    "    attack_images = torch.clamp(attack_images, 0, 1)\n",
    "    \n",
    "    return attack_images"
   ]
  },
  {
   "cell_type": "markdown",
   "metadata": {
    "heading_collapsed": true,
    "hidden": true
   },
   "source": [
    "### Сбор предсказаний модели"
   ]
  },
  {
   "cell_type": "code",
   "execution_count": 6,
   "metadata": {
    "hidden": true
   },
   "outputs": [],
   "source": [
    "def _d(t: torch.Tensor): \n",
    "    return t.detach().cpu()"
   ]
  },
  {
   "cell_type": "code",
   "execution_count": 13,
   "metadata": {
    "hidden": true
   },
   "outputs": [],
   "source": [
    "def collect_predictions(determ_model, bayes_model, dataset, device):\n",
    "    simple_res = {\"acc\": [], \"uncert\": []}\n",
    "    corrupted_res = {\"acc\": [], \"uncert\": []}\n",
    "\n",
    "    example_error = None\n",
    "    max_std = 0\n",
    "\n",
    "    # collect predictions\n",
    "    for i, img_data in enumerate(dataset):\n",
    "        img, cls = img_data[0].to(device).unsqueeze(0), img_data[1]\n",
    "\n",
    "        # make prediction on original data\n",
    "        pred = bayes_model.predict(img, n_iter = 10)\n",
    "        pred_mean, pred_std = _d(pred[\"mean\"]).argmax().item(), _d(pred[\"std\"])\n",
    "        simple_res[\"acc\"].append(pred_mean == cls)\n",
    "        simple_res[\"uncert\"].append(pred_std.numpy())\n",
    "\n",
    "        # make prediction on corrupted data\n",
    "        corrupted_img = fgsm_attack(determ_model, nn.NLLLoss(), img, \n",
    "                            torch.LongTensor([cls]).to(device), eps=0.01, device=device)\n",
    "        corrupted_pred = bayes_model.predict(corrupted_img, n_iter = 10)\n",
    "        corrupted_pred_mean, corrupted_pred_std = _d(corrupted_pred[\"mean\"]).argmax().item(), _d(corrupted_pred[\"std\"])\n",
    "        corrupted_res[\"acc\"].append(corrupted_pred_mean == cls)\n",
    "        corrupted_res[\"uncert\"].append(corrupted_pred_std.numpy())\n",
    "\n",
    "        # select example of the erroneous prediction with largest uncertainty for visual analysis\n",
    "        if corrupted_pred_mean != pred_mean:\n",
    "            if corrupted_pred_std.mean().item() > max_std:\n",
    "                max_std = corrupted_pred_std.mean().item()\n",
    "                example_error = [img.cpu().detach(), corrupted_img.cpu().detach(), \n",
    "                                  {i: j.cpu().detach() for i, j in pred.items()},\n",
    "                                  {i: j.cpu().detach() for i, j in corrupted_pred.items()}]\n",
    "\n",
    "        if (example_error is not None) and (i > 100):\n",
    "            break\n",
    "    \n",
    "    simple_data = np.array([np.mean(i) for i in simple_res[\"uncert\"]])\n",
    "    corrupted_data = np.array([np.mean(i) for i in corrupted_res[\"uncert\"]])\n",
    "    simple_data = simple_data[simple_data < np.percentile(simple_data, 98)]\n",
    "    corrupted_data = corrupted_data[corrupted_data < np.percentile(corrupted_data, 98)]\n",
    "    return simple_data, corrupted_data"
   ]
  },
  {
   "cell_type": "markdown",
   "metadata": {},
   "source": [
    "## Решение задачи"
   ]
  },
  {
   "cell_type": "code",
   "execution_count": 9,
   "metadata": {},
   "outputs": [],
   "source": [
    "# скачайте repository https://github.com/Med-AI-Lab/eXNN-task-casting-defects\n",
    "# переопределите ind_repo так чтобы переменная указывала путь к загруженному репозиторию\n",
    "ind_repo = Path('../eXNN-task-casting-defects')"
   ]
  },
  {
   "cell_type": "code",
   "execution_count": 10,
   "metadata": {},
   "outputs": [],
   "source": [
    "# подготовка данных\n",
    "_, test_ds = create_datasets(ind_repo / 'casting_512x512')"
   ]
  },
  {
   "cell_type": "code",
   "execution_count": 14,
   "metadata": {},
   "outputs": [],
   "source": [
    "# подготовка модели\n",
    "device = torch.device('cuda:0')\n",
    "model = torch.load(ind_repo / 'trained_model.pt', map_location=device).eval()\n",
    "# построим нейробайесовский аналог модели\n",
    "wrapper_model = BasicBayesianWrapper(model, \"beta\", p = None, a = 0.6, b = 12.0)"
   ]
  },
  {
   "cell_type": "code",
   "execution_count": 15,
   "metadata": {},
   "outputs": [],
   "source": [
    "# оценим неопределенность предсказаний на тестовой выборке на чистых и испорченных данных\n",
    "simple_data, corrupted_data = collect_predictions(model, wrapper_model, test_ds, device)"
   ]
  },
  {
   "cell_type": "code",
   "execution_count": 19,
   "metadata": {},
   "outputs": [
    {
     "data": {
      "image/png": "[encoded data removed]",
      "text/plain": [
       "<Figure size 432x288 with 1 Axes>"
      ]
     },
     "metadata": {
      "needs_background": "light"
     },
     "output_type": "display_data"
    }
   ],
   "source": [
    "# отобразим статистики неопределенности предсказаний на чистых и испорченных данных\n",
    "plt.boxplot([simple_data, corrupted_data])\n",
    "plt.xticks([1, 2], [\"чистые\", \"зашумленные\"])\n",
    "plt.plot();"
   ]
  }
 ],
 "metadata": {
  "kernelspec": {
   "display_name": "Python 3",
   "language": "python",
   "name": "python3"
  },
  "language_info": {
   "codemirror_mode": {
    "name": "ipython",
    "version": 3
   },
   "file_extension": ".py",
   "mimetype": "text/x-python",
   "name": "python",
   "nbconvert_exporter": "python",
   "pygments_lexer": "ipython3",
   "version": "3.6.12"
  }
 },
 "nbformat": 4,
 "nbformat_minor": 4
}
