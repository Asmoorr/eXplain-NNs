{
  "nbformat": 4,
  "nbformat_minor": 0,
  "metadata": {
    "colab": {
      "provenance": []
    },
    "kernelspec": {
      "name": "python3",
      "display_name": "Python 3"
    },
    "language_info": {
      "name": "python"
    }
  },
  "cells": [
    {
      "cell_type": "code",
      "source": [
        "!pip install git+https://github.com/aimclub/eXplain-NNs &> /dev/null\n",
        "!wget https://raw.githubusercontent.com/aimclub/eXplain-NNs/main/requirements.txt\n",
        "!pip install -r requirements.txt"
      ],
      "metadata": {
        "colab": {
          "base_uri": "https://localhost:8080/"
        },
        "id": "C4ITYqq7vee2",
        "outputId": "d0710799-8f20-4527-8a4b-ca15a5dca8fa"
      },
      "execution_count": null,
      "outputs": [
        {
          "output_type": "stream",
          "name": "stdout",
          "text": [
            "--2024-01-08 20:16:48--  https://raw.githubusercontent.com/aimclub/eXplain-NNs/main/requirements.txt\n",
            "Resolving raw.githubusercontent.com (raw.githubusercontent.com)... 185.199.108.133, 185.199.109.133, 185.199.110.133, ...\n",
            "Connecting to raw.githubusercontent.com (raw.githubusercontent.com)|185.199.108.133|:443... connected.\n",
            "HTTP request sent, awaiting response... 200 OK\n",
            "Length: 1486 (1.5K) [text/plain]\n",
            "Saving to: ‘requirements.txt.1’\n",
            "\n",
            "requirements.txt.1  100%[===================>]   1.45K  --.-KB/s    in 0s      \n",
            "\n",
            "2024-01-08 20:16:48 (21.8 MB/s) - ‘requirements.txt.1’ saved [1486/1486]\n",
            "\n",
            "Requirement already satisfied: asttokens==2.2.1 in /usr/local/lib/python3.10/dist-packages (from -r requirements.txt (line 1)) (2.2.1)\n",
            "Requirement already satisfied: attrs==22.1.0 in /usr/local/lib/python3.10/dist-packages (from -r requirements.txt (line 2)) (22.1.0)\n",
            "Requirement already satisfied: backcall==0.2.0 in /usr/local/lib/python3.10/dist-packages (from -r requirements.txt (line 3)) (0.2.0)\n",
            "Requirement already satisfied: certifi==2022.12.7 in /usr/local/lib/python3.10/dist-packages (from -r requirements.txt (line 4)) (2022.12.7)\n",
            "Requirement already satisfied: charset-normalizer==2.1.1 in /usr/local/lib/python3.10/dist-packages (from -r requirements.txt (line 5)) (2.1.1)\n",
            "Requirement already satisfied: comm==0.1.2 in /usr/local/lib/python3.10/dist-packages (from -r requirements.txt (line 6)) (0.1.2)\n",
            "Requirement already satisfied: contourpy==1.0.6 in /usr/local/lib/python3.10/dist-packages (from -r requirements.txt (line 7)) (1.0.6)\n",
            "Requirement already satisfied: cycler==0.11.0 in /usr/local/lib/python3.10/dist-packages (from -r requirements.txt (line 8)) (0.11.0)\n",
            "Requirement already satisfied: debugpy==1.6.4 in /usr/local/lib/python3.10/dist-packages (from -r requirements.txt (line 9)) (1.6.4)\n",
            "Requirement already satisfied: decorator==5.1.1 in /usr/local/lib/python3.10/dist-packages (from -r requirements.txt (line 10)) (5.1.1)\n",
            "Requirement already satisfied: entrypoints==0.4 in /usr/local/lib/python3.10/dist-packages (from -r requirements.txt (line 11)) (0.4)\n",
            "Requirement already satisfied: executing==1.2.0 in /usr/local/lib/python3.10/dist-packages (from -r requirements.txt (line 12)) (1.2.0)\n",
            "Requirement already satisfied: fonttools==4.38.0 in /usr/local/lib/python3.10/dist-packages (from -r requirements.txt (line 13)) (4.38.0)\n",
            "Requirement already satisfied: giotto-ph==0.2.2 in /usr/local/lib/python3.10/dist-packages (from -r requirements.txt (line 14)) (0.2.2)\n",
            "Requirement already satisfied: giotto-tda==0.6.0 in /usr/local/lib/python3.10/dist-packages (from -r requirements.txt (line 15)) (0.6.0)\n",
            "Requirement already satisfied: idna==3.4 in /usr/local/lib/python3.10/dist-packages (from -r requirements.txt (line 16)) (3.4)\n",
            "Requirement already satisfied: igraph==0.10.2 in /usr/local/lib/python3.10/dist-packages (from -r requirements.txt (line 17)) (0.10.2)\n",
            "Requirement already satisfied: importlib-metadata==5.1.0 in /usr/local/lib/python3.10/dist-packages (from -r requirements.txt (line 18)) (5.1.0)\n",
            "Requirement already satisfied: iniconfig==1.1.1 in /usr/local/lib/python3.10/dist-packages (from -r requirements.txt (line 19)) (1.1.1)\n",
            "Requirement already satisfied: ipykernel==6.19.2 in /usr/local/lib/python3.10/dist-packages (from -r requirements.txt (line 20)) (6.19.2)\n",
            "Requirement already satisfied: ipython==8.7.0 in /usr/local/lib/python3.10/dist-packages (from -r requirements.txt (line 21)) (8.7.0)\n",
            "Requirement already satisfied: ipywidgets==8.0.3 in /usr/local/lib/python3.10/dist-packages (from -r requirements.txt (line 22)) (8.0.3)\n",
            "Requirement already satisfied: jedi==0.18.2 in /usr/local/lib/python3.10/dist-packages (from -r requirements.txt (line 23)) (0.18.2)\n",
            "Requirement already satisfied: joblib==1.2.0 in /usr/local/lib/python3.10/dist-packages (from -r requirements.txt (line 24)) (1.2.0)\n",
            "Requirement already satisfied: jupyter_client==7.4.8 in /usr/local/lib/python3.10/dist-packages (from -r requirements.txt (line 25)) (7.4.8)\n",
            "Requirement already satisfied: jupyter_core==5.1.0 in /usr/local/lib/python3.10/dist-packages (from -r requirements.txt (line 26)) (5.1.0)\n",
            "Requirement already satisfied: jupyterlab-widgets==3.0.4 in /usr/local/lib/python3.10/dist-packages (from -r requirements.txt (line 27)) (3.0.4)\n",
            "Requirement already satisfied: kiwisolver==1.4.4 in /usr/local/lib/python3.10/dist-packages (from -r requirements.txt (line 28)) (1.4.4)\n",
            "Requirement already satisfied: llvmlite==0.39.1 in /usr/local/lib/python3.10/dist-packages (from -r requirements.txt (line 29)) (0.39.1)\n",
            "Requirement already satisfied: matplotlib==3.6.2 in /usr/local/lib/python3.10/dist-packages (from -r requirements.txt (line 30)) (3.6.2)\n",
            "Requirement already satisfied: matplotlib-inline==0.1.6 in /usr/local/lib/python3.10/dist-packages (from -r requirements.txt (line 31)) (0.1.6)\n",
            "Requirement already satisfied: nest-asyncio==1.5.6 in /usr/local/lib/python3.10/dist-packages (from -r requirements.txt (line 32)) (1.5.6)\n",
            "Requirement already satisfied: numba==0.56.4 in /usr/local/lib/python3.10/dist-packages (from -r requirements.txt (line 33)) (0.56.4)\n",
            "Requirement already satisfied: numpy==1.23.5 in /usr/local/lib/python3.10/dist-packages (from -r requirements.txt (line 34)) (1.23.5)\n",
            "Requirement already satisfied: packaging==22.0 in /usr/local/lib/python3.10/dist-packages (from -r requirements.txt (line 35)) (22.0)\n",
            "Requirement already satisfied: pandas==1.4.1 in /usr/local/lib/python3.10/dist-packages (from -r requirements.txt (line 36)) (1.4.1)\n",
            "Requirement already satisfied: parso==0.8.3 in /usr/local/lib/python3.10/dist-packages (from -r requirements.txt (line 37)) (0.8.3)\n",
            "Requirement already satisfied: pexpect==4.8.0 in /usr/local/lib/python3.10/dist-packages (from -r requirements.txt (line 38)) (4.8.0)\n",
            "Requirement already satisfied: pickleshare==0.7.5 in /usr/local/lib/python3.10/dist-packages (from -r requirements.txt (line 39)) (0.7.5)\n",
            "Requirement already satisfied: Pillow==9.3.0 in /usr/local/lib/python3.10/dist-packages (from -r requirements.txt (line 40)) (9.3.0)\n",
            "Requirement already satisfied: platformdirs==2.6.0 in /usr/local/lib/python3.10/dist-packages (from -r requirements.txt (line 41)) (2.6.0)\n",
            "Requirement already satisfied: plotly==4.8.2 in /usr/local/lib/python3.10/dist-packages (from -r requirements.txt (line 42)) (4.8.2)\n",
            "Requirement already satisfied: pluggy==1.0.0 in /usr/local/lib/python3.10/dist-packages (from -r requirements.txt (line 43)) (1.0.0)\n",
            "Requirement already satisfied: prompt-toolkit==3.0.36 in /usr/local/lib/python3.10/dist-packages (from -r requirements.txt (line 44)) (3.0.36)\n",
            "Requirement already satisfied: psutil==5.9.4 in /usr/local/lib/python3.10/dist-packages (from -r requirements.txt (line 45)) (5.9.4)\n",
            "Requirement already satisfied: ptyprocess==0.7.0 in /usr/local/lib/python3.10/dist-packages (from -r requirements.txt (line 46)) (0.7.0)\n",
            "Requirement already satisfied: pure-eval==0.2.2 in /usr/local/lib/python3.10/dist-packages (from -r requirements.txt (line 47)) (0.2.2)\n",
            "Requirement already satisfied: py==1.11.0 in /usr/local/lib/python3.10/dist-packages (from -r requirements.txt (line 48)) (1.11.0)\n",
            "Requirement already satisfied: pyflagser==0.4.5 in /usr/local/lib/python3.10/dist-packages (from -r requirements.txt (line 49)) (0.4.5)\n",
            "Requirement already satisfied: Pygments==2.13.0 in /usr/local/lib/python3.10/dist-packages (from -r requirements.txt (line 50)) (2.13.0)\n",
            "Requirement already satisfied: pynndescent==0.5.8 in /usr/local/lib/python3.10/dist-packages (from -r requirements.txt (line 51)) (0.5.8)\n",
            "Requirement already satisfied: pyparsing==3.0.9 in /usr/local/lib/python3.10/dist-packages (from -r requirements.txt (line 52)) (3.0.9)\n",
            "Requirement already satisfied: pytest==7.1.2 in /usr/local/lib/python3.10/dist-packages (from -r requirements.txt (line 53)) (7.1.2)\n",
            "Requirement already satisfied: python-dateutil==2.8.2 in /usr/local/lib/python3.10/dist-packages (from -r requirements.txt (line 54)) (2.8.2)\n",
            "Requirement already satisfied: pytz==2022.6 in /usr/local/lib/python3.10/dist-packages (from -r requirements.txt (line 55)) (2022.6)\n",
            "Requirement already satisfied: pyzmq==24.0.1 in /usr/local/lib/python3.10/dist-packages (from -r requirements.txt (line 56)) (24.0.1)\n",
            "Requirement already satisfied: requests==2.28.1 in /usr/local/lib/python3.10/dist-packages (from -r requirements.txt (line 57)) (2.28.1)\n",
            "Requirement already satisfied: retrying==1.3.4 in /usr/local/lib/python3.10/dist-packages (from -r requirements.txt (line 58)) (1.3.4)\n",
            "Requirement already satisfied: scikit-learn==1.2.0 in /usr/local/lib/python3.10/dist-packages (from -r requirements.txt (line 59)) (1.2.0)\n",
            "Requirement already satisfied: scipy==1.9.3 in /usr/local/lib/python3.10/dist-packages (from -r requirements.txt (line 60)) (1.9.3)\n",
            "Requirement already satisfied: six==1.16.0 in /usr/local/lib/python3.10/dist-packages (from -r requirements.txt (line 61)) (1.16.0)\n",
            "Requirement already satisfied: stack-data==0.6.2 in /usr/local/lib/python3.10/dist-packages (from -r requirements.txt (line 62)) (0.6.2)\n",
            "Requirement already satisfied: texttable==1.6.7 in /usr/local/lib/python3.10/dist-packages (from -r requirements.txt (line 63)) (1.6.7)\n",
            "Requirement already satisfied: threadpoolctl==3.1.0 in /usr/local/lib/python3.10/dist-packages (from -r requirements.txt (line 64)) (3.1.0)\n",
            "Requirement already satisfied: torch==1.11.0 in /usr/local/lib/python3.10/dist-packages (from -r requirements.txt (line 65)) (1.11.0)\n",
            "Requirement already satisfied: torchvision==0.12.0 in /usr/local/lib/python3.10/dist-packages (from -r requirements.txt (line 66)) (0.12.0)\n",
            "Requirement already satisfied: tornado==6.2 in /usr/local/lib/python3.10/dist-packages (from -r requirements.txt (line 67)) (6.2)\n",
            "Requirement already satisfied: tqdm==4.64.1 in /usr/local/lib/python3.10/dist-packages (from -r requirements.txt (line 68)) (4.64.1)\n",
            "Requirement already satisfied: traitlets==5.7.1 in /usr/local/lib/python3.10/dist-packages (from -r requirements.txt (line 69)) (5.7.1)\n",
            "Requirement already satisfied: typing_extensions==4.4.0 in /usr/local/lib/python3.10/dist-packages (from -r requirements.txt (line 70)) (4.4.0)\n",
            "Requirement already satisfied: umap-learn==0.5.3 in /usr/local/lib/python3.10/dist-packages (from -r requirements.txt (line 71)) (0.5.3)\n",
            "Requirement already satisfied: urllib3==1.26.13 in /usr/local/lib/python3.10/dist-packages (from -r requirements.txt (line 72)) (1.26.13)\n",
            "Requirement already satisfied: wcwidth==0.2.5 in /usr/local/lib/python3.10/dist-packages (from -r requirements.txt (line 73)) (0.2.5)\n",
            "Requirement already satisfied: widgetsnbextension==4.0.4 in /usr/local/lib/python3.10/dist-packages (from -r requirements.txt (line 74)) (4.0.4)\n",
            "Requirement already satisfied: zipp==3.11.0 in /usr/local/lib/python3.10/dist-packages (from -r requirements.txt (line 75)) (3.11.0)\n",
            "Requirement already satisfied: flake8==6.0.0 in /usr/local/lib/python3.10/dist-packages (from -r requirements.txt (line 77)) (6.0.0)\n",
            "Requirement already satisfied: brunette==0.2.8 in /usr/local/lib/python3.10/dist-packages (from -r requirements.txt (line 78)) (0.2.8)\n",
            "Requirement already satisfied: isort==5.12.0 in /usr/local/lib/python3.10/dist-packages (from -r requirements.txt (line 79)) (5.12.0)\n",
            "Requirement already satisfied: add-trailing-comma==2.4.0 in /usr/local/lib/python3.10/dist-packages (from -r requirements.txt (line 80)) (2.4.0)\n",
            "Requirement already satisfied: pep8-naming==0.13.3 in /usr/local/lib/python3.10/dist-packages (from -r requirements.txt (line 82)) (0.13.3)\n",
            "Requirement already satisfied: flake8-bugbear==23.3.23 in /usr/local/lib/python3.10/dist-packages (from -r requirements.txt (line 83)) (23.3.23)\n",
            "Requirement already satisfied: flake8-builtins==2.1.0 in /usr/local/lib/python3.10/dist-packages (from -r requirements.txt (line 84)) (2.1.0)\n",
            "Requirement already satisfied: flake8-commas==2.1.0 in /usr/local/lib/python3.10/dist-packages (from -r requirements.txt (line 85)) (2.1.0)\n",
            "Requirement already satisfied: flake8-variables-names==0.0.5 in /usr/local/lib/python3.10/dist-packages (from -r requirements.txt (line 86)) (0.0.5)\n",
            "Requirement already satisfied: flake8-isort==6.0.0 in /usr/local/lib/python3.10/dist-packages (from -r requirements.txt (line 87)) (6.0.0)\n",
            "Requirement already satisfied: setuptools in /usr/local/lib/python3.10/dist-packages (from numba==0.56.4->-r requirements.txt (line 33)) (67.7.2)\n",
            "Requirement already satisfied: tomli>=1.0.0 in /usr/local/lib/python3.10/dist-packages (from pytest==7.1.2->-r requirements.txt (line 53)) (1.2.3)\n",
            "Requirement already satisfied: mccabe<0.8.0,>=0.7.0 in /usr/local/lib/python3.10/dist-packages (from flake8==6.0.0->-r requirements.txt (line 77)) (0.7.0)\n",
            "Requirement already satisfied: pycodestyle<2.11.0,>=2.10.0 in /usr/local/lib/python3.10/dist-packages (from flake8==6.0.0->-r requirements.txt (line 77)) (2.10.0)\n",
            "Requirement already satisfied: pyflakes<3.1.0,>=3.0.0 in /usr/local/lib/python3.10/dist-packages (from flake8==6.0.0->-r requirements.txt (line 77)) (3.0.1)\n",
            "Requirement already satisfied: wheel in /usr/local/lib/python3.10/dist-packages (from brunette==0.2.8->-r requirements.txt (line 78)) (0.42.0)\n",
            "Requirement already satisfied: black==21.12b0 in /usr/local/lib/python3.10/dist-packages (from brunette==0.2.8->-r requirements.txt (line 78)) (21.12b0)\n",
            "Requirement already satisfied: click in /usr/local/lib/python3.10/dist-packages (from brunette==0.2.8->-r requirements.txt (line 78)) (8.1.7)\n",
            "Requirement already satisfied: tokenize-rt>=3.0.1 in /usr/local/lib/python3.10/dist-packages (from add-trailing-comma==2.4.0->-r requirements.txt (line 80)) (5.2.0)\n",
            "Requirement already satisfied: pathspec<1,>=0.9.0 in /usr/local/lib/python3.10/dist-packages (from black==21.12b0->brunette==0.2.8->-r requirements.txt (line 78)) (0.12.1)\n",
            "Requirement already satisfied: mypy-extensions>=0.4.3 in /usr/local/lib/python3.10/dist-packages (from black==21.12b0->brunette==0.2.8->-r requirements.txt (line 78)) (1.0.0)\n"
          ]
        }
      ]
    },
    {
      "cell_type": "code",
      "source": [
        "import eXNN.bayes\n",
        "import eXNN.topology\n",
        "import eXNN.visualization\n",
        "\n",
        "from collections import OrderedDict\n",
        "import torch\n",
        "import torch.nn as nn"
      ],
      "metadata": {
        "colab": {
          "base_uri": "https://localhost:8080/"
        },
        "id": "D5WkDPjFvtU0",
        "outputId": "7a4f5d70-00e1-4e5a-9f87-65aa4cdac804"
      },
      "execution_count": null,
      "outputs": [
        {
          "output_type": "stream",
          "name": "stderr",
          "text": [
            "2024-01-08 20:17:35.792130: E external/local_xla/xla/stream_executor/cuda/cuda_dnn.cc:9261] Unable to register cuDNN factory: Attempting to register factory for plugin cuDNN when one has already been registered\n",
            "2024-01-08 20:17:35.792303: E external/local_xla/xla/stream_executor/cuda/cuda_fft.cc:607] Unable to register cuFFT factory: Attempting to register factory for plugin cuFFT when one has already been registered\n",
            "2024-01-08 20:17:35.964758: E external/local_xla/xla/stream_executor/cuda/cuda_blas.cc:1515] Unable to register cuBLAS factory: Attempting to register factory for plugin cuBLAS when one has already been registered\n",
            "2024-01-08 20:17:36.270625: I tensorflow/core/platform/cpu_feature_guard.cc:182] This TensorFlow binary is optimized to use available CPU instructions in performance-critical operations.\n",
            "To enable the following instructions: AVX2 FMA, in other operations, rebuild TensorFlow with the appropriate compiler flags.\n",
            "2024-01-08 20:17:41.039083: W tensorflow/compiler/tf2tensorrt/utils/py_utils.cc:38] TF-TRT Warning: Could not find TensorRT\n"
          ]
        }
      ]
    },
    {
      "cell_type": "code",
      "execution_count": null,
      "metadata": {
        "id": "G1SmDujge2S-"
      },
      "outputs": [],
      "source": [
        "N = 20\n",
        "dim = 256\n",
        "data = torch.randn((N, dim))\n",
        "\n",
        "\n",
        "layers = ['second_layer', 'third_layer']\n",
        "model = nn.Sequential(\n",
        "   OrderedDict([\n",
        "       ('first_layer', nn.Linear(256, 128)),\n",
        "       ('second_layer', nn.Linear(128, 64)),\n",
        "       ('third_layer', nn.Linear(64, 10))\n",
        "   ])\n",
        ")"
      ]
    },
    {
      "cell_type": "markdown",
      "source": [
        "# visualization"
      ],
      "metadata": {
        "id": "nLG4L6InwOHv"
      }
    },
    {
      "cell_type": "code",
      "source": [
        "visualization = eXNN.visualization.visualize_layer_manifolds(model, 'umap', data, layers=layers)"
      ],
      "metadata": {
        "colab": {
          "base_uri": "https://localhost:8080/"
        },
        "id": "gd-EIqLJwInS",
        "outputId": "005c15ad-64db-4c0b-87af-708283f04c20"
      },
      "execution_count": null,
      "outputs": [
        {
          "output_type": "stream",
          "name": "stderr",
          "text": [
            "/usr/local/lib/python3.10/dist-packages/umap/umap_.py:2344: UserWarning: n_neighbors is larger than the dataset size; truncating to X.shape[0] - 1\n",
            "  warn(\n",
            "/usr/local/lib/python3.10/dist-packages/umap/umap_.py:2344: UserWarning: n_neighbors is larger than the dataset size; truncating to X.shape[0] - 1\n",
            "  warn(\n",
            "/usr/local/lib/python3.10/dist-packages/umap/umap_.py:2344: UserWarning: n_neighbors is larger than the dataset size; truncating to X.shape[0] - 1\n",
            "  warn(\n"
          ]
        }
      ]
    },
    {
      "cell_type": "code",
      "source": [
        "visualization"
      ],
      "metadata": {
        "colab": {
          "base_uri": "https://localhost:8080/"
        },
        "id": "TOxKAfrux_6c",
        "outputId": "dfa37afd-8676-45fa-b481-8bea50917ba4"
      },
      "execution_count": null,
      "outputs": [
        {
          "output_type": "execute_result",
          "data": {
            "text/plain": [
              "{'input': <Figure size 640x480 with 1 Axes>,\n",
              " 'second_layer': <Figure size 640x480 with 1 Axes>,\n",
              " 'third_layer': <Figure size 640x480 with 1 Axes>}"
            ]
          },
          "metadata": {},
          "execution_count": 5
        }
      ]
    },
    {
      "cell_type": "code",
      "source": [
        "visualization['input']"
      ],
      "metadata": {
        "colab": {
          "base_uri": "https://localhost:8080/",
          "height": 406
        },
        "id": "tz4kuydAyB0U",
        "outputId": "2c463ab9-13e4-4bd1-8924-f9d8a63d54e4"
      },
      "execution_count": null,
      "outputs": [
        {
          "output_type": "execute_result",
          "data": {
            "text/plain": [
              "<Figure size 640x480 with 1 Axes>"
            ],
            "image/png": "[encoded data removed]"
          },
          "metadata": {},
          "execution_count": 6
        }
      ]
    },
    {
      "cell_type": "markdown",
      "source": [
        "# topology"
      ],
      "metadata": {
        "id": "7RXgNcC5wShN"
      }
    },
    {
      "cell_type": "code",
      "source": [
        "barcode = eXNN.topology.get_data_barcode(data, 'standard', '3')"
      ],
      "metadata": {
        "id": "HE6hAIRp3wME"
      },
      "execution_count": null,
      "outputs": []
    },
    {
      "cell_type": "code",
      "source": [
        "barcode"
      ],
      "metadata": {
        "id": "Ogjj77F734kZ",
        "outputId": "33a0a630-b20e-411e-d488-16895b2baf4a",
        "colab": {
          "base_uri": "https://localhost:8080/"
        }
      },
      "execution_count": null,
      "outputs": [
        {
          "output_type": "execute_result",
          "data": {
            "text/plain": [
              "{'H0': [(0.0, 20.427871704101562),\n",
              "  (0.0, 20.545785903930664),\n",
              "  (0.0, 20.72137451171875),\n",
              "  (0.0, 20.729244232177734),\n",
              "  (0.0, 20.788145065307617),\n",
              "  (0.0, 20.885828018188477),\n",
              "  (0.0, 20.979244232177734),\n",
              "  (0.0, 21.090167999267578),\n",
              "  (0.0, 21.144350051879883),\n",
              "  (0.0, 21.244359970092773),\n",
              "  (0.0, 21.267318725585938),\n",
              "  (0.0, 21.423004150390625),\n",
              "  (0.0, 21.456178665161133),\n",
              "  (0.0, 21.54694938659668),\n",
              "  (0.0, 21.78574562072754),\n",
              "  (0.0, 21.987905502319336),\n",
              "  (0.0, 22.15070915222168),\n",
              "  (0.0, 22.419517517089844),\n",
              "  (0.0, 22.577720642089844)]}"
            ]
          },
          "metadata": {},
          "execution_count": 8
        }
      ]
    },
    {
      "cell_type": "code",
      "source": [
        "barcodes = eXNN.topology.get_nn_barcodes(model, data, layers, 'standard', '3')"
      ],
      "metadata": {
        "colab": {
          "base_uri": "https://localhost:8080/"
        },
        "id": "T2Vdjy-awKiM",
        "outputId": "be979bcd-5637-4ceb-a0c8-370f9d72f910"
      },
      "execution_count": null,
      "outputs": [
        {
          "output_type": "stream",
          "name": "stderr",
          "text": [
            "/usr/local/lib/python3.10/dist-packages/torch/nn/modules/module.py:1033: UserWarning:\n",
            "\n",
            "Using a non-full backward hook when the forward contains multiple autograd Nodes is deprecated and will be removed in future versions. This hook will be missing some grad_input. Please use register_full_backward_hook to get the documented behavior.\n",
            "\n",
            "/usr/local/lib/python3.10/dist-packages/torch/nn/modules/module.py:1033: UserWarning:\n",
            "\n",
            "Using a non-full backward hook when the forward contains multiple autograd Nodes is deprecated and will be removed in future versions. This hook will be missing some grad_input. Please use register_full_backward_hook to get the documented behavior.\n",
            "\n"
          ]
        }
      ]
    },
    {
      "cell_type": "code",
      "source": [
        "barcodes"
      ],
      "metadata": {
        "colab": {
          "base_uri": "https://localhost:8080/"
        },
        "id": "qxAlazkWyGM8",
        "outputId": "dc2642d0-29d8-4299-f8fb-6d2b59539c4a"
      },
      "execution_count": null,
      "outputs": [
        {
          "output_type": "execute_result",
          "data": {
            "text/plain": [
              "{'second_layer': {'H0': [(0.0, 2.7295398712158203),\n",
              "   (0.0, 2.879115581512451),\n",
              "   (0.0, 2.8944084644317627),\n",
              "   (0.0, 2.9289960861206055),\n",
              "   (0.0, 2.9594507217407227),\n",
              "   (0.0, 2.9614882469177246),\n",
              "   (0.0, 3.0176868438720703),\n",
              "   (0.0, 3.024463176727295),\n",
              "   (0.0, 3.0528640747070312),\n",
              "   (0.0, 3.071146011352539),\n",
              "   (0.0, 3.091641664505005),\n",
              "   (0.0, 3.1820671558380127),\n",
              "   (0.0, 3.2134368419647217),\n",
              "   (0.0, 3.2210047245025635),\n",
              "   (0.0, 3.221735715866089),\n",
              "   (0.0, 3.3770668506622314),\n",
              "   (0.0, 3.3806467056274414),\n",
              "   (0.0, 3.426661729812622),\n",
              "   (0.0, 3.453120231628418)]},\n",
              " 'third_layer': {'H0': [(0.0, 0.42265862226486206),\n",
              "   (0.0, 0.4385974407196045),\n",
              "   (0.0, 0.45529910922050476),\n",
              "   (0.0, 0.47055307030677795),\n",
              "   (0.0, 0.5031191110610962),\n",
              "   (0.0, 0.5314600467681885),\n",
              "   (0.0, 0.5321067571640015),\n",
              "   (0.0, 0.5378237366676331),\n",
              "   (0.0, 0.5516778826713562),\n",
              "   (0.0, 0.555736780166626),\n",
              "   (0.0, 0.5763639211654663),\n",
              "   (0.0, 0.5769542455673218),\n",
              "   (0.0, 0.5827254056930542),\n",
              "   (0.0, 0.5864942073822021),\n",
              "   (0.0, 0.59134840965271),\n",
              "   (0.0, 0.6052111983299255),\n",
              "   (0.0, 0.7006587982177734),\n",
              "   (0.0, 0.7906073927879333),\n",
              "   (0.0, 0.9474194049835205)]}}"
            ]
          },
          "metadata": {},
          "execution_count": 10
        }
      ]
    },
    {
      "cell_type": "code",
      "source": [
        "barcode_image = eXNN.topology.plot_barcode(barcodes['second_layer'])\n",
        "barcode_image"
      ],
      "metadata": {
        "colab": {
          "base_uri": "https://localhost:8080/",
          "height": 335
        },
        "id": "_YHOibmOyHno",
        "outputId": "ec623edc-ecf4-400f-ed21-10c4eea44042"
      },
      "execution_count": null,
      "outputs": [
        {
          "output_type": "execute_result",
          "data": {
            "text/plain": [
              "<Figure size 1500x500 with 1 Axes>"
            ],
            "image/png": "[encoded data removed]"
          },
          "metadata": {},
          "execution_count": 11
        }
      ]
    },
    {
      "cell_type": "code",
      "source": [
        "barcode_metrics = eXNN.topology.evaluate_barcode(barcodes['second_layer'])\n",
        "barcode_metrics"
      ],
      "metadata": {
        "colab": {
          "base_uri": "https://localhost:8080/"
        },
        "id": "ZBqetMcryNkD",
        "outputId": "b0f25c2e-a0d1-48b5-cc7d-ca428c3351e8"
      },
      "execution_count": null,
      "outputs": [
        {
          "output_type": "stream",
          "name": "stderr",
          "text": [
            "/usr/local/lib/python3.10/dist-packages/eXNN/topology/metrics.py:128: RuntimeWarning:\n",
            "\n",
            "divide by zero encountered in double_scalars\n",
            "\n"
          ]
        },
        {
          "output_type": "execute_result",
          "data": {
            "text/plain": [
              "{'max_length': 3.453120231628418,\n",
              " 'mean_length': 3.1098179315265857,\n",
              " 'median_length': 3.071146011352539,\n",
              " 'stdev_length': 0.1981824717493403,\n",
              " 'sum_length': 59.08654069900513,\n",
              " 'ratio_2_1': 1.255399038478336,\n",
              " 'ratio_3_1': 1.2385408768993722,\n",
              " 'h': 2.9424123930235555,\n",
              " 'normh': 0.7213557521489085,\n",
              " 'snr': inf,\n",
              " 'mean_birth': 0.0,\n",
              " 'stdev_birth': 0.0,\n",
              " 'mean_death': 3.1098179315265857,\n",
              " 'stdev_death': 0.1981824717493403}"
            ]
          },
          "metadata": {},
          "execution_count": 12
        }
      ]
    },
    {
      "cell_type": "markdown",
      "source": [
        "# bayes"
      ],
      "metadata": {
        "id": "ejTUkOfvwTn1"
      }
    },
    {
      "cell_type": "code",
      "source": [
        "n_iter = 10\n",
        "bayes_prediction_dropout = eXNN.bayes.DropoutBayesianWrapper(model, mode='basic', p=0.5).predict(data, n_iter=n_iter)\n",
        "bayes_prediction_gaussian = eXNN.bayes.GaussianBayesianWrapper(model, sigma=0.1).predict(data, n_iter=n_iter)"
      ],
      "metadata": {
        "id": "2-rhXBIYwNNj"
      },
      "execution_count": null,
      "outputs": []
    },
    {
      "cell_type": "code",
      "source": [
        "bayes_prediction_dropout"
      ],
      "metadata": {
        "colab": {
          "base_uri": "https://localhost:8080/"
        },
        "id": "tfeE6JesyY-u",
        "outputId": "f36c09c6-f1fa-477a-8d94-57857ffabe59"
      },
      "execution_count": null,
      "outputs": [
        {
          "output_type": "execute_result",
          "data": {
            "text/plain": [
              "{'mean': tensor([[ 0.0524, -0.7637, -0.2605, -0.3013,  0.1184,  0.3332,  0.0087,  0.2980,\n",
              "           0.1924, -0.0986],\n",
              "         [ 0.1648, -0.4532,  0.2062,  0.2173, -0.0319,  0.0422, -0.1366, -0.1176,\n",
              "           0.2258,  0.1209],\n",
              "         [-0.1035, -0.0898, -0.1028, -0.1225, -0.0868, -0.0451, -0.3171, -0.3977,\n",
              "           0.0318,  0.0952],\n",
              "         [ 0.0535,  0.0728,  0.1425,  0.2463,  0.0174, -0.1424,  0.1791,  0.1176,\n",
              "           0.1372,  0.3334],\n",
              "         [ 0.0413,  0.0627,  0.2778,  0.2024,  0.0452,  0.2347,  0.1330, -0.0349,\n",
              "           0.0279, -0.3920],\n",
              "         [ 0.0932, -0.8167, -0.0929, -0.3795,  0.3092, -0.1150, -0.3898,  0.0960,\n",
              "          -0.0881, -0.0695],\n",
              "         [-0.2639, -0.2020,  0.0227,  0.3017, -0.1535,  0.2212, -0.1198,  0.3751,\n",
              "          -0.2268, -0.2620],\n",
              "         [-0.0614, -0.2795,  0.2760, -0.2200, -0.1044,  0.4488, -0.0426,  0.2994,\n",
              "          -0.1257,  0.1195],\n",
              "         [ 0.0339,  0.0116,  0.2129, -0.0378, -0.0128, -0.0707,  0.1100, -0.0420,\n",
              "           0.1022, -0.3515],\n",
              "         [-0.0414, -0.0858, -0.1723,  0.0263,  0.1031, -0.0707,  0.2023,  0.1422,\n",
              "           0.1414, -0.2624],\n",
              "         [-0.0105,  0.2201,  0.1288,  0.0789, -0.3146, -0.1964, -0.3050,  0.2582,\n",
              "          -0.1655, -0.3004],\n",
              "         [-0.1945,  0.0103, -0.1826,  0.1710, -0.2512, -0.0468, -0.0398,  0.1505,\n",
              "          -0.2000, -0.0211],\n",
              "         [-0.2669, -0.2613,  0.3590,  0.5597,  0.2175,  0.2443, -0.0620, -0.0361,\n",
              "          -0.3823,  0.0824],\n",
              "         [ 0.4037,  0.1238,  0.0939, -0.1653,  0.1077,  0.3518,  0.3744,  0.2497,\n",
              "          -0.3276, -0.4431],\n",
              "         [-0.0412,  0.0680,  0.2071, -0.0420,  0.0499, -0.1128,  0.1296,  0.1555,\n",
              "          -0.1993,  0.3944],\n",
              "         [ 0.1813,  0.1131, -0.2173, -0.3736, -0.1622,  0.2144,  0.1061,  0.0496,\n",
              "          -0.0107,  0.2269],\n",
              "         [ 0.2138, -0.3391,  0.1537, -0.0420,  0.6230,  0.2672, -0.3487,  0.2781,\n",
              "          -0.2691,  0.3234],\n",
              "         [ 0.4593,  0.6226,  0.2455, -0.5890,  0.3281, -0.1737,  0.5947, -0.7931,\n",
              "          -0.0504,  0.4094],\n",
              "         [-0.1627, -0.2010, -0.0982, -0.2843,  0.1509,  0.1859,  0.1071, -0.8282,\n",
              "           0.4045,  0.0434],\n",
              "         [-0.2363, -0.8689, -0.0986,  0.0073, -0.1143,  0.0062, -0.5938,  0.0988,\n",
              "          -0.0791, -0.4302]], grad_fn=<SelectBackward0>),\n",
              " 'std': tensor([[0.4483, 0.1489, 0.5528, 0.3839, 0.2671, 0.3417, 0.6080, 0.4355, 0.3355,\n",
              "          0.4263],\n",
              "         [0.4044, 0.4810, 0.3861, 0.6452, 0.1664, 0.2827, 0.3989, 0.3304, 0.4068,\n",
              "          0.4573],\n",
              "         [0.2912, 0.4353, 0.4790, 0.4277, 0.3337, 0.5649, 0.3635, 0.5574, 0.5398,\n",
              "          0.4790],\n",
              "         [0.5527, 0.4050, 0.2755, 0.3687, 0.3931, 0.5745, 0.3006, 0.4130, 0.4858,\n",
              "          0.3525],\n",
              "         [0.7979, 0.5443, 0.4154, 0.6412, 0.5641, 0.2527, 0.5414, 0.5768, 0.6757,\n",
              "          0.4340],\n",
              "         [0.4634, 0.3575, 0.5793, 0.5354, 0.4048, 0.4678, 0.4880, 0.8310, 0.3051,\n",
              "          0.3020],\n",
              "         [0.4205, 0.4296, 0.5749, 0.3018, 0.6823, 0.3878, 0.4497, 0.5152, 0.4173,\n",
              "          0.4590],\n",
              "         [0.8467, 0.5001, 0.4224, 0.4681, 0.4406, 0.6174, 0.3723, 0.7611, 0.5976,\n",
              "          0.5234],\n",
              "         [0.5191, 0.4473, 0.3516, 0.5340, 0.4998, 0.5883, 0.4138, 0.5129, 0.4038,\n",
              "          0.5544],\n",
              "         [0.5181, 0.3742, 0.4187, 0.4493, 0.3503, 0.2600, 0.5389, 0.6454, 0.2171,\n",
              "          0.3455],\n",
              "         [0.5028, 0.3848, 0.4149, 0.5672, 0.6345, 0.3558, 0.5252, 0.5200, 0.4919,\n",
              "          0.4650],\n",
              "         [0.2438, 0.6874, 0.4294, 0.6577, 0.3650, 0.4536, 0.4540, 0.4864, 0.4367,\n",
              "          0.4366],\n",
              "         [0.3387, 0.5969, 0.6623, 0.6419, 0.2736, 0.5917, 0.6227, 0.4151, 0.5242,\n",
              "          0.3847],\n",
              "         [0.4631, 0.5647, 0.4852, 0.6558, 0.5538, 0.3943, 0.8627, 0.7222, 0.4848,\n",
              "          0.5850],\n",
              "         [0.6231, 0.7472, 0.3782, 0.3857, 0.3772, 0.4777, 0.4294, 0.6054, 0.3956,\n",
              "          0.3890],\n",
              "         [0.5093, 0.4251, 0.2954, 0.4461, 0.3256, 0.4264, 0.6064, 0.4311, 0.4900,\n",
              "          0.5358],\n",
              "         [0.2144, 0.6838, 0.4187, 0.5010, 0.3423, 0.5624, 0.3749, 0.4022, 0.4612,\n",
              "          0.6615],\n",
              "         [0.4591, 0.4077, 0.3009, 0.6748, 0.4103, 0.4265, 0.4355, 0.7248, 0.6784,\n",
              "          0.4920],\n",
              "         [0.4904, 0.7351, 0.3831, 0.7267, 0.8976, 0.5636, 0.5253, 0.6313, 0.7717,\n",
              "          0.5964],\n",
              "         [0.6054, 0.7406, 0.4375, 0.7441, 0.5195, 0.4084, 0.4701, 0.5447, 0.5675,\n",
              "          0.5199]], grad_fn=<SelectBackward0>)}"
            ]
          },
          "metadata": {},
          "execution_count": 17
        }
      ]
    },
    {
      "cell_type": "code",
      "source": [
        "bayes_prediction_gaussian"
      ],
      "metadata": {
        "id": "qU5jKIZgyipu",
        "colab": {
          "base_uri": "https://localhost:8080/"
        },
        "outputId": "6f5a21c0-e098-41da-c754-a7af24f2ade0"
      },
      "execution_count": null,
      "outputs": [
        {
          "output_type": "execute_result",
          "data": {
            "text/plain": [
              "{'mean': tensor([[ 0.2380, -0.1675,  0.3582, -0.2291, -0.0823,  0.3963,  0.8785,  0.1269,\n",
              "          -0.1608,  0.3050],\n",
              "         [-0.8981, -0.4616,  0.1604,  0.8160,  0.9168,  0.0958,  0.6010, -0.1087,\n",
              "           1.6693, -0.4826],\n",
              "         [ 0.6127, -0.1056, -0.2083, -0.3089, -0.1137, -0.5329, -0.4268, -1.5071,\n",
              "          -0.4658,  0.6184],\n",
              "         [ 0.2783, -0.7734,  0.3739,  0.3529, -0.9197, -0.0654, -0.2544, -0.1875,\n",
              "          -1.3133, -0.1486],\n",
              "         [ 1.2959, -0.0172,  1.2728, -0.0436, -0.2324,  0.1645,  0.5214, -1.5777,\n",
              "          -0.6640, -0.4915],\n",
              "         [ 0.1287,  0.2557, -0.4060, -0.9901,  1.0086,  0.2907,  0.1412, -0.7980,\n",
              "           0.1623,  0.1240],\n",
              "         [ 0.0135, -1.5393,  0.1007,  0.5849, -0.5386, -1.0181, -0.4745,  0.1836,\n",
              "          -0.0041, -0.2100],\n",
              "         [ 1.6184, -0.1806, -0.7972, -1.2243, -0.9231,  0.2074, -0.8049, -0.5739,\n",
              "           0.4971, -0.0142],\n",
              "         [ 0.0353, -0.0644, -0.6644,  0.3560,  0.3451, -0.4390,  0.5680, -1.0739,\n",
              "           0.7734,  0.4767],\n",
              "         [ 0.4135, -0.3243, -0.3803, -0.8559, -0.0154, -0.9643,  0.7132,  0.3613,\n",
              "           0.3489, -0.1136],\n",
              "         [ 0.0453,  0.2709, -0.1142, -0.6174, -0.4183,  0.3596,  0.3669,  0.3520,\n",
              "          -1.0795,  0.1749],\n",
              "         [ 0.5251, -0.7343, -0.1124,  0.1704, -0.1692, -0.4939, -0.3025,  0.4795,\n",
              "          -0.1785,  0.4738],\n",
              "         [-0.7360, -0.4492, -0.5274, -0.1415,  0.3267, -0.5477,  1.0442,  1.3135,\n",
              "           0.1300, -0.4832],\n",
              "         [-0.1322, -0.0497, -0.1976,  0.5424,  0.2645,  0.9219,  0.1374,  0.2809,\n",
              "           0.2719, -1.1760],\n",
              "         [ 1.0843, -0.1039,  0.8192,  0.0571, -0.4612, -0.1371,  0.7513, -1.4418,\n",
              "           0.4912, -0.5623],\n",
              "         [-0.0062, -0.4245, -1.3296, -0.4504, -0.4128, -0.5081,  0.0685,  0.8536,\n",
              "           0.7871,  0.1977],\n",
              "         [ 0.3035,  0.7852,  0.3250, -0.1359, -0.9135,  0.6743, -0.8829, -0.1461,\n",
              "          -0.6527,  0.1888],\n",
              "         [ 0.6227, -0.0413,  0.1111, -1.6333,  1.9896,  0.6507, -0.0365, -0.5397,\n",
              "           0.3447, -0.2073],\n",
              "         [ 0.7316, -0.2059,  0.0536,  0.4398,  0.3065,  0.2502,  0.9933,  0.4545,\n",
              "           1.1362, -0.1355],\n",
              "         [ 0.0113,  1.3904,  1.1308, -0.2742, -1.1066, -0.4990, -1.0684, -0.7629,\n",
              "           0.5068, -0.2604]], grad_fn=<SelectBackward0>),\n",
              " 'std': tensor([[2.1054, 1.4131, 1.8234, 1.1106, 2.0041, 1.8405, 1.7267, 2.5367, 1.5193,\n",
              "          1.7539],\n",
              "         [2.1753, 2.0817, 2.9698, 2.2131, 2.1092, 1.7075, 1.4563, 2.5436, 2.5457,\n",
              "          1.2067],\n",
              "         [1.9823, 1.9004, 2.2257, 2.4601, 1.7104, 1.1909, 2.0526, 1.9685, 2.8260,\n",
              "          1.9372],\n",
              "         [2.2687, 1.9162, 1.7372, 1.2458, 2.6591, 3.0363, 2.1084, 3.0836, 1.8898,\n",
              "          1.9967],\n",
              "         [1.4030, 2.4683, 2.9893, 2.4325, 2.9839, 2.1197, 1.8594, 2.6827, 1.4223,\n",
              "          1.8752],\n",
              "         [3.0622, 2.5556, 1.3851, 2.0136, 1.9911, 2.4909, 2.2413, 2.6293, 2.1182,\n",
              "          2.3307],\n",
              "         [2.1648, 2.1260, 2.6444, 2.3480, 2.3262, 2.0579, 2.2685, 2.5586, 1.6906,\n",
              "          1.7532],\n",
              "         [1.5167, 1.5106, 2.4974, 2.3548, 1.2471, 1.5726, 2.6104, 2.2618, 1.9283,\n",
              "          2.1222],\n",
              "         [2.3740, 0.9970, 2.3249, 1.5127, 2.0131, 2.1199, 1.8670, 3.0597, 2.0588,\n",
              "          2.1385],\n",
              "         [2.2417, 2.7340, 2.9996, 1.5359, 2.1761, 1.3291, 2.3579, 1.7001, 1.9406,\n",
              "          1.9227],\n",
              "         [1.4546, 2.4652, 1.4260, 2.7889, 2.2242, 2.5401, 2.7196, 3.0355, 2.3734,\n",
              "          2.4147],\n",
              "         [2.0602, 1.8681, 2.5577, 2.5445, 1.6205, 1.4672, 2.5746, 2.7545, 2.1412,\n",
              "          2.6777],\n",
              "         [1.8256, 1.8171, 3.1228, 1.9615, 2.7507, 2.1002, 1.4684, 2.1676, 1.4386,\n",
              "          2.0943],\n",
              "         [1.6054, 2.2104, 2.0278, 1.8250, 2.6502, 2.6009, 1.1321, 2.7599, 2.0936,\n",
              "          1.7873],\n",
              "         [2.0281, 3.1291, 3.0412, 2.7645, 1.9146, 2.3543, 1.8355, 2.6635, 2.7915,\n",
              "          2.5837],\n",
              "         [2.2331, 1.2652, 1.4538, 2.5612, 1.8968, 1.4747, 1.2263, 1.6205, 1.1825,\n",
              "          1.4248],\n",
              "         [2.3263, 1.4147, 1.8610, 2.0074, 2.4291, 1.9293, 1.9253, 1.1320, 1.8453,\n",
              "          1.9354],\n",
              "         [2.3669, 2.6726, 1.3194, 1.3159, 1.4178, 2.1550, 2.4487, 2.8020, 2.3244,\n",
              "          1.9223],\n",
              "         [1.7143, 2.1317, 2.6932, 1.3461, 2.3097, 2.4440, 2.2638, 1.9040, 1.8236,\n",
              "          2.3713],\n",
              "         [2.3388, 1.8101, 3.1968, 2.9404, 2.4596, 1.5746, 2.4886, 2.1862, 2.5226,\n",
              "          2.0193]], grad_fn=<SelectBackward0>)}"
            ]
          },
          "metadata": {},
          "execution_count": 18
        }
      ]
    },
    {
      "cell_type": "code",
      "source": [],
      "metadata": {
        "id": "ZcOYA5UvvVor"
      },
      "execution_count": null,
      "outputs": []
    }
  ]
}