{
  "nbformat": 4,
  "nbformat_minor": 0,
  "metadata": {
    "colab": {
      "provenance": []
    },
    "kernelspec": {
      "name": "python3",
      "display_name": "Python 3"
    },
    "language_info": {
      "name": "python"
    }
  },
  "cells": [
    {
      "cell_type": "markdown",
      "source": [
        "# Download of all dependencies for library (restart may be required)"
      ],
      "metadata": {
        "id": "layMcldBf8OU"
      }
    },
    {
      "cell_type": "code",
      "source": [
        "from google.colab import output"
      ],
      "metadata": {
        "id": "2s3Mb7fbxau9"
      },
      "execution_count": null,
      "outputs": []
    },
    {
      "cell_type": "code",
      "source": [
        "!pip install git+https://github.com/aimclub/eXplain-NNs &> /dev/null\n",
        "\n",
        "!wget https://raw.githubusercontent.com/aimclub/eXplain-NNs/main/requirements.txt\n",
        "!pip install -r requirements.txt\n",
        "! pip install torchmetrics &> /dev/null\n",
        "! pip install pip install giotto-ph==0.2.2 &> /dev/null\n",
        "! pip install pip install giotto-tda==0.6.0 &> /dev/null\n",
        "! pip install umap-learn==0.5.3 &> /dev/null\n"
      ],
      "metadata": {
        "colab": {
          "base_uri": "https://localhost:8080/"
        },
        "id": "7nagjZQhf8oo",
        "outputId": "b87e68a6-461c-47ab-a959-b9c8517c8b20"
      },
      "execution_count": null,
      "outputs": [
        {
          "output_type": "stream",
          "name": "stdout",
          "text": [
            "--2024-01-08 02:24:31--  https://raw.githubusercontent.com/aimclub/eXplain-NNs/main/requirements.txt\n",
            "Resolving raw.githubusercontent.com (raw.githubusercontent.com)... 185.199.108.133, 185.199.109.133, 185.199.110.133, ...\n",
            "Connecting to raw.githubusercontent.com (raw.githubusercontent.com)|185.199.108.133|:443... connected.\n",
            "HTTP request sent, awaiting response... 200 OK\n",
            "Length: 1486 (1.5K) [text/plain]\n",
            "Saving to: ‘requirements.txt.1’\n",
            "\n",
            "\rrequirements.txt.1    0%[                    ]       0  --.-KB/s               \rrequirements.txt.1  100%[===================>]   1.45K  --.-KB/s    in 0s      \n",
            "\n",
            "2024-01-08 02:24:31 (28.7 MB/s) - ‘requirements.txt.1’ saved [1486/1486]\n",
            "\n",
            "Requirement already satisfied: asttokens==2.2.1 in /usr/local/lib/python3.10/dist-packages (from -r requirements.txt (line 1)) (2.2.1)\n",
            "Requirement already satisfied: attrs==22.1.0 in /usr/local/lib/python3.10/dist-packages (from -r requirements.txt (line 2)) (22.1.0)\n",
            "Requirement already satisfied: backcall==0.2.0 in /usr/local/lib/python3.10/dist-packages (from -r requirements.txt (line 3)) (0.2.0)\n",
            "Requirement already satisfied: certifi==2022.12.7 in /usr/local/lib/python3.10/dist-packages (from -r requirements.txt (line 4)) (2022.12.7)\n",
            "Requirement already satisfied: charset-normalizer==2.1.1 in /usr/local/lib/python3.10/dist-packages (from -r requirements.txt (line 5)) (2.1.1)\n",
            "Requirement already satisfied: comm==0.1.2 in /usr/local/lib/python3.10/dist-packages (from -r requirements.txt (line 6)) (0.1.2)\n",
            "Requirement already satisfied: contourpy==1.0.6 in /usr/local/lib/python3.10/dist-packages (from -r requirements.txt (line 7)) (1.0.6)\n",
            "Requirement already satisfied: cycler==0.11.0 in /usr/local/lib/python3.10/dist-packages (from -r requirements.txt (line 8)) (0.11.0)\n",
            "Requirement already satisfied: debugpy==1.6.4 in /usr/local/lib/python3.10/dist-packages (from -r requirements.txt (line 9)) (1.6.4)\n",
            "Requirement already satisfied: decorator==5.1.1 in /usr/local/lib/python3.10/dist-packages (from -r requirements.txt (line 10)) (5.1.1)\n",
            "Requirement already satisfied: entrypoints==0.4 in /usr/local/lib/python3.10/dist-packages (from -r requirements.txt (line 11)) (0.4)\n",
            "Requirement already satisfied: executing==1.2.0 in /usr/local/lib/python3.10/dist-packages (from -r requirements.txt (line 12)) (1.2.0)\n",
            "Requirement already satisfied: fonttools==4.38.0 in /usr/local/lib/python3.10/dist-packages (from -r requirements.txt (line 13)) (4.38.0)\n",
            "Requirement already satisfied: giotto-ph==0.2.2 in /usr/local/lib/python3.10/dist-packages (from -r requirements.txt (line 14)) (0.2.2)\n",
            "Requirement already satisfied: giotto-tda==0.6.0 in /usr/local/lib/python3.10/dist-packages (from -r requirements.txt (line 15)) (0.6.0)\n",
            "Requirement already satisfied: idna==3.4 in /usr/local/lib/python3.10/dist-packages (from -r requirements.txt (line 16)) (3.4)\n",
            "Requirement already satisfied: igraph==0.10.2 in /usr/local/lib/python3.10/dist-packages (from -r requirements.txt (line 17)) (0.10.2)\n",
            "Requirement already satisfied: importlib-metadata==5.1.0 in /usr/local/lib/python3.10/dist-packages (from -r requirements.txt (line 18)) (5.1.0)\n",
            "Requirement already satisfied: iniconfig==1.1.1 in /usr/local/lib/python3.10/dist-packages (from -r requirements.txt (line 19)) (1.1.1)\n",
            "Requirement already satisfied: ipykernel==6.19.2 in /usr/local/lib/python3.10/dist-packages (from -r requirements.txt (line 20)) (6.19.2)\n",
            "Requirement already satisfied: ipython==8.7.0 in /usr/local/lib/python3.10/dist-packages (from -r requirements.txt (line 21)) (8.7.0)\n",
            "Requirement already satisfied: ipywidgets==8.0.3 in /usr/local/lib/python3.10/dist-packages (from -r requirements.txt (line 22)) (8.0.3)\n",
            "Requirement already satisfied: jedi==0.18.2 in /usr/local/lib/python3.10/dist-packages (from -r requirements.txt (line 23)) (0.18.2)\n",
            "Requirement already satisfied: joblib==1.2.0 in /usr/local/lib/python3.10/dist-packages (from -r requirements.txt (line 24)) (1.2.0)\n",
            "Requirement already satisfied: jupyter_client==7.4.8 in /usr/local/lib/python3.10/dist-packages (from -r requirements.txt (line 25)) (7.4.8)\n",
            "Requirement already satisfied: jupyter_core==5.1.0 in /usr/local/lib/python3.10/dist-packages (from -r requirements.txt (line 26)) (5.1.0)\n",
            "Requirement already satisfied: jupyterlab-widgets==3.0.4 in /usr/local/lib/python3.10/dist-packages (from -r requirements.txt (line 27)) (3.0.4)\n",
            "Requirement already satisfied: kiwisolver==1.4.4 in /usr/local/lib/python3.10/dist-packages (from -r requirements.txt (line 28)) (1.4.4)\n",
            "Requirement already satisfied: llvmlite==0.39.1 in /usr/local/lib/python3.10/dist-packages (from -r requirements.txt (line 29)) (0.39.1)\n",
            "Requirement already satisfied: matplotlib==3.6.2 in /usr/local/lib/python3.10/dist-packages (from -r requirements.txt (line 30)) (3.6.2)\n",
            "Requirement already satisfied: matplotlib-inline==0.1.6 in /usr/local/lib/python3.10/dist-packages (from -r requirements.txt (line 31)) (0.1.6)\n",
            "Requirement already satisfied: nest-asyncio==1.5.6 in /usr/local/lib/python3.10/dist-packages (from -r requirements.txt (line 32)) (1.5.6)\n",
            "Requirement already satisfied: numba==0.56.4 in /usr/local/lib/python3.10/dist-packages (from -r requirements.txt (line 33)) (0.56.4)\n",
            "Requirement already satisfied: numpy==1.23.5 in /usr/local/lib/python3.10/dist-packages (from -r requirements.txt (line 34)) (1.23.5)\n",
            "Requirement already satisfied: packaging==22.0 in /usr/local/lib/python3.10/dist-packages (from -r requirements.txt (line 35)) (22.0)\n",
            "Requirement already satisfied: pandas==1.4.1 in /usr/local/lib/python3.10/dist-packages (from -r requirements.txt (line 36)) (1.4.1)\n",
            "Requirement already satisfied: parso==0.8.3 in /usr/local/lib/python3.10/dist-packages (from -r requirements.txt (line 37)) (0.8.3)\n",
            "Requirement already satisfied: pexpect==4.8.0 in /usr/local/lib/python3.10/dist-packages (from -r requirements.txt (line 38)) (4.8.0)\n",
            "Requirement already satisfied: pickleshare==0.7.5 in /usr/local/lib/python3.10/dist-packages (from -r requirements.txt (line 39)) (0.7.5)\n",
            "Requirement already satisfied: Pillow==9.3.0 in /usr/local/lib/python3.10/dist-packages (from -r requirements.txt (line 40)) (9.3.0)\n",
            "Requirement already satisfied: platformdirs==2.6.0 in /usr/local/lib/python3.10/dist-packages (from -r requirements.txt (line 41)) (2.6.0)\n",
            "Requirement already satisfied: plotly==4.8.2 in /usr/local/lib/python3.10/dist-packages (from -r requirements.txt (line 42)) (4.8.2)\n",
            "Requirement already satisfied: pluggy==1.0.0 in /usr/local/lib/python3.10/dist-packages (from -r requirements.txt (line 43)) (1.0.0)\n",
            "Requirement already satisfied: prompt-toolkit==3.0.36 in /usr/local/lib/python3.10/dist-packages (from -r requirements.txt (line 44)) (3.0.36)\n",
            "Requirement already satisfied: psutil==5.9.4 in /usr/local/lib/python3.10/dist-packages (from -r requirements.txt (line 45)) (5.9.4)\n",
            "Requirement already satisfied: ptyprocess==0.7.0 in /usr/local/lib/python3.10/dist-packages (from -r requirements.txt (line 46)) (0.7.0)\n",
            "Requirement already satisfied: pure-eval==0.2.2 in /usr/local/lib/python3.10/dist-packages (from -r requirements.txt (line 47)) (0.2.2)\n",
            "Requirement already satisfied: py==1.11.0 in /usr/local/lib/python3.10/dist-packages (from -r requirements.txt (line 48)) (1.11.0)\n",
            "Requirement already satisfied: pyflagser==0.4.5 in /usr/local/lib/python3.10/dist-packages (from -r requirements.txt (line 49)) (0.4.5)\n",
            "Requirement already satisfied: Pygments==2.13.0 in /usr/local/lib/python3.10/dist-packages (from -r requirements.txt (line 50)) (2.13.0)\n",
            "Requirement already satisfied: pynndescent==0.5.8 in /usr/local/lib/python3.10/dist-packages (from -r requirements.txt (line 51)) (0.5.8)\n",
            "Requirement already satisfied: pyparsing==3.0.9 in /usr/local/lib/python3.10/dist-packages (from -r requirements.txt (line 52)) (3.0.9)\n",
            "Requirement already satisfied: pytest==7.1.2 in /usr/local/lib/python3.10/dist-packages (from -r requirements.txt (line 53)) (7.1.2)\n",
            "Requirement already satisfied: python-dateutil==2.8.2 in /usr/local/lib/python3.10/dist-packages (from -r requirements.txt (line 54)) (2.8.2)\n",
            "Requirement already satisfied: pytz==2022.6 in /usr/local/lib/python3.10/dist-packages (from -r requirements.txt (line 55)) (2022.6)\n",
            "Requirement already satisfied: pyzmq==24.0.1 in /usr/local/lib/python3.10/dist-packages (from -r requirements.txt (line 56)) (24.0.1)\n",
            "Requirement already satisfied: requests==2.28.1 in /usr/local/lib/python3.10/dist-packages (from -r requirements.txt (line 57)) (2.28.1)\n",
            "Requirement already satisfied: retrying==1.3.4 in /usr/local/lib/python3.10/dist-packages (from -r requirements.txt (line 58)) (1.3.4)\n",
            "Requirement already satisfied: scikit-learn==1.2.0 in /usr/local/lib/python3.10/dist-packages (from -r requirements.txt (line 59)) (1.2.0)\n",
            "Requirement already satisfied: scipy==1.9.3 in /usr/local/lib/python3.10/dist-packages (from -r requirements.txt (line 60)) (1.9.3)\n",
            "Requirement already satisfied: six==1.16.0 in /usr/local/lib/python3.10/dist-packages (from -r requirements.txt (line 61)) (1.16.0)\n",
            "Requirement already satisfied: stack-data==0.6.2 in /usr/local/lib/python3.10/dist-packages (from -r requirements.txt (line 62)) (0.6.2)\n",
            "Requirement already satisfied: texttable==1.6.7 in /usr/local/lib/python3.10/dist-packages (from -r requirements.txt (line 63)) (1.6.7)\n",
            "Requirement already satisfied: threadpoolctl==3.1.0 in /usr/local/lib/python3.10/dist-packages (from -r requirements.txt (line 64)) (3.1.0)\n",
            "Requirement already satisfied: torch==1.11.0 in /usr/local/lib/python3.10/dist-packages (from -r requirements.txt (line 65)) (1.11.0)\n",
            "Requirement already satisfied: torchvision==0.12.0 in /usr/local/lib/python3.10/dist-packages (from -r requirements.txt (line 66)) (0.12.0)\n",
            "Requirement already satisfied: tornado==6.2 in /usr/local/lib/python3.10/dist-packages (from -r requirements.txt (line 67)) (6.2)\n",
            "Requirement already satisfied: tqdm==4.64.1 in /usr/local/lib/python3.10/dist-packages (from -r requirements.txt (line 68)) (4.64.1)\n",
            "Requirement already satisfied: traitlets==5.7.1 in /usr/local/lib/python3.10/dist-packages (from -r requirements.txt (line 69)) (5.7.1)\n",
            "Requirement already satisfied: typing_extensions==4.4.0 in /usr/local/lib/python3.10/dist-packages (from -r requirements.txt (line 70)) (4.4.0)\n",
            "Requirement already satisfied: umap-learn==0.5.3 in /usr/local/lib/python3.10/dist-packages (from -r requirements.txt (line 71)) (0.5.3)\n",
            "Requirement already satisfied: urllib3==1.26.13 in /usr/local/lib/python3.10/dist-packages (from -r requirements.txt (line 72)) (1.26.13)\n",
            "Requirement already satisfied: wcwidth==0.2.5 in /usr/local/lib/python3.10/dist-packages (from -r requirements.txt (line 73)) (0.2.5)\n",
            "Requirement already satisfied: widgetsnbextension==4.0.4 in /usr/local/lib/python3.10/dist-packages (from -r requirements.txt (line 74)) (4.0.4)\n",
            "Requirement already satisfied: zipp==3.11.0 in /usr/local/lib/python3.10/dist-packages (from -r requirements.txt (line 75)) (3.11.0)\n",
            "Requirement already satisfied: flake8==6.0.0 in /usr/local/lib/python3.10/dist-packages (from -r requirements.txt (line 77)) (6.0.0)\n",
            "Requirement already satisfied: brunette==0.2.8 in /usr/local/lib/python3.10/dist-packages (from -r requirements.txt (line 78)) (0.2.8)\n",
            "Requirement already satisfied: isort==5.12.0 in /usr/local/lib/python3.10/dist-packages (from -r requirements.txt (line 79)) (5.12.0)\n",
            "Requirement already satisfied: add-trailing-comma==2.4.0 in /usr/local/lib/python3.10/dist-packages (from -r requirements.txt (line 80)) (2.4.0)\n",
            "Requirement already satisfied: pep8-naming==0.13.3 in /usr/local/lib/python3.10/dist-packages (from -r requirements.txt (line 82)) (0.13.3)\n",
            "Requirement already satisfied: flake8-bugbear==23.3.23 in /usr/local/lib/python3.10/dist-packages (from -r requirements.txt (line 83)) (23.3.23)\n",
            "Requirement already satisfied: flake8-builtins==2.1.0 in /usr/local/lib/python3.10/dist-packages (from -r requirements.txt (line 84)) (2.1.0)\n",
            "Requirement already satisfied: flake8-commas==2.1.0 in /usr/local/lib/python3.10/dist-packages (from -r requirements.txt (line 85)) (2.1.0)\n",
            "Requirement already satisfied: flake8-variables-names==0.0.5 in /usr/local/lib/python3.10/dist-packages (from -r requirements.txt (line 86)) (0.0.5)\n",
            "Requirement already satisfied: flake8-isort==6.0.0 in /usr/local/lib/python3.10/dist-packages (from -r requirements.txt (line 87)) (6.0.0)\n",
            "Requirement already satisfied: setuptools in /usr/local/lib/python3.10/dist-packages (from numba==0.56.4->-r requirements.txt (line 33)) (67.7.2)\n",
            "Requirement already satisfied: tomli>=1.0.0 in /usr/local/lib/python3.10/dist-packages (from pytest==7.1.2->-r requirements.txt (line 53)) (1.2.3)\n",
            "Requirement already satisfied: mccabe<0.8.0,>=0.7.0 in /usr/local/lib/python3.10/dist-packages (from flake8==6.0.0->-r requirements.txt (line 77)) (0.7.0)\n",
            "Requirement already satisfied: pycodestyle<2.11.0,>=2.10.0 in /usr/local/lib/python3.10/dist-packages (from flake8==6.0.0->-r requirements.txt (line 77)) (2.10.0)\n",
            "Requirement already satisfied: pyflakes<3.1.0,>=3.0.0 in /usr/local/lib/python3.10/dist-packages (from flake8==6.0.0->-r requirements.txt (line 77)) (3.0.1)\n",
            "Requirement already satisfied: wheel in /usr/local/lib/python3.10/dist-packages (from brunette==0.2.8->-r requirements.txt (line 78)) (0.42.0)\n",
            "Requirement already satisfied: black==21.12b0 in /usr/local/lib/python3.10/dist-packages (from brunette==0.2.8->-r requirements.txt (line 78)) (21.12b0)\n",
            "Requirement already satisfied: click in /usr/local/lib/python3.10/dist-packages (from brunette==0.2.8->-r requirements.txt (line 78)) (8.1.7)\n",
            "Requirement already satisfied: tokenize-rt>=3.0.1 in /usr/local/lib/python3.10/dist-packages (from add-trailing-comma==2.4.0->-r requirements.txt (line 80)) (5.2.0)\n",
            "Requirement already satisfied: pathspec<1,>=0.9.0 in /usr/local/lib/python3.10/dist-packages (from black==21.12b0->brunette==0.2.8->-r requirements.txt (line 78)) (0.12.1)\n",
            "Requirement already satisfied: mypy-extensions>=0.4.3 in /usr/local/lib/python3.10/dist-packages (from black==21.12b0->brunette==0.2.8->-r requirements.txt (line 78)) (1.0.0)\n"
          ]
        }
      ]
    },
    {
      "cell_type": "markdown",
      "source": [
        "# Dataset load and unzip for further use"
      ],
      "metadata": {
        "id": "-NifZm7BxGUv"
      }
    },
    {
      "cell_type": "markdown",
      "source": [
        "We are going to demonstrate the algorithm on the electronic components and devices classification dataset [link](https://www.kaggle.com/datasets/aryaminus/electronic-components/code)"
      ],
      "metadata": {
        "id": "ITut823HuG5n"
      }
    },
    {
      "cell_type": "code",
      "source": [
        "# Load data\n",
        "from google.colab import drive\n",
        "drive.mount('/content/gdrive')\n",
        "\n",
        "!unzip /content/gdrive/MyDrive/Datasets/BasicElectronicComponents.zip\n",
        "\n",
        "output.clear()"
      ],
      "metadata": {
        "id": "Eyz2gAJkf-oF"
      },
      "execution_count": null,
      "outputs": []
    },
    {
      "cell_type": "markdown",
      "source": [
        "# Usage demonstration\n",
        "\n",
        "For demonstration of usage of module eXNN.topology let's train two simple networks - one trained well and one undertrained. Then check topologies of their embeddings in order to distinguish them."
      ],
      "metadata": {
        "id": "1zTAKS9-xlo9"
      }
    },
    {
      "cell_type": "markdown",
      "source": [
        "First, load dataset and required libraries"
      ],
      "metadata": {
        "id": "8lK8s1lGyDaJ"
      }
    },
    {
      "cell_type": "code",
      "source": [
        "from torchvision.datasets import MNIST, ImageFolder\n",
        "import torch\n",
        "import torch.nn as nn\n",
        "import torchvision.transforms as TF\n",
        "from tqdm.auto import tqdm\n",
        "import os\n",
        "import numpy as np\n",
        "from random import shuffle\n",
        "from torchvision.models import resnet18\n",
        "\n",
        "import warnings\n",
        "warnings.filterwarnings('ignore')\n",
        "\n",
        "\n",
        "path_to_data = '/content/BasicElectronicComponents'\n",
        "\n",
        "dataset = ImageFolder(\n",
        "    path_to_data,\n",
        "    transform = TF.Compose([\n",
        "        TF.Resize((64, 64)),\n",
        "        TF.ToTensor()\n",
        "    ])\n",
        ")\n",
        "\n",
        "n_obj = 3000\n",
        "cls_indicies = [(i, obj) for i, obj in enumerate(dataset.targets)]\n",
        "shuffle(cls_indicies)\n",
        "\n",
        "cls_indicies = cls_indicies[0:n_obj]\n",
        "\n",
        "num_classes = len(dataset.classes)\n",
        "\n",
        "classes_names = dataset.classes\n",
        "\n",
        "train_ds = torch.utils.data.Subset(dataset, indices = [i[0] for i in cls_indicies[0:int(len(cls_indicies)*0.6)]])\n",
        "test_ds = torch.utils.data.Subset(dataset, indices = [i[0] for i in cls_indicies[int(len(cls_indicies)*0.6):]])\n",
        "\n",
        "train_dl = torch.utils.data.DataLoader(train_ds, batch_size=36, shuffle=True)\n",
        "test_dl = torch.utils.data.DataLoader(test_ds, batch_size=36, shuffle=False)"
      ],
      "metadata": {
        "id": "loNL5kL_gIPG"
      },
      "execution_count": null,
      "outputs": []
    },
    {
      "cell_type": "markdown",
      "source": [
        "Define training functions to train two models"
      ],
      "metadata": {
        "id": "6EKCwSanyHqu"
      }
    },
    {
      "cell_type": "code",
      "source": [
        "import time\n",
        "\n",
        "def train_model(model, device = 'cuda', good_case = True):\n",
        "  if good_case:\n",
        "    optimizer = torch.optim.Adam(model.parameters(), lr=0.00001, weight_decay = 0.0001)#, momentum=0.9)\n",
        "  else:\n",
        "    optimizer = torch.optim.SGD(model.parameters(), lr = 1e-1, weight_decay = 0, momentum = 0.9)\n",
        "  criterion = nn.CrossEntropyLoss()\n",
        "  images, labels = next(iter(train_dl))\n",
        "  #images = images.view(images.shape[0], -1)\n",
        "  logps = model(images)\n",
        "  loss = criterion(logps, labels)\n",
        "  # train\n",
        "  if good_case:\n",
        "    n_epochs = 20\n",
        "  else:\n",
        "    n_epochs = 5\n",
        "  for e in range(n_epochs):\n",
        "    time_mark = time.time()\n",
        "    running_loss = 0\n",
        "    for images, labels in train_dl:\n",
        "        optimizer.zero_grad()\n",
        "        output = model(images)\n",
        "        loss = criterion(output, labels)\n",
        "        loss.backward()\n",
        "        optimizer.step()\n",
        "        running_loss += loss.item()\n",
        "    else:\n",
        "        print(\"Epoch {} - Training loss: {} - Time taken: {} sec\".format(e, running_loss/len(train_dl), round(time.time() - time_mark, 2)))\n",
        "\n",
        "  return model"
      ],
      "metadata": {
        "id": "SEaCViXCgk6A"
      },
      "execution_count": null,
      "outputs": []
    },
    {
      "cell_type": "markdown",
      "source": [
        "Well train model"
      ],
      "metadata": {
        "id": "fwVvM99xyLYK"
      }
    },
    {
      "cell_type": "code",
      "source": [
        "model_good = resnet18(num_classes=5)\n",
        "\n",
        "model_good = train_model(model_good, device = 'cpu', good_case = True)"
      ],
      "metadata": {
        "colab": {
          "base_uri": "https://localhost:8080/"
        },
        "id": "HLI02z8Tgmw1",
        "outputId": "fcd0fe75-33bd-4009-d942-484caaa20dd8"
      },
      "execution_count": null,
      "outputs": [
        {
          "output_type": "stream",
          "name": "stdout",
          "text": [
            "Epoch 0 - Training loss: 1.1824181258678437 - Time taken: 40.61 sec\n",
            "Epoch 1 - Training loss: 0.7160866963863373 - Time taken: 38.52 sec\n",
            "Epoch 2 - Training loss: 0.5361569231748581 - Time taken: 37.87 sec\n",
            "Epoch 3 - Training loss: 0.4271910458803177 - Time taken: 37.38 sec\n",
            "Epoch 4 - Training loss: 0.3417862728238106 - Time taken: 38.0 sec\n",
            "Epoch 5 - Training loss: 0.2724876818060875 - Time taken: 37.91 sec\n",
            "Epoch 6 - Training loss: 0.2147301897406578 - Time taken: 37.2 sec\n",
            "Epoch 7 - Training loss: 0.17045482590794564 - Time taken: 37.61 sec\n",
            "Epoch 8 - Training loss: 0.14129376873373986 - Time taken: 38.2 sec\n",
            "Epoch 9 - Training loss: 0.11192983850836753 - Time taken: 37.09 sec\n",
            "Epoch 10 - Training loss: 0.09438330695033073 - Time taken: 36.49 sec\n",
            "Epoch 11 - Training loss: 0.0725608491897583 - Time taken: 36.9 sec\n",
            "Epoch 12 - Training loss: 0.06263665989041328 - Time taken: 36.77 sec\n",
            "Epoch 13 - Training loss: 0.05170170743018389 - Time taken: 36.51 sec\n",
            "Epoch 14 - Training loss: 0.04737307259812951 - Time taken: 37.12 sec\n",
            "Epoch 15 - Training loss: 0.04088001869618893 - Time taken: 36.9 sec\n",
            "Epoch 16 - Training loss: 0.03853884121403098 - Time taken: 36.64 sec\n",
            "Epoch 17 - Training loss: 0.031110175717622042 - Time taken: 36.94 sec\n",
            "Epoch 18 - Training loss: 0.029137100521475078 - Time taken: 37.11 sec\n",
            "Epoch 19 - Training loss: 0.02734272738918662 - Time taken: 36.6 sec\n"
          ]
        }
      ]
    },
    {
      "cell_type": "markdown",
      "source": [
        "Undertrain model"
      ],
      "metadata": {
        "id": "uYLxhh8-yM5F"
      }
    },
    {
      "cell_type": "code",
      "source": [
        "model_bad = resnet18(num_classes = 5)\n",
        "model_bad = train_model(model_bad, device = 'cpu', good_case = False)"
      ],
      "metadata": {
        "colab": {
          "base_uri": "https://localhost:8080/"
        },
        "id": "u0LgWK3xg8Mp",
        "outputId": "1293a96c-35dd-4f9a-9ebf-8afb1a61bb9f"
      },
      "execution_count": null,
      "outputs": [
        {
          "output_type": "stream",
          "name": "stdout",
          "text": [
            "Epoch 0 - Training loss: 3.1633662390708923 - Time taken: 34.8 sec\n",
            "Epoch 1 - Training loss: 1.0297886389493942 - Time taken: 35.73 sec\n",
            "Epoch 2 - Training loss: 0.7887915086746216 - Time taken: 35.18 sec\n",
            "Epoch 3 - Training loss: 0.7160544300079346 - Time taken: 35.69 sec\n",
            "Epoch 4 - Training loss: 0.6300292527675628 - Time taken: 36.02 sec\n"
          ]
        }
      ]
    },
    {
      "cell_type": "markdown",
      "source": [
        "# Main part - generalizability test\n",
        "\n",
        "The test is simple - we can get a sample from the training data and a sample from the test data (they can be small in size - even one batch), then get embeddings from some middle layers and compare their topologies.\n",
        "\n",
        "In a sense (strictly speaking, using analogies with the theory of homotopy types) we can use the topology of embeddings in the form of persistence diagrams to study the “association structure” of our neural network. The intuition is that if the network's associations for the test data remain similar to those for the training data, then it will extract features of sufficient abstraction and \"see the test data the same as the training data\"."
      ],
      "metadata": {
        "id": "k9FYu6i5yesN"
      }
    },
    {
      "cell_type": "code",
      "source": [
        "from eXNN.topology import plot_barcode\n",
        "from eXNN.topology import get_nn_barcodes\n",
        "from eXNN.topology.metrics import compute_metric\n",
        "\n",
        "def evaluate_model_generalizability(net, data_train, data_test, layers):\n",
        "  results_comp = {i: {} for i in layers}\n",
        "\n",
        "  # Here we get barcodes - instruments for investigating persistent topology of embeddings - for train and test data\n",
        "  barcodes_train = get_nn_barcodes(model = net, data = data_train, layers = layers, hom_type = 'standard', coefs_type = '2')\n",
        "  barcodes_test = get_nn_barcodes(model = net, data = data_test, layers = layers, hom_type = 'standard', coefs_type = '2')\n",
        "\n",
        "  # In ord\n",
        "  for layer in layers:\n",
        "    results_comp[layer][\"train\"] = compute_metric(barcodes_train[layer], 'normh')\n",
        "    results_comp[layer][\"test\"] = compute_metric(barcodes_test[layer], 'normh')\n",
        "\n",
        "  return results_comp"
      ],
      "metadata": {
        "id": "AmrY8iExg81c"
      },
      "execution_count": null,
      "outputs": []
    },
    {
      "cell_type": "markdown",
      "source": [
        "Here we get some number of data from train and test datasets in order to test our model"
      ],
      "metadata": {
        "id": "0pJsCLAz0tUw"
      }
    },
    {
      "cell_type": "code",
      "source": [
        "n_batches = 5\n",
        "\n",
        "train_iterator = iter(train_dl)\n",
        "train_batch = torch.cat([x[0] for _, x in zip(range(n_batches), train_dl)], dim = 0)\n",
        "\n",
        "test_iterator = iter(test_dl)\n",
        "test_batch = torch.cat([x[0] for _, x in zip(range(n_batches), test_dl)], dim = 0)"
      ],
      "metadata": {
        "id": "A5cotBUez6-s"
      },
      "execution_count": null,
      "outputs": []
    },
    {
      "cell_type": "markdown",
      "source": [
        "Let's get barcodes for training and test data for model that is trained well and plot them in order to see differences"
      ],
      "metadata": {
        "id": "4xpOsJXu13fZ"
      }
    },
    {
      "cell_type": "code",
      "source": [
        "barcodes_train = get_nn_barcodes(model = model_good, data = train_batch, layers = ['layer4', 'avgpool'], hom_type = 'standard', coefs_type = '2')\n",
        "barcodes_test = get_nn_barcodes(model = model_good, data = test_batch, layers = ['layer4', 'avgpool'], hom_type = 'standard', coefs_type = '2')\n",
        "\n",
        "print(\"Train results\")\n",
        "display(plot_barcode(barcodes_train['layer4']))\n",
        "print(\"Test results\")\n",
        "display(plot_barcode(barcodes_test['layer4']))"
      ],
      "metadata": {
        "colab": {
          "base_uri": "https://localhost:8080/",
          "height": 954
        },
        "id": "ntij0URO0535",
        "outputId": "f556ca3f-b3a7-42a3-a2b9-d82504382a03"
      },
      "execution_count": null,
      "outputs": [
        {
          "output_type": "stream",
          "name": "stdout",
          "text": [
            "Train results\n"
          ]
        },
        {
          "output_type": "display_data",
          "data": {
            "text/plain": [
              "<Figure size 1500x500 with 1 Axes>"
            ],
            "image/png": "[encoded data removed]"
          },
          "metadata": {}
        },
        {
          "output_type": "stream",
          "name": "stdout",
          "text": [
            "Test results\n"
          ]
        },
        {
          "output_type": "display_data",
          "data": {
            "text/plain": [
              "<Figure size 1500x500 with 1 Axes>"
            ],
            "image/png": "[encoded data removed]"
          },
          "metadata": {}
        }
      ]
    },
    {
      "cell_type": "markdown",
      "source": [
        "Let's get barcodes for undertrained model too"
      ],
      "metadata": {
        "id": "PgnbmqQg2bRE"
      }
    },
    {
      "cell_type": "code",
      "source": [
        "barcodes_train1 = get_nn_barcodes(model = model_bad, data = train_batch, layers = ['layer4', 'avgpool'], hom_type = 'standard', coefs_type = '2')\n",
        "barcodes_test1 = get_nn_barcodes(model = model_bad, data = test_batch, layers = ['layer4', 'avgpool'], hom_type = 'standard', coefs_type = '2')\n",
        "\n",
        "print(\"Train results\")\n",
        "display(plot_barcode(barcodes_train1['layer4']))\n",
        "print(\"Test results\")\n",
        "display(plot_barcode(barcodes_test1['layer4']))"
      ],
      "metadata": {
        "colab": {
          "base_uri": "https://localhost:8080/",
          "height": 954
        },
        "id": "Idwo4FZ-2myV",
        "outputId": "9f409d03-944e-4dde-8323-ffd5e8f7b675"
      },
      "execution_count": null,
      "outputs": [
        {
          "output_type": "stream",
          "name": "stdout",
          "text": [
            "Train results\n"
          ]
        },
        {
          "output_type": "display_data",
          "data": {
            "text/plain": [
              "<Figure size 1500x500 with 1 Axes>"
            ],
            "image/png": "[encoded data removed]"
          },
          "metadata": {}
        },
        {
          "output_type": "stream",
          "name": "stdout",
          "text": [
            "Test results\n"
          ]
        },
        {
          "output_type": "display_data",
          "data": {
            "text/plain": [
              "<Figure size 1500x500 with 1 Axes>"
            ],
            "image/png": "[encoded data removed]"
          },
          "metadata": {}
        }
      ]
    },
    {
      "cell_type": "markdown",
      "source": [
        "In these examples, we can already see that the barcodes for the training and test data for a well-trained model are exactly the same, but for the test data they are significantly different.\n",
        "\n",
        "Nevertheless, on practice it can be more suitable not to see the difference between pictures, but to compare some numbers and make conclusions based on this. For this purpose eXNN provide some metrics (on practice, often persistent entropy is the most useful, but there can be cases when others are more applicable)."
      ],
      "metadata": {
        "id": "-6Kvky_C24Uk"
      }
    },
    {
      "cell_type": "code",
      "source": [
        "import pandas as pd\n",
        "import matplotlib.pyplot as plt\n",
        "df = pd.DataFrame([['Model_good','train', compute_metric(barcodes_train['layer4'], 'normh')],\n",
        "                   ['Model_good','test', compute_metric(barcodes_test['layer4'], 'normh')],\n",
        "                   ['Model_bad','train', compute_metric(barcodes_train1['layer4'], 'normh')],\n",
        "                   ['Model_bad','test', compute_metric(barcodes_test1['layer4'], 'normh')]],\n",
        "                  columns=['Model','Group','Val'])\n",
        "\n",
        "df.pivot(\"Model\", \"Group\", \"Val\").plot(kind='bar')\n",
        "\n",
        "plt.title(\"Persistent entropy on train and on test for both models\")\n",
        "plt.ylabel(\"Persistent entropy\")\n",
        "plt.show()"
      ],
      "metadata": {
        "colab": {
          "base_uri": "https://localhost:8080/",
          "height": 541
        },
        "id": "QnnDy70shCfj",
        "outputId": "7eb3dc9c-6642-47b6-927e-84bc75a4522e"
      },
      "execution_count": null,
      "outputs": [
        {
          "output_type": "display_data",
          "data": {
            "text/plain": [
              "<Figure size 640x480 with 1 Axes>"
            ],
            "image/png": "[encoded data removed]"
          },
          "metadata": {}
        }
      ]
    },
    {
      "cell_type": "markdown",
      "source": [
        "The graph shows that the numbers differ more for an undertrained model than for a well-trained one."
      ],
      "metadata": {
        "id": "Dsxxc_Tx4WdE"
      }
    },
    {
      "cell_type": "code",
      "source": [
        "df"
      ],
      "metadata": {
        "colab": {
          "base_uri": "https://localhost:8080/",
          "height": 174
        },
        "id": "s1jROoGU4GE2",
        "outputId": "d34d6196-5cf7-49d1-dcb8-6174156c49e0"
      },
      "execution_count": null,
      "outputs": [
        {
          "output_type": "execute_result",
          "data": {
            "text/plain": [
              "        Model  Group       Val\n",
              "0  Model_good  train  0.572326\n",
              "1  Model_good   test  0.569141\n",
              "2   Model_bad  train  0.816321\n",
              "3   Model_bad   test  0.808888"
            ],
            "text/html": [
              "\n",
              "  <div id=\"df-09f88442-4f75-445f-9517-233615e0895a\" class=\"colab-df-container\">\n",
              "    <div>\n",
              "<style scoped>\n",
              "    .dataframe tbody tr th:only-of-type {\n",
              "        vertical-align: middle;\n",
              "    }\n",
              "\n",
              "    .dataframe tbody tr th {\n",
              "        vertical-align: top;\n",
              "    }\n",
              "\n",
              "    .dataframe thead th {\n",
              "        text-align: right;\n",
              "    }\n",
              "</style>\n",
              "<table border=\"1\" class=\"dataframe\">\n",
              "  <thead>\n",
              "    <tr style=\"text-align: right;\">\n",
              "      <th></th>\n",
              "      <th>Model</th>\n",
              "      <th>Group</th>\n",
              "      <th>Val</th>\n",
              "    </tr>\n",
              "  </thead>\n",
              "  <tbody>\n",
              "    <tr>\n",
              "      <th>0</th>\n",
              "      <td>Model_good</td>\n",
              "      <td>train</td>\n",
              "      <td>0.572326</td>\n",
              "    </tr>\n",
              "    <tr>\n",
              "      <th>1</th>\n",
              "      <td>Model_good</td>\n",
              "      <td>test</td>\n",
              "      <td>0.569141</td>\n",
              "    </tr>\n",
              "    <tr>\n",
              "      <th>2</th>\n",
              "      <td>Model_bad</td>\n",
              "      <td>train</td>\n",
              "      <td>0.816321</td>\n",
              "    </tr>\n",
              "    <tr>\n",
              "      <th>3</th>\n",
              "      <td>Model_bad</td>\n",
              "      <td>test</td>\n",
              "      <td>0.808888</td>\n",
              "    </tr>\n",
              "  </tbody>\n",
              "</table>\n",
              "</div>\n",
              "    <div class=\"colab-df-buttons\">\n",
              "\n",
              "  <div class=\"colab-df-container\">\n",
              "    <button class=\"colab-df-convert\" onclick=\"convertToInteractive('df-09f88442-4f75-445f-9517-233615e0895a')\"\n",
              "            title=\"Convert this dataframe to an interactive table.\"\n",
              "            style=\"display:none;\">\n",
              "\n",
              "  <svg xmlns=\"http://www.w3.org/2000/svg\" height=\"24px\" viewBox=\"0 -960 960 960\">\n",
              "    <path d=\"M120-120v-720h720v720H120Zm60-500h600v-160H180v160Zm220 220h160v-160H400v160Zm0 220h160v-160H400v160ZM180-400h160v-160H180v160Zm440 0h160v-160H620v160ZM180-180h160v-160H180v160Zm440 0h160v-160H620v160Z\"/>\n",
              "  </svg>\n",
              "    </button>\n",
              "\n",
              "  <style>\n",
              "    .colab-df-container {\n",
              "      display:flex;\n",
              "      gap: 12px;\n",
              "    }\n",
              "\n",
              "    .colab-df-convert {\n",
              "      background-color: #E8F0FE;\n",
              "      border: none;\n",
              "      border-radius: 50%;\n",
              "      cursor: pointer;\n",
              "      display: none;\n",
              "      fill: #1967D2;\n",
              "      height: 32px;\n",
              "      padding: 0 0 0 0;\n",
              "      width: 32px;\n",
              "    }\n",
              "\n",
              "    .colab-df-convert:hover {\n",
              "      background-color: #E2EBFA;\n",
              "      box-shadow: 0px 1px 2px rgba(60, 64, 67, 0.3), 0px 1px 3px 1px rgba(60, 64, 67, 0.15);\n",
              "      fill: #174EA6;\n",
              "    }\n",
              "\n",
              "    .colab-df-buttons div {\n",
              "      margin-bottom: 4px;\n",
              "    }\n",
              "\n",
              "    [theme=dark] .colab-df-convert {\n",
              "      background-color: #3B4455;\n",
              "      fill: #D2E3FC;\n",
              "    }\n",
              "\n",
              "    [theme=dark] .colab-df-convert:hover {\n",
              "      background-color: #434B5C;\n",
              "      box-shadow: 0px 1px 3px 1px rgba(0, 0, 0, 0.15);\n",
              "      filter: drop-shadow(0px 1px 2px rgba(0, 0, 0, 0.3));\n",
              "      fill: #FFFFFF;\n",
              "    }\n",
              "  </style>\n",
              "\n",
              "    <script>\n",
              "      const buttonEl =\n",
              "        document.querySelector('#df-09f88442-4f75-445f-9517-233615e0895a button.colab-df-convert');\n",
              "      buttonEl.style.display =\n",
              "        google.colab.kernel.accessAllowed ? 'block' : 'none';\n",
              "\n",
              "      async function convertToInteractive(key) {\n",
              "        const element = document.querySelector('#df-09f88442-4f75-445f-9517-233615e0895a');\n",
              "        const dataTable =\n",
              "          await google.colab.kernel.invokeFunction('convertToInteractive',\n",
              "                                                    [key], {});\n",
              "        if (!dataTable) return;\n",
              "\n",
              "        const docLinkHtml = 'Like what you see? Visit the ' +\n",
              "          '<a target=\"_blank\" href=https://colab.research.google.com/notebooks/data_table.ipynb>data table notebook</a>'\n",
              "          + ' to learn more about interactive tables.';\n",
              "        element.innerHTML = '';\n",
              "        dataTable['output_type'] = 'display_data';\n",
              "        await google.colab.output.renderOutput(dataTable, element);\n",
              "        const docLink = document.createElement('div');\n",
              "        docLink.innerHTML = docLinkHtml;\n",
              "        element.appendChild(docLink);\n",
              "      }\n",
              "    </script>\n",
              "  </div>\n",
              "\n",
              "\n",
              "<div id=\"df-2590b544-cfa2-4a9e-99a1-913c09212d5e\">\n",
              "  <button class=\"colab-df-quickchart\" onclick=\"quickchart('df-2590b544-cfa2-4a9e-99a1-913c09212d5e')\"\n",
              "            title=\"Suggest charts\"\n",
              "            style=\"display:none;\">\n",
              "\n",
              "<svg xmlns=\"http://www.w3.org/2000/svg\" height=\"24px\"viewBox=\"0 0 24 24\"\n",
              "     width=\"24px\">\n",
              "    <g>\n",
              "        <path d=\"M19 3H5c-1.1 0-2 .9-2 2v14c0 1.1.9 2 2 2h14c1.1 0 2-.9 2-2V5c0-1.1-.9-2-2-2zM9 17H7v-7h2v7zm4 0h-2V7h2v10zm4 0h-2v-4h2v4z\"/>\n",
              "    </g>\n",
              "</svg>\n",
              "  </button>\n",
              "\n",
              "<style>\n",
              "  .colab-df-quickchart {\n",
              "      --bg-color: #E8F0FE;\n",
              "      --fill-color: #1967D2;\n",
              "      --hover-bg-color: #E2EBFA;\n",
              "      --hover-fill-color: #174EA6;\n",
              "      --disabled-fill-color: #AAA;\n",
              "      --disabled-bg-color: #DDD;\n",
              "  }\n",
              "\n",
              "  [theme=dark] .colab-df-quickchart {\n",
              "      --bg-color: #3B4455;\n",
              "      --fill-color: #D2E3FC;\n",
              "      --hover-bg-color: #434B5C;\n",
              "      --hover-fill-color: #FFFFFF;\n",
              "      --disabled-bg-color: #3B4455;\n",
              "      --disabled-fill-color: #666;\n",
              "  }\n",
              "\n",
              "  .colab-df-quickchart {\n",
              "    background-color: var(--bg-color);\n",
              "    border: none;\n",
              "    border-radius: 50%;\n",
              "    cursor: pointer;\n",
              "    display: none;\n",
              "    fill: var(--fill-color);\n",
              "    height: 32px;\n",
              "    padding: 0;\n",
              "    width: 32px;\n",
              "  }\n",
              "\n",
              "  .colab-df-quickchart:hover {\n",
              "    background-color: var(--hover-bg-color);\n",
              "    box-shadow: 0 1px 2px rgba(60, 64, 67, 0.3), 0 1px 3px 1px rgba(60, 64, 67, 0.15);\n",
              "    fill: var(--button-hover-fill-color);\n",
              "  }\n",
              "\n",
              "  .colab-df-quickchart-complete:disabled,\n",
              "  .colab-df-quickchart-complete:disabled:hover {\n",
              "    background-color: var(--disabled-bg-color);\n",
              "    fill: var(--disabled-fill-color);\n",
              "    box-shadow: none;\n",
              "  }\n",
              "\n",
              "  .colab-df-spinner {\n",
              "    border: 2px solid var(--fill-color);\n",
              "    border-color: transparent;\n",
              "    border-bottom-color: var(--fill-color);\n",
              "    animation:\n",
              "      spin 1s steps(1) infinite;\n",
              "  }\n",
              "\n",
              "  @keyframes spin {\n",
              "    0% {\n",
              "      border-color: transparent;\n",
              "      border-bottom-color: var(--fill-color);\n",
              "      border-left-color: var(--fill-color);\n",
              "    }\n",
              "    20% {\n",
              "      border-color: transparent;\n",
              "      border-left-color: var(--fill-color);\n",
              "      border-top-color: var(--fill-color);\n",
              "    }\n",
              "    30% {\n",
              "      border-color: transparent;\n",
              "      border-left-color: var(--fill-color);\n",
              "      border-top-color: var(--fill-color);\n",
              "      border-right-color: var(--fill-color);\n",
              "    }\n",
              "    40% {\n",
              "      border-color: transparent;\n",
              "      border-right-color: var(--fill-color);\n",
              "      border-top-color: var(--fill-color);\n",
              "    }\n",
              "    60% {\n",
              "      border-color: transparent;\n",
              "      border-right-color: var(--fill-color);\n",
              "    }\n",
              "    80% {\n",
              "      border-color: transparent;\n",
              "      border-right-color: var(--fill-color);\n",
              "      border-bottom-color: var(--fill-color);\n",
              "    }\n",
              "    90% {\n",
              "      border-color: transparent;\n",
              "      border-bottom-color: var(--fill-color);\n",
              "    }\n",
              "  }\n",
              "</style>\n",
              "\n",
              "  <script>\n",
              "    async function quickchart(key) {\n",
              "      const quickchartButtonEl =\n",
              "        document.querySelector('#' + key + ' button');\n",
              "      quickchartButtonEl.disabled = true;  // To prevent multiple clicks.\n",
              "      quickchartButtonEl.classList.add('colab-df-spinner');\n",
              "      try {\n",
              "        const charts = await google.colab.kernel.invokeFunction(\n",
              "            'suggestCharts', [key], {});\n",
              "      } catch (error) {\n",
              "        console.error('Error during call to suggestCharts:', error);\n",
              "      }\n",
              "      quickchartButtonEl.classList.remove('colab-df-spinner');\n",
              "      quickchartButtonEl.classList.add('colab-df-quickchart-complete');\n",
              "    }\n",
              "    (() => {\n",
              "      let quickchartButtonEl =\n",
              "        document.querySelector('#df-2590b544-cfa2-4a9e-99a1-913c09212d5e button');\n",
              "      quickchartButtonEl.style.display =\n",
              "        google.colab.kernel.accessAllowed ? 'block' : 'none';\n",
              "    })();\n",
              "  </script>\n",
              "</div>\n",
              "    </div>\n",
              "  </div>\n"
            ]
          },
          "metadata": {},
          "execution_count": 47
        }
      ]
    },
    {
      "cell_type": "code",
      "source": [],
      "metadata": {
        "id": "kb_T52PF8y1W"
      },
      "execution_count": null,
      "outputs": []
    }
  ]
}